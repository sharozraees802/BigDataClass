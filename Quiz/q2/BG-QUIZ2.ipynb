{
 "cells": [
  {
   "cell_type": "markdown",
   "metadata": {},
   "source": [
    "<h1><center>Muhammad Sheroz 9852 Quiz#2</center></h1>"
   ]
  },
  {
   "cell_type": "code",
   "execution_count": 51,
   "metadata": {},
   "outputs": [],
   "source": [
    "from pyspark.sql import SparkSession"
   ]
  },
  {
   "cell_type": "code",
   "execution_count": 52,
   "metadata": {},
   "outputs": [],
   "source": [
    "spark = SparkSession.builder.appName(\"pySpWordCountCSV\").getOrCreate()"
   ]
  },
  {
   "cell_type": "code",
   "execution_count": 53,
   "metadata": {},
   "outputs": [],
   "source": [
    "coutData = spark.read.csv(\"./data/Country.csv\",inferSchema=True, header = True)\n",
    "saleData = spark.read.csv(\"./data/Sales.csv\",inferSchema=True, header = True)"
   ]
  },
  {
   "cell_type": "markdown",
   "metadata": {},
   "source": [
    "<h1><center>1) join both the data sets</center></h1>"
   ]
  },
  {
   "cell_type": "code",
   "execution_count": 54,
   "metadata": {},
   "outputs": [
    {
     "name": "stdout",
     "output_type": "stream",
     "text": [
      "+------+--------------------+--------------------+---------+----------+---------------+---------+---------+--------+------+\n",
      "|CtryCd|             Country|              Region|  OrderID| OrderDate|       ItemType|UnitsSold|UnitPrice|UnitCost|CtryCd|\n",
      "+------+--------------------+--------------------+---------+----------+---------------+---------+---------+--------+------+\n",
      "|    AL|             Albania|              Europe|385383069|  2/2/2010|        Clothes|     2269|   109.28|   35.84|    AL|\n",
      "|    AO|              Angola|  Sub-Saharan Africa|135425221| 4/23/2011|      Household|     4187|   668.27|  502.54|    AO|\n",
      "|    AT|             Austria|              Europe|868214595| 2/23/2015|      Cosmetics|     2847|    437.2|  263.33|    AT|\n",
      "|    AU|           Australia|Australia and Oce...|240470397|  7/7/2014|      Beverages|     9389|    47.45|   31.79|    AU|\n",
      "|    AU|           Australia|Australia and Oce...|450563752|  6/9/2013|         Cereal|      682|    205.7|  117.11|    AU|\n",
      "|    AU|           Australia|Australia and Oce...|158535134|10/27/2015|Office Supplies|     2924|   651.21|  524.96|    AU|\n",
      "|    AZ|          Azerbaijan|Middle East and N...|963392674|  2/8/2011|      Beverages|     8156|    47.45|   31.79|    AZ|\n",
      "|    AZ|          Azerbaijan|Middle East and N...|423331391| 6/13/2012|Office Supplies|     2021|   651.21|  524.96|    AZ|\n",
      "|    AZ|          Azerbaijan|Middle East and N...|382392299|  2/6/2010|      Cosmetics|     7234|    437.2|  263.33|    AZ|\n",
      "|    BD|          Bangladesh|                Asia|187310731| 1/13/2017|        Clothes|     8263|   109.28|   35.84|    BD|\n",
      "|    BF|        Burkina Faso|  Sub-Saharan Africa|871543967| 7/17/2012|     Vegetables|     8082|   154.06|   90.93|    BF|\n",
      "|    BG|            Bulgaria|              Europe|189965903| 2/16/2012|Office Supplies|     3987|   651.21|  524.96|    BG|\n",
      "|    BG|            Bulgaria|              Europe|972292029| 4/23/2012|        Clothes|     1673|   109.28|   35.84|    BG|\n",
      "|    BN|              Brunei|                Asia|320009267|  4/1/2012|Office Supplies|     6708|   651.21|  524.96|    BN|\n",
      "|    BZ|              Belize|Central America a...|807025039| 7/25/2016|        Clothes|     5498|   109.28|   35.84|    BZ|\n",
      "|    CD|Congo, the Democr...|  Sub-Saharan Africa|585920464| 5/26/2011|      Beverages|     5741|    47.45|   31.79|    CD|\n",
      "|    CG|Republic of the C...|  Sub-Saharan Africa|770463311| 7/14/2015|  Personal Care|     6070|    81.73|   56.67|    CG|\n",
      "|    CH|         Switzerland|              Europe|617667090|12/23/2010|  Personal Care|      273|    81.73|   56.67|    CH|\n",
      "|    CH|         Switzerland|              Europe|249693334| 9/17/2012|      Cosmetics|     8661|    437.2|  263.33|    CH|\n",
      "|    CI|       Cote d'Ivoire|  Sub-Saharan Africa|114606559|  6/8/2012|        Clothes|     3482|   109.28|   35.84|    CI|\n",
      "+------+--------------------+--------------------+---------+----------+---------------+---------+---------+--------+------+\n",
      "only showing top 20 rows\n",
      "\n"
     ]
    }
   ],
   "source": [
    "res04= coutData.join(saleData,coutData.CtryCd==saleData.CtryCd, 'left')\n",
    "res04.show()"
   ]
  },
  {
   "cell_type": "markdown",
   "metadata": {},
   "source": [
    "<h1><center>2) calculate Sales Amount by multiplying Price by Units Sold</center></h1>"
   ]
  },
  {
   "cell_type": "code",
   "execution_count": 55,
   "metadata": {},
   "outputs": [
    {
     "name": "stdout",
     "output_type": "stream",
     "text": [
      "+------+--------------------+--------------------+---------+----------+---------------+---------+---------+--------+------+------------------+\n",
      "|CtryCd|             Country|              Region|  OrderID| OrderDate|       ItemType|UnitsSold|UnitPrice|UnitCost|CtryCd|        SaleAmount|\n",
      "+------+--------------------+--------------------+---------+----------+---------------+---------+---------+--------+------+------------------+\n",
      "|    AL|             Albania|              Europe|385383069|  2/2/2010|        Clothes|     2269|   109.28|   35.84|    AL|         247956.32|\n",
      "|    AO|              Angola|  Sub-Saharan Africa|135425221| 4/23/2011|      Household|     4187|   668.27|  502.54|    AO|2798046.4899999998|\n",
      "|    AT|             Austria|              Europe|868214595| 2/23/2015|      Cosmetics|     2847|    437.2|  263.33|    AT|         1244708.4|\n",
      "|    AU|           Australia|Australia and Oce...|240470397|  7/7/2014|      Beverages|     9389|    47.45|   31.79|    AU|445508.05000000005|\n",
      "|    AU|           Australia|Australia and Oce...|450563752|  6/9/2013|         Cereal|      682|    205.7|  117.11|    AU|          140287.4|\n",
      "|    AU|           Australia|Australia and Oce...|158535134|10/27/2015|Office Supplies|     2924|   651.21|  524.96|    AU|        1904138.04|\n",
      "|    AZ|          Azerbaijan|Middle East and N...|963392674|  2/8/2011|      Beverages|     8156|    47.45|   31.79|    AZ|          387002.2|\n",
      "|    AZ|          Azerbaijan|Middle East and N...|423331391| 6/13/2012|Office Supplies|     2021|   651.21|  524.96|    AZ|1316095.4100000001|\n",
      "|    AZ|          Azerbaijan|Middle East and N...|382392299|  2/6/2010|      Cosmetics|     7234|    437.2|  263.33|    AZ|         3162704.8|\n",
      "|    BD|          Bangladesh|                Asia|187310731| 1/13/2017|        Clothes|     8263|   109.28|   35.84|    BD|         902980.64|\n",
      "|    BF|        Burkina Faso|  Sub-Saharan Africa|871543967| 7/17/2012|     Vegetables|     8082|   154.06|   90.93|    BF|        1245112.92|\n",
      "|    BG|            Bulgaria|              Europe|189965903| 2/16/2012|Office Supplies|     3987|   651.21|  524.96|    BG|        2596374.27|\n",
      "|    BG|            Bulgaria|              Europe|972292029| 4/23/2012|        Clothes|     1673|   109.28|   35.84|    BG|         182825.44|\n",
      "|    BN|              Brunei|                Asia|320009267|  4/1/2012|Office Supplies|     6708|   651.21|  524.96|    BN| 4368316.680000001|\n",
      "|    BZ|              Belize|Central America a...|807025039| 7/25/2016|        Clothes|     5498|   109.28|   35.84|    BZ| 600821.4400000001|\n",
      "|    CD|Congo, the Democr...|  Sub-Saharan Africa|585920464| 5/26/2011|      Beverages|     5741|    47.45|   31.79|    CD|         272410.45|\n",
      "|    CG|Republic of the C...|  Sub-Saharan Africa|770463311| 7/14/2015|  Personal Care|     6070|    81.73|   56.67|    CG|496101.10000000003|\n",
      "|    CH|         Switzerland|              Europe|617667090|12/23/2010|  Personal Care|      273|    81.73|   56.67|    CH|          22312.29|\n",
      "|    CH|         Switzerland|              Europe|249693334| 9/17/2012|      Cosmetics|     8661|    437.2|  263.33|    CH|3786589.1999999997|\n",
      "|    CI|       Cote d'Ivoire|  Sub-Saharan Africa|114606559|  6/8/2012|        Clothes|     3482|   109.28|   35.84|    CI|         380512.96|\n",
      "+------+--------------------+--------------------+---------+----------+---------------+---------+---------+--------+------+------------------+\n",
      "only showing top 20 rows\n",
      "\n"
     ]
    }
   ],
   "source": [
    "res04 = res04.withColumn('SaleAmount', res04.UnitsSold* res04.UnitPrice)\n",
    "res04.show()"
   ]
  },
  {
   "cell_type": "code",
   "execution_count": null,
   "metadata": {},
   "outputs": [],
   "source": []
  },
  {
   "cell_type": "markdown",
   "metadata": {},
   "source": [
    "<h1><center>3) calculate the Profit/Loss of each Item Type</center></h1>"
   ]
  },
  {
   "cell_type": "code",
   "execution_count": 57,
   "metadata": {},
   "outputs": [
    {
     "data": {
      "text/plain": [
       "[['Clothes', 73.44],\n",
       " ['Household', 165.72999999999996],\n",
       " ['Cosmetics', 173.87],\n",
       " ['Beverages', 15.660000000000004],\n",
       " ['Cereal', 88.58999999999999],\n",
       " ['Office Supplies', 126.25],\n",
       " ['Beverages', 15.660000000000004],\n",
       " ['Office Supplies', 126.25],\n",
       " ['Cosmetics', 173.87],\n",
       " ['Clothes', 73.44],\n",
       " ['Vegetables', 63.129999999999995],\n",
       " ['Office Supplies', 126.25],\n",
       " ['Clothes', 73.44],\n",
       " ['Office Supplies', 126.25],\n",
       " ['Clothes', 73.44],\n",
       " ['Beverages', 15.660000000000004],\n",
       " ['Personal Care', 25.060000000000002],\n",
       " ['Personal Care', 25.060000000000002],\n",
       " ['Cosmetics', 173.87],\n",
       " ['Clothes', 73.44],\n",
       " ['Office Supplies', 126.25],\n",
       " ['Beverages', 15.660000000000004],\n",
       " ['Personal Care', 25.060000000000002],\n",
       " ['Clothes', 73.44],\n",
       " ['Cereal', 88.58999999999999],\n",
       " ['Cosmetics', 173.87],\n",
       " ['Snacks', 55.140000000000015],\n",
       " ['Household', 165.72999999999996],\n",
       " ['Clothes', 73.44],\n",
       " ['Beverages', 15.660000000000004],\n",
       " ['Cosmetics', 173.87],\n",
       " ['Personal Care', 25.060000000000002],\n",
       " ['Household', 165.72999999999996],\n",
       " ['Cereal', 88.58999999999999],\n",
       " ['Baby Food', 95.86000000000001],\n",
       " ['Cereal', 88.58999999999999],\n",
       " ['Meat', 57.19999999999999],\n",
       " ['Household', 165.72999999999996],\n",
       " ['Snacks', 55.140000000000015],\n",
       " ['Household', 165.72999999999996],\n",
       " ['Cosmetics', 173.87],\n",
       " ['Cosmetics', 173.87],\n",
       " ['Cosmetics', 173.87],\n",
       " ['Vegetables', 63.129999999999995],\n",
       " ['Vegetables', 63.129999999999995],\n",
       " ['Fruits', 2.41],\n",
       " ['Cereal', 88.58999999999999],\n",
       " ['Fruits', 2.41],\n",
       " ['Vegetables', 63.129999999999995],\n",
       " ['Clothes', 73.44],\n",
       " ['Cosmetics', 173.87],\n",
       " ['Fruits', 2.41],\n",
       " ['Office Supplies', 126.25],\n",
       " ['Fruits', 2.41],\n",
       " ['Clothes', 73.44],\n",
       " ['Baby Food', 95.86000000000001],\n",
       " ['Personal Care', 25.060000000000002],\n",
       " ['Clothes', 73.44],\n",
       " ['Clothes', 73.44],\n",
       " ['Clothes', 73.44],\n",
       " ['Fruits', 2.41],\n",
       " ['Clothes', 73.44],\n",
       " ['Household', 165.72999999999996],\n",
       " ['Personal Care', 25.060000000000002],\n",
       " ['Office Supplies', 126.25],\n",
       " ['Personal Care', 25.060000000000002],\n",
       " ['Personal Care', 25.060000000000002],\n",
       " ['Household', 165.72999999999996],\n",
       " ['Fruits', 2.41],\n",
       " ['Household', 165.72999999999996],\n",
       " ['Personal Care', 25.060000000000002],\n",
       " ['Beverages', 15.660000000000004],\n",
       " ['Baby Food', 95.86000000000001],\n",
       " ['Fruits', 2.41],\n",
       " ['Cosmetics', 173.87],\n",
       " ['Baby Food', 95.86000000000001],\n",
       " ['Cosmetics', 173.87],\n",
       " ['Office Supplies', 126.25],\n",
       " ['Cosmetics', 173.87],\n",
       " ['Office Supplies', 126.25],\n",
       " ['Cereal', 88.58999999999999],\n",
       " ['Baby Food', 95.86000000000001],\n",
       " ['Beverages', 15.660000000000004],\n",
       " ['Vegetables', 63.129999999999995],\n",
       " ['Vegetables', 63.129999999999995],\n",
       " ['Office Supplies', 126.25],\n",
       " ['Office Supplies', 126.25],\n",
       " ['Baby Food', 95.86000000000001],\n",
       " ['Cereal', 88.58999999999999],\n",
       " ['Personal Care', 25.060000000000002],\n",
       " ['Beverages', 15.660000000000004],\n",
       " ['Fruits', 2.41],\n",
       " ['Fruits', 2.41],\n",
       " ['Fruits', 2.41],\n",
       " ['Meat', 57.19999999999999],\n",
       " ['Office Supplies', 126.25],\n",
       " ['Household', 165.72999999999996],\n",
       " ['Baby Food', 95.86000000000001],\n",
       " ['Cosmetics', 173.87],\n",
       " ['Snacks', 55.140000000000015]]"
      ]
     },
     "execution_count": 57,
     "metadata": {},
     "output_type": "execute_result"
    }
   ],
   "source": [
    "res04 = res04.rdd\n",
    "res04 = res04.map(lambda x: [x[5],x[7] -x[8]])\n",
    "res04.collect()"
   ]
  },
  {
   "cell_type": "code",
   "execution_count": 61,
   "metadata": {},
   "outputs": [
    {
     "name": "stdout",
     "output_type": "stream",
     "text": [
      "+---------------+------------------+\n",
      "|        Product|            Profit|\n",
      "+---------------+------------------+\n",
      "|         Snacks|55.140000000000015|\n",
      "|           Meat| 57.19999999999999|\n",
      "|      Baby Food| 95.86000000000001|\n",
      "|        Clothes|             73.44|\n",
      "|      Beverages|15.660000000000004|\n",
      "|Office Supplies|            126.25|\n",
      "|      Cosmetics|            173.87|\n",
      "|     Vegetables|63.129999999999995|\n",
      "|         Fruits|              2.41|\n",
      "|      Household|165.72999999999996|\n",
      "|         Cereal| 88.58999999999999|\n",
      "|  Personal Care|25.060000000000002|\n",
      "+---------------+------------------+\n",
      "\n"
     ]
    }
   ],
   "source": [
    "res05 = res04.toDF(['Product','Profit'])\n",
    "res05.distinct().show()"
   ]
  },
  {
   "cell_type": "markdown",
   "metadata": {},
   "source": [
    "<h1><center>4) calculate average sales per region</center></h1>"
   ]
  },
  {
   "cell_type": "code",
   "execution_count": 63,
   "metadata": {},
   "outputs": [
    {
     "ename": "TypeError",
     "evalue": "groupBy() missing 1 required positional argument: 'f'",
     "output_type": "error",
     "traceback": [
      "\u001b[1;31m---------------------------------------------------------------------------\u001b[0m",
      "\u001b[1;31mTypeError\u001b[0m                                 Traceback (most recent call last)",
      "\u001b[1;32m<ipython-input-63-93cf7d0801eb>\u001b[0m in \u001b[0;36m<module>\u001b[1;34m\u001b[0m\n\u001b[1;32m----> 1\u001b[1;33m \u001b[0mres04\u001b[0m\u001b[1;33m.\u001b[0m\u001b[0mgroupBy\u001b[0m\u001b[1;33m(\u001b[0m\u001b[1;33m)\u001b[0m\u001b[1;33m.\u001b[0m\u001b[0mavg\u001b[0m\u001b[1;33m(\u001b[0m\u001b[1;34m'SaleAmount'\u001b[0m\u001b[1;33m)\u001b[0m\u001b[1;33m.\u001b[0m\u001b[0mshow\u001b[0m\u001b[1;33m(\u001b[0m\u001b[1;33m)\u001b[0m\u001b[1;33m\u001b[0m\u001b[1;33m\u001b[0m\u001b[0m\n\u001b[0m",
      "\u001b[1;31mTypeError\u001b[0m: groupBy() missing 1 required positional argument: 'f'"
     ]
    }
   ],
   "source": [
    "res04.groupBy().avg('SaleAmount').show()"
   ]
  },
  {
   "cell_type": "code",
   "execution_count": null,
   "metadata": {},
   "outputs": [],
   "source": []
  },
  {
   "cell_type": "code",
   "execution_count": null,
   "metadata": {},
   "outputs": [],
   "source": []
  },
  {
   "cell_type": "markdown",
   "metadata": {},
   "source": [
    "<h1><center>5) calculate the number of Item Types per country</center></h1>"
   ]
  },
  {
   "cell_type": "code",
   "execution_count": null,
   "metadata": {},
   "outputs": [],
   "source": []
  },
  {
   "cell_type": "code",
   "execution_count": null,
   "metadata": {},
   "outputs": [],
   "source": []
  },
  {
   "cell_type": "markdown",
   "metadata": {},
   "source": [
    "<h1><center>6) get common Item Types in tow regions (select any two regions)</center></h1>"
   ]
  },
  {
   "cell_type": "code",
   "execution_count": null,
   "metadata": {},
   "outputs": [],
   "source": []
  },
  {
   "cell_type": "code",
   "execution_count": null,
   "metadata": {},
   "outputs": [],
   "source": []
  },
  {
   "cell_type": "code",
   "execution_count": null,
   "metadata": {},
   "outputs": [],
   "source": []
  }
 ],
 "metadata": {
  "kernelspec": {
   "display_name": "Python 3.6.8 ('quizenv': venv)",
   "language": "python",
   "name": "python3"
  },
  "language_info": {
   "codemirror_mode": {
    "name": "ipython",
    "version": 3
   },
   "file_extension": ".py",
   "mimetype": "text/x-python",
   "name": "python",
   "nbconvert_exporter": "python",
   "pygments_lexer": "ipython3",
   "version": "3.6.8"
  },
  "orig_nbformat": 4,
  "vscode": {
   "interpreter": {
    "hash": "2e38922bfe237a838d0436c41e8cf4e67ae82bd79accf89c273a54a34193119f"
   }
  }
 },
 "nbformat": 4,
 "nbformat_minor": 2
}
