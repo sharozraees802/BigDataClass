{
 "cells": [
  {
   "cell_type": "markdown",
   "metadata": {},
   "source": [
    "<h1><center>Kehkashan 9825 Quiz#2</center></h1>"
   ]
  },
  {
   "cell_type": "code",
   "execution_count": 1,
   "metadata": {},
   "outputs": [],
   "source": [
    "from pyspark.sql import SparkSession"
   ]
  },
  {
   "cell_type": "code",
   "execution_count": 2,
   "metadata": {},
   "outputs": [
    {
     "name": "stderr",
     "output_type": "stream",
     "text": [
      "e:\\Course\\Bigdata\\Quiz\\q1\\env\\lib\\site-packages\\pyspark\\context.py:238: FutureWarning: Python 3.6 support is deprecated in Spark 3.2.\n",
      "  FutureWarning\n"
     ]
    }
   ],
   "source": [
    "spark = SparkSession.builder.appName(\"pySpWordCountCSV\").getOrCreate()"
   ]
  },
  {
   "cell_type": "code",
   "execution_count": 4,
   "metadata": {},
   "outputs": [],
   "source": [
    "country = spark.read.csv(\"./data/Country.csv\",inferSchema=True, header = True)\n",
    "sales = spark.read.csv(\"./data/Sales.csv\",inferSchema=True, header = True)\n"
   ]
  },
  {
   "cell_type": "code",
   "execution_count": 5,
   "metadata": {},
   "outputs": [
    {
     "name": "stdout",
     "output_type": "stream",
     "text": [
      "+---------+----------+---------------+---------+---------+--------+------+\n",
      "|  OrderID| OrderDate|       ItemType|UnitsSold|UnitPrice|UnitCost|CtryCd|\n",
      "+---------+----------+---------------+---------+---------+--------+------+\n",
      "|669165933| 5/28/2010|      Baby Food|     9925|   255.28|  159.42|    TV|\n",
      "|963881480| 8/22/2012|         Cereal|     2804|    205.7|  117.11|    GD|\n",
      "|341417157|  5/2/2014|Office Supplies|     1779|   651.21|  524.96|    RU|\n",
      "|514321792| 6/20/2014|         Fruits|     8102|     9.33|    6.92|    ST|\n",
      "|115456712|  2/1/2013|Office Supplies|     5062|   651.21|  524.96|    RW|\n",
      "|547995746|  2/4/2015|      Baby Food|     2974|   255.28|  159.42|    SB|\n",
      "|135425221| 4/23/2011|      Household|     4187|   668.27|  502.54|    AO|\n",
      "|871543967| 7/17/2012|     Vegetables|     8082|   154.06|   90.93|    BF|\n",
      "|770463311| 7/14/2015|  Personal Care|     6070|    81.73|   56.67|    CG|\n",
      "|616607081| 4/18/2014|         Cereal|     6593|    205.7|  117.11|    SN|\n",
      "|814711606| 6/24/2011|     Vegetables|      124|   154.06|   90.93|    KG|\n",
      "|939825713|  8/2/2014|        Clothes|     4168|   109.28|   35.84|    CV|\n",
      "|187310731| 1/13/2017|        Clothes|     8263|   109.28|   35.84|    BD|\n",
      "|522840487|  2/8/2017|      Household|     8974|   668.27|  502.54|    HN|\n",
      "|832401311| 2/19/2014|  Personal Care|     4901|    81.73|   56.67|    MN|\n",
      "|972292029| 4/23/2012|        Clothes|     1673|   109.28|   35.84|    BG|\n",
      "|419123971|11/19/2016|      Cosmetics|     6952|    437.2|  263.33|    LK|\n",
      "|519820964|  4/1/2015|      Beverages|     5430|    47.45|   31.79|    CM|\n",
      "|441619336|12/30/2010|      Household|     3830|   668.27|  502.54|    TM|\n",
      "|322067916| 7/31/2012|           Meat|     5908|   421.89|  364.69|    TL|\n",
      "+---------+----------+---------------+---------+---------+--------+------+\n",
      "only showing top 20 rows\n",
      "\n"
     ]
    }
   ],
   "source": [
    "sales.show()"
   ]
  },
  {
   "cell_type": "code",
   "execution_count": 6,
   "metadata": {},
   "outputs": [
    {
     "name": "stdout",
     "output_type": "stream",
     "text": [
      "+------+--------------------+--------------------+\n",
      "|CtryCd|             Country|              Region|\n",
      "+------+--------------------+--------------------+\n",
      "|    AL|             Albania|              Europe|\n",
      "|    AO|              Angola|  Sub-Saharan Africa|\n",
      "|    AT|             Austria|              Europe|\n",
      "|    AU|           Australia|Australia and Oce...|\n",
      "|    AZ|          Azerbaijan|Middle East and N...|\n",
      "|    BD|          Bangladesh|                Asia|\n",
      "|    BF|        Burkina Faso|  Sub-Saharan Africa|\n",
      "|    BG|            Bulgaria|              Europe|\n",
      "|    BN|              Brunei|                Asia|\n",
      "|    BZ|              Belize|Central America a...|\n",
      "|    CD|Congo, the Democr...|  Sub-Saharan Africa|\n",
      "|    CG|Republic of the C...|  Sub-Saharan Africa|\n",
      "|    CH|         Switzerland|              Europe|\n",
      "|    CI|       Cote d'Ivoire|  Sub-Saharan Africa|\n",
      "|    CM|            Cameroon|  Sub-Saharan Africa|\n",
      "|    CR|          Costa Rica|Central America a...|\n",
      "|    CV|          Cape Verde|  Sub-Saharan Africa|\n",
      "|    DJ|            Djibouti|  Sub-Saharan Africa|\n",
      "|    ES|               Spain|              Europe|\n",
      "|    FJ|                Fiji|Australia and Oce...|\n",
      "+------+--------------------+--------------------+\n",
      "only showing top 20 rows\n",
      "\n"
     ]
    }
   ],
   "source": [
    "country.show()"
   ]
  },
  {
   "cell_type": "markdown",
   "metadata": {},
   "source": [
    "# Join Both Tables"
   ]
  },
  {
   "cell_type": "code",
   "execution_count": 7,
   "metadata": {},
   "outputs": [
    {
     "name": "stdout",
     "output_type": "stream",
     "text": [
      "+---------+----------+---------------+---------+---------+--------+------+------+--------------------+--------------------+\n",
      "|  OrderID| OrderDate|       ItemType|UnitsSold|UnitPrice|UnitCost|CtryCd|CtryCd|             Country|              Region|\n",
      "+---------+----------+---------------+---------+---------+--------+------+------+--------------------+--------------------+\n",
      "|669165933| 5/28/2010|      Baby Food|     9925|   255.28|  159.42|    TV|    TV|              Tuvalu|Australia and Oce...|\n",
      "|963881480| 8/22/2012|         Cereal|     2804|    205.7|  117.11|    GD|    GD|             Grenada|Central America a...|\n",
      "|341417157|  5/2/2014|Office Supplies|     1779|   651.21|  524.96|    RU|    RU|              Russia|              Europe|\n",
      "|514321792| 6/20/2014|         Fruits|     8102|     9.33|    6.92|    ST|    ST|Sao Tome and Prin...|  Sub-Saharan Africa|\n",
      "|115456712|  2/1/2013|Office Supplies|     5062|   651.21|  524.96|    RW|    RW|              Rwanda|  Sub-Saharan Africa|\n",
      "|547995746|  2/4/2015|      Baby Food|     2974|   255.28|  159.42|    SB|    SB|     Solomon Islands|Australia and Oce...|\n",
      "|135425221| 4/23/2011|      Household|     4187|   668.27|  502.54|    AO|    AO|              Angola|  Sub-Saharan Africa|\n",
      "|871543967| 7/17/2012|     Vegetables|     8082|   154.06|   90.93|    BF|    BF|        Burkina Faso|  Sub-Saharan Africa|\n",
      "|770463311| 7/14/2015|  Personal Care|     6070|    81.73|   56.67|    CG|    CG|Republic of the C...|  Sub-Saharan Africa|\n",
      "|616607081| 4/18/2014|         Cereal|     6593|    205.7|  117.11|    SN|    SN|             Senegal|  Sub-Saharan Africa|\n",
      "|814711606| 6/24/2011|     Vegetables|      124|   154.06|   90.93|    KG|    KG|          Kyrgyzstan|                Asia|\n",
      "|939825713|  8/2/2014|        Clothes|     4168|   109.28|   35.84|    CV|    CV|          Cape Verde|  Sub-Saharan Africa|\n",
      "|187310731| 1/13/2017|        Clothes|     8263|   109.28|   35.84|    BD|    BD|          Bangladesh|                Asia|\n",
      "|522840487|  2/8/2017|      Household|     8974|   668.27|  502.54|    HN|    HN|            Honduras|Central America a...|\n",
      "|832401311| 2/19/2014|  Personal Care|     4901|    81.73|   56.67|    MN|    MN|            Mongolia|                Asia|\n",
      "|972292029| 4/23/2012|        Clothes|     1673|   109.28|   35.84|    BG|    BG|            Bulgaria|              Europe|\n",
      "|419123971|11/19/2016|      Cosmetics|     6952|    437.2|  263.33|    LK|    LK|           Sri Lanka|                Asia|\n",
      "|519820964|  4/1/2015|      Beverages|     5430|    47.45|   31.79|    CM|    CM|            Cameroon|  Sub-Saharan Africa|\n",
      "|441619336|12/30/2010|      Household|     3830|   668.27|  502.54|    TM|    TM|        Turkmenistan|                Asia|\n",
      "|322067916| 7/31/2012|           Meat|     5908|   421.89|  364.69|    TL|    TL|          East Timor|Australia and Oce...|\n",
      "+---------+----------+---------------+---------+---------+--------+------+------+--------------------+--------------------+\n",
      "only showing top 20 rows\n",
      "\n"
     ]
    }
   ],
   "source": [
    "salesCountry = sales.join(country, sales.CtryCd == country.CtryCd,'left')\n",
    "salesCountry.show()"
   ]
  },
  {
   "cell_type": "markdown",
   "metadata": {},
   "source": [
    "# Calculate Sales Amount by multiplying Price by Units Sold"
   ]
  },
  {
   "cell_type": "code",
   "execution_count": 8,
   "metadata": {},
   "outputs": [],
   "source": [
    "salesAmount = salesCountry.withColumn(\"salesAmount\", sales[\"UnitPrice\"] * sales[\"UnitsSold\"])"
   ]
  },
  {
   "cell_type": "code",
   "execution_count": 9,
   "metadata": {},
   "outputs": [
    {
     "name": "stdout",
     "output_type": "stream",
     "text": [
      "+---------+----------+---------------+---------+---------+--------+------+------+--------------------+--------------------+------------------+\n",
      "|  OrderID| OrderDate|       ItemType|UnitsSold|UnitPrice|UnitCost|CtryCd|CtryCd|             Country|              Region|       salesAmount|\n",
      "+---------+----------+---------------+---------+---------+--------+------+------+--------------------+--------------------+------------------+\n",
      "|669165933| 5/28/2010|      Baby Food|     9925|   255.28|  159.42|    TV|    TV|              Tuvalu|Australia and Oce...|         2533654.0|\n",
      "|963881480| 8/22/2012|         Cereal|     2804|    205.7|  117.11|    GD|    GD|             Grenada|Central America a...| 576782.7999999999|\n",
      "|341417157|  5/2/2014|Office Supplies|     1779|   651.21|  524.96|    RU|    RU|              Russia|              Europe|        1158502.59|\n",
      "|514321792| 6/20/2014|         Fruits|     8102|     9.33|    6.92|    ST|    ST|Sao Tome and Prin...|  Sub-Saharan Africa|          75591.66|\n",
      "|115456712|  2/1/2013|Office Supplies|     5062|   651.21|  524.96|    RW|    RW|              Rwanda|  Sub-Saharan Africa|        3296425.02|\n",
      "|547995746|  2/4/2015|      Baby Food|     2974|   255.28|  159.42|    SB|    SB|     Solomon Islands|Australia and Oce...|         759202.72|\n",
      "|135425221| 4/23/2011|      Household|     4187|   668.27|  502.54|    AO|    AO|              Angola|  Sub-Saharan Africa|2798046.4899999998|\n",
      "|871543967| 7/17/2012|     Vegetables|     8082|   154.06|   90.93|    BF|    BF|        Burkina Faso|  Sub-Saharan Africa|        1245112.92|\n",
      "|770463311| 7/14/2015|  Personal Care|     6070|    81.73|   56.67|    CG|    CG|Republic of the C...|  Sub-Saharan Africa|496101.10000000003|\n",
      "|616607081| 4/18/2014|         Cereal|     6593|    205.7|  117.11|    SN|    SN|             Senegal|  Sub-Saharan Africa|1356180.0999999999|\n",
      "|814711606| 6/24/2011|     Vegetables|      124|   154.06|   90.93|    KG|    KG|          Kyrgyzstan|                Asia|          19103.44|\n",
      "|939825713|  8/2/2014|        Clothes|     4168|   109.28|   35.84|    CV|    CV|          Cape Verde|  Sub-Saharan Africa|         455479.04|\n",
      "|187310731| 1/13/2017|        Clothes|     8263|   109.28|   35.84|    BD|    BD|          Bangladesh|                Asia|         902980.64|\n",
      "|522840487|  2/8/2017|      Household|     8974|   668.27|  502.54|    HN|    HN|            Honduras|Central America a...|5997054.9799999995|\n",
      "|832401311| 2/19/2014|  Personal Care|     4901|    81.73|   56.67|    MN|    MN|            Mongolia|                Asia|400558.73000000004|\n",
      "|972292029| 4/23/2012|        Clothes|     1673|   109.28|   35.84|    BG|    BG|            Bulgaria|              Europe|         182825.44|\n",
      "|419123971|11/19/2016|      Cosmetics|     6952|    437.2|  263.33|    LK|    LK|           Sri Lanka|                Asia|         3039414.4|\n",
      "|519820964|  4/1/2015|      Beverages|     5430|    47.45|   31.79|    CM|    CM|            Cameroon|  Sub-Saharan Africa|257653.50000000003|\n",
      "|441619336|12/30/2010|      Household|     3830|   668.27|  502.54|    TM|    TM|        Turkmenistan|                Asia|         2559474.1|\n",
      "|322067916| 7/31/2012|           Meat|     5908|   421.89|  364.69|    TL|    TL|          East Timor|Australia and Oce...|        2492526.12|\n",
      "+---------+----------+---------------+---------+---------+--------+------+------+--------------------+--------------------+------------------+\n",
      "only showing top 20 rows\n",
      "\n"
     ]
    }
   ],
   "source": [
    "salesAmount.show()"
   ]
  },
  {
   "cell_type": "markdown",
   "metadata": {},
   "source": [
    "# Calculate the Profit/Loss of each Item Type"
   ]
  },
  {
   "cell_type": "code",
   "execution_count": 10,
   "metadata": {},
   "outputs": [],
   "source": [
    "salesWithProfit = salesAmount.withColumn(\"totalCost\", salesAmount[\"UnitsSold\"] * salesAmount[\"UnitCost\"])\n",
    "salesWithProfit = salesWithProfit.withColumn(\"profit\", salesWithProfit[\"salesAmount\"] - salesWithProfit[\"totalCost\"])"
   ]
  },
  {
   "cell_type": "code",
   "execution_count": 11,
   "metadata": {},
   "outputs": [
    {
     "name": "stdout",
     "output_type": "stream",
     "text": [
      "+---------+----------+---------------+---------+---------+--------+------+------+--------------------+--------------------+------------------+------------------+------------------+\n",
      "|  OrderID| OrderDate|       ItemType|UnitsSold|UnitPrice|UnitCost|CtryCd|CtryCd|             Country|              Region|       salesAmount|         totalCost|            profit|\n",
      "+---------+----------+---------------+---------+---------+--------+------+------+--------------------+--------------------+------------------+------------------+------------------+\n",
      "|669165933| 5/28/2010|      Baby Food|     9925|   255.28|  159.42|    TV|    TV|              Tuvalu|Australia and Oce...|         2533654.0|1582243.4999999998| 951410.5000000002|\n",
      "|963881480| 8/22/2012|         Cereal|     2804|    205.7|  117.11|    GD|    GD|             Grenada|Central America a...| 576782.7999999999|         328376.44|248406.35999999993|\n",
      "|341417157|  5/2/2014|Office Supplies|     1779|   651.21|  524.96|    RU|    RU|              Russia|              Europe|        1158502.59| 933903.8400000001|         224598.75|\n",
      "|514321792| 6/20/2014|         Fruits|     8102|     9.33|    6.92|    ST|    ST|Sao Tome and Prin...|  Sub-Saharan Africa|          75591.66|          56065.84|19525.820000000007|\n",
      "|115456712|  2/1/2013|Office Supplies|     5062|   651.21|  524.96|    RW|    RW|              Rwanda|  Sub-Saharan Africa|        3296425.02|        2657347.52|          639077.5|\n",
      "|547995746|  2/4/2015|      Baby Food|     2974|   255.28|  159.42|    SB|    SB|     Solomon Islands|Australia and Oce...|         759202.72|474115.07999999996|         285087.64|\n",
      "|135425221| 4/23/2011|      Household|     4187|   668.27|  502.54|    AO|    AO|              Angola|  Sub-Saharan Africa|2798046.4899999998|        2104134.98| 693911.5099999998|\n",
      "|871543967| 7/17/2012|     Vegetables|     8082|   154.06|   90.93|    BF|    BF|        Burkina Faso|  Sub-Saharan Africa|        1245112.92|         734896.26| 510216.6599999999|\n",
      "|770463311| 7/14/2015|  Personal Care|     6070|    81.73|   56.67|    CG|    CG|Republic of the C...|  Sub-Saharan Africa|496101.10000000003|          343986.9|          152114.2|\n",
      "|616607081| 4/18/2014|         Cereal|     6593|    205.7|  117.11|    SN|    SN|             Senegal|  Sub-Saharan Africa|1356180.0999999999|         772106.23| 584073.8699999999|\n",
      "|814711606| 6/24/2011|     Vegetables|      124|   154.06|   90.93|    KG|    KG|          Kyrgyzstan|                Asia|          19103.44|11275.320000000002| 7828.119999999997|\n",
      "|939825713|  8/2/2014|        Clothes|     4168|   109.28|   35.84|    CV|    CV|          Cape Verde|  Sub-Saharan Africa|         455479.04|149381.12000000002| 306097.9199999999|\n",
      "|187310731| 1/13/2017|        Clothes|     8263|   109.28|   35.84|    BD|    BD|          Bangladesh|                Asia|         902980.64|296145.92000000004|         606834.72|\n",
      "|522840487|  2/8/2017|      Household|     8974|   668.27|  502.54|    HN|    HN|            Honduras|Central America a...|5997054.9799999995|        4509793.96|1487261.0199999996|\n",
      "|832401311| 2/19/2014|  Personal Care|     4901|    81.73|   56.67|    MN|    MN|            Mongolia|                Asia|400558.73000000004|         277739.67|122819.06000000006|\n",
      "|972292029| 4/23/2012|        Clothes|     1673|   109.28|   35.84|    BG|    BG|            Bulgaria|              Europe|         182825.44| 59960.32000000001|         122865.12|\n",
      "|419123971|11/19/2016|      Cosmetics|     6952|    437.2|  263.33|    LK|    LK|           Sri Lanka|                Asia|         3039414.4|        1830670.16|        1208744.24|\n",
      "|519820964|  4/1/2015|      Beverages|     5430|    47.45|   31.79|    CM|    CM|            Cameroon|  Sub-Saharan Africa|257653.50000000003|172619.69999999998| 85033.80000000005|\n",
      "|441619336|12/30/2010|      Household|     3830|   668.27|  502.54|    TM|    TM|        Turkmenistan|                Asia|         2559474.1|1924728.2000000002| 634745.8999999999|\n",
      "|322067916| 7/31/2012|           Meat|     5908|   421.89|  364.69|    TL|    TL|          East Timor|Australia and Oce...|        2492526.12|        2154588.52| 337937.6000000001|\n",
      "+---------+----------+---------------+---------+---------+--------+------+------+--------------------+--------------------+------------------+------------------+------------------+\n",
      "only showing top 20 rows\n",
      "\n"
     ]
    }
   ],
   "source": [
    "salesWithProfit.show()"
   ]
  },
  {
   "cell_type": "markdown",
   "metadata": {},
   "source": [
    "# Calculate average sales per region"
   ]
  },
  {
   "cell_type": "code",
   "execution_count": 12,
   "metadata": {},
   "outputs": [],
   "source": [
    "averageSalesPerCountry = salesWithProfit.groupBy(\"Region\").avg(\"salesAmount\")"
   ]
  },
  {
   "cell_type": "code",
   "execution_count": 13,
   "metadata": {},
   "outputs": [
    {
     "name": "stdout",
     "output_type": "stream",
     "text": [
      "+--------------------+------------------+\n",
      "|              Region|  avg(salesAmount)|\n",
      "+--------------------+------------------+\n",
      "|Middle East and N...| 1312700.798181818|\n",
      "|Australia and Oce...|1281296.8300000003|\n",
      "|              Europe|1516769.6413636364|\n",
      "|  Sub-Saharan Africa|1102000.8730555559|\n",
      "|Central America a...|1463897.2149999999|\n",
      "|       North America|1881118.8500000003|\n",
      "|                Asia|1940644.6381818184|\n",
      "+--------------------+------------------+\n",
      "\n"
     ]
    }
   ],
   "source": [
    "averageSalesPerCountry.show()"
   ]
  },
  {
   "cell_type": "markdown",
   "metadata": {},
   "source": [
    "# Calculate the number of Item Types per country"
   ]
  },
  {
   "cell_type": "code",
   "execution_count": 14,
   "metadata": {},
   "outputs": [],
   "source": [
    "itemsPerCountry = salesWithProfit.groupBy(\"Country\").count()"
   ]
  },
  {
   "cell_type": "code",
   "execution_count": 15,
   "metadata": {},
   "outputs": [
    {
     "name": "stdout",
     "output_type": "stream",
     "text": [
      "+--------------------+-----+\n",
      "|             Country|count|\n",
      "+--------------------+-----+\n",
      "|              Russia|    1|\n",
      "|             Senegal|    1|\n",
      "|Congo, the Democr...|    1|\n",
      "|            Kiribati|    1|\n",
      "|            Djibouti|    3|\n",
      "|            Malaysia|    1|\n",
      "|                Fiji|    1|\n",
      "|             Comoros|    1|\n",
      "|              Rwanda|    2|\n",
      "|              France|    1|\n",
      "|           Sri Lanka|    1|\n",
      "|            Slovakia|    1|\n",
      "|              Angola|    1|\n",
      "|            Moldova |    1|\n",
      "|          San Marino|    1|\n",
      "|          East Timor|    1|\n",
      "|             Lesotho|    1|\n",
      "|             Albania|    1|\n",
      "|          Madagascar|    1|\n",
      "|             Myanmar|    2|\n",
      "+--------------------+-----+\n",
      "only showing top 20 rows\n",
      "\n"
     ]
    }
   ],
   "source": [
    "itemsPerCountry.show()"
   ]
  },
  {
   "cell_type": "markdown",
   "metadata": {},
   "source": [
    "# Get common Item Types in tow regions (select any two regions)"
   ]
  },
  {
   "cell_type": "code",
   "execution_count": 44,
   "metadata": {},
   "outputs": [],
   "source": [
    "subsharan=salesWithProfit.select(['Region','ItemType']).where(salesWithProfit['Region']=='Sub-Saharan Africa')\n",
    "europe=salesWithProfit.select(['Region','ItemType']).where(salesWithProfit['Region']=='Europe')\n",
    "subDf1 = subsharan.select(\"ItemType\")\n",
    "subDf2 = europe.select(\"ItemType\")"
   ]
  },
  {
   "cell_type": "code",
   "execution_count": 45,
   "metadata": {},
   "outputs": [
    {
     "name": "stdout",
     "output_type": "stream",
     "text": [
      "+---------------+\n",
      "|       ItemType|\n",
      "+---------------+\n",
      "|      Baby Food|\n",
      "|      Household|\n",
      "|     Vegetables|\n",
      "|      Beverages|\n",
      "|Office Supplies|\n",
      "|      Cosmetics|\n",
      "|  Personal Care|\n",
      "|        Clothes|\n",
      "+---------------+\n",
      "\n"
     ]
    }
   ],
   "source": [
    "common = subDf1.intersect(subDf2)\n",
    "common.show()"
   ]
  },
  {
   "cell_type": "code",
   "execution_count": 46,
   "metadata": {},
   "outputs": [
    {
     "name": "stdout",
     "output_type": "stream",
     "text": [
      "+---------------+\n",
      "|       ItemType|\n",
      "+---------------+\n",
      "|      Baby Food|\n",
      "|      Household|\n",
      "|     Vegetables|\n",
      "|      Beverages|\n",
      "|Office Supplies|\n",
      "|      Cosmetics|\n",
      "|  Personal Care|\n",
      "|        Clothes|\n",
      "+---------------+\n",
      "\n"
     ]
    }
   ],
   "source": [
    "common = subDf2.intersect(subDf1)\n",
    "common.show()"
   ]
  }
 ],
 "metadata": {
  "kernelspec": {
   "display_name": "Python 3.6.8 ('env': venv)",
   "language": "python",
   "name": "python3"
  },
  "language_info": {
   "codemirror_mode": {
    "name": "ipython",
    "version": 3
   },
   "file_extension": ".py",
   "mimetype": "text/x-python",
   "name": "python",
   "nbconvert_exporter": "python",
   "pygments_lexer": "ipython3",
   "version": "3.6.8"
  },
  "orig_nbformat": 4,
  "vscode": {
   "interpreter": {
    "hash": "d07bea15f202d3d83ec01db8fe874462a1d9829c5a9645f783d1415fa73c3e11"
   }
  }
 },
 "nbformat": 4,
 "nbformat_minor": 2
}
