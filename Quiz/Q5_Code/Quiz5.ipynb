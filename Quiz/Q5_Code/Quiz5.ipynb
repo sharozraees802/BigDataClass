{
 "cells": [
  {
   "cell_type": "markdown",
   "metadata": {},
   "source": [
    "<center><h1> Muhammad Sheroz 9852 Quiz 5</h1></center>"
   ]
  },
  {
   "cell_type": "code",
   "execution_count": 6,
   "metadata": {},
   "outputs": [],
   "source": [
    "from pyspark.sql import SparkSession"
   ]
  },
  {
   "cell_type": "code",
   "execution_count": 7,
   "metadata": {},
   "outputs": [],
   "source": [
    "spark = SparkSession.builder.appName(\"pySp-Quiz5\").getOrCreate()"
   ]
  },
  {
   "cell_type": "code",
   "execution_count": 8,
   "metadata": {},
   "outputs": [
    {
     "name": "stdout",
     "output_type": "stream",
     "text": [
      "Rows 3 ;\t Columns 2\n",
      "+------+----------+\n",
      "|CatgID|    CatgNm|\n",
      "+------+----------+\n",
      "|   K01|KictenItem|\n",
      "|   K02| KictenEat|\n",
      "|   D01|  DryFruit|\n",
      "+------+----------+\n",
      "\n"
     ]
    }
   ],
   "source": [
    "dfct = spark.read.csv('./Data/SrcPCtg.csv', inferSchema=True, header = True)\n",
    "print(\"Rows\", dfct.count(),\";\\t Columns\", len(dfct.columns))\n",
    "dfct.show()"
   ]
  },
  {
   "cell_type": "code",
   "execution_count": 9,
   "metadata": {},
   "outputs": [
    {
     "name": "stdout",
     "output_type": "stream",
     "text": [
      "Rows 96 ;\t Columns 3\n",
      "+----+--------+------+\n",
      "|PrCd|  PrName|CatgID|\n",
      "+----+--------+------+\n",
      "| A02|  Akhrot|   D01|\n",
      "| A06|  Anjeer|   D01|\n",
      "| B02|   Badam|   D01|\n",
      "| B06|    Beej|   D01|\n",
      "| C17|Chilgoza|   D01|\n",
      "+----+--------+------+\n",
      "only showing top 5 rows\n",
      "\n"
     ]
    }
   ],
   "source": [
    "dfprd = spark.read.csv('./Data/SrcProduct.csv', inferSchema=True, header = True)\n",
    "print(\"Rows\", dfprd.count(),\";\\t Columns\", len(dfprd.columns))\n",
    "dfprd.show(5)"
   ]
  },
  {
   "cell_type": "code",
   "execution_count": 10,
   "metadata": {},
   "outputs": [
    {
     "name": "stdout",
     "output_type": "stream",
     "text": [
      "Rows 746 ;\t Columns 4\n",
      "+------+-------------+----+----+\n",
      "|ItemID|     ItemName|Unit|PrCd|\n",
      "+------+-------------+----+----+\n",
      "| 31751|akhrot 200 gm|  gm| A02|\n",
      "| 31752|akhrot 100 gm|  gm| A02|\n",
      "| 31753| akhrot 50 gm|  gm| A02|\n",
      "| 31798|akhrot 500 gm|  gm| A02|\n",
      "| 31863|akhrot 400 gm|  gm| A02|\n",
      "+------+-------------+----+----+\n",
      "only showing top 5 rows\n",
      "\n"
     ]
    }
   ],
   "source": [
    "dfitem = spark.read.csv('./Data/dfitem.csv', inferSchema=True, header = True)\n",
    "print(\"Rows\", dfitem.count(),\";\\t Columns\", len(dfitem.columns))\n",
    "dfitem.show(5)"
   ]
  },
  {
   "cell_type": "code",
   "execution_count": 11,
   "metadata": {},
   "outputs": [
    {
     "name": "stdout",
     "output_type": "stream",
     "text": [
      "root\n",
      " |-- ItemID: integer (nullable = true)\n",
      " |-- ItemName: string (nullable = true)\n",
      " |-- Unit: string (nullable = true)\n",
      " |-- PrCd: string (nullable = true)\n",
      "\n"
     ]
    }
   ],
   "source": [
    "dfitem.printSchema()"
   ]
  },
  {
   "cell_type": "code",
   "execution_count": 12,
   "metadata": {},
   "outputs": [
    {
     "name": "stdout",
     "output_type": "stream",
     "text": [
      "Rows 291 ;\t Columns 2\n",
      "+--------+--------------------+\n",
      "|ClientID|          ClientName|\n",
      "+--------+--------------------+\n",
      "|       1|786 Super Mart Mi...|\n",
      "|       2|           Anonymous|\n",
      "|       3|           Al basit |\n",
      "|       4|AL BADAR GEN & ME...|\n",
      "|       5|ABDULLAH GEN STOR...|\n",
      "+--------+--------------------+\n",
      "only showing top 5 rows\n",
      "\n"
     ]
    }
   ],
   "source": [
    "dfclient = spark.read.csv('./Data/dfclient.csv', inferSchema=True, header = True)\n",
    "print(\"Rows\", dfclient.count(),\";\\t Columns\", len(dfclient.columns))\n",
    "dfclient.show(5)"
   ]
  },
  {
   "cell_type": "code",
   "execution_count": 13,
   "metadata": {},
   "outputs": [
    {
     "name": "stdout",
     "output_type": "stream",
     "text": [
      "root\n",
      " |-- ClientID: integer (nullable = true)\n",
      " |-- ClientName: string (nullable = true)\n",
      "\n"
     ]
    }
   ],
   "source": [
    "dfclient.printSchema()"
   ]
  },
  {
   "cell_type": "code",
   "execution_count": 14,
   "metadata": {},
   "outputs": [
    {
     "name": "stdout",
     "output_type": "stream",
     "text": [
      "Rows 14269 ;\t Columns 3\n",
      "+---------+---------+--------+\n",
      "|InvoiceID|  InvDate|ClientID|\n",
      "+---------+---------+--------+\n",
      "|      146|11/2/2011|      46|\n",
      "|      147|11/2/2011|      46|\n",
      "|      148|11/2/2011|      47|\n",
      "|      149|11/2/2011|      48|\n",
      "|      150|11/2/2011|      52|\n",
      "+---------+---------+--------+\n",
      "only showing top 5 rows\n",
      "\n"
     ]
    }
   ],
   "source": [
    "dfsm = spark.read.csv('./Data/SrcSalesDFruitsMaster.csv', inferSchema=True, header = True)\n",
    "print(\"Rows\", dfsm.count(),\";\\t Columns\", len(dfsm.columns))\n",
    "dfsm.show(5)"
   ]
  },
  {
   "cell_type": "code",
   "execution_count": 15,
   "metadata": {},
   "outputs": [
    {
     "name": "stdout",
     "output_type": "stream",
     "text": [
      "root\n",
      " |-- InvoiceID: integer (nullable = true)\n",
      " |-- InvDate: string (nullable = true)\n",
      " |-- ClientID: integer (nullable = true)\n",
      "\n"
     ]
    }
   ],
   "source": [
    "dfsm.printSchema()"
   ]
  },
  {
   "cell_type": "markdown",
   "metadata": {},
   "source": [
    "#### Type Casting - Date"
   ]
  },
  {
   "cell_type": "code",
   "execution_count": 16,
   "metadata": {},
   "outputs": [],
   "source": [
    "from pyspark.sql.functions import to_date, unix_timestamp"
   ]
  },
  {
   "cell_type": "code",
   "execution_count": 17,
   "metadata": {},
   "outputs": [
    {
     "name": "stdout",
     "output_type": "stream",
     "text": [
      "root\n",
      " |-- InvoiceID: integer (nullable = true)\n",
      " |-- InvDate: date (nullable = true)\n",
      " |-- ClientID: integer (nullable = true)\n",
      "\n",
      "+---------+----------+--------+\n",
      "|InvoiceID|   InvDate|ClientID|\n",
      "+---------+----------+--------+\n",
      "|      146|2011-11-02|      46|\n",
      "|      147|2011-11-02|      46|\n",
      "|      148|2011-11-02|      47|\n",
      "|      149|2011-11-02|      48|\n",
      "|      150|2011-11-02|      52|\n",
      "+---------+----------+--------+\n",
      "only showing top 5 rows\n",
      "\n"
     ]
    }
   ],
   "source": [
    "dfsm = dfsm.withColumn('InvDate', to_date(unix_timestamp('InvDate', 'M/d/yyyy').cast(\"timestamp\")))\n",
    "dfsm.printSchema()\n",
    "dfsm.show(5)"
   ]
  },
  {
   "cell_type": "code",
   "execution_count": 18,
   "metadata": {},
   "outputs": [
    {
     "name": "stdout",
     "output_type": "stream",
     "text": [
      "Rows 109104 ;\t Columns 4\n",
      "+---------+------+-----------+--------+\n",
      "|InvoiceID|ItemID|RetailPrice|Quantity|\n",
      "+---------+------+-----------+--------+\n",
      "|      146| 31639|       20.0|       6|\n",
      "|      146| 31650|       20.0|       6|\n",
      "|      146| 31655|       20.0|       6|\n",
      "|      146| 31659|       20.0|       6|\n",
      "|      147| 31736|       20.0|      12|\n",
      "+---------+------+-----------+--------+\n",
      "only showing top 5 rows\n",
      "\n"
     ]
    }
   ],
   "source": [
    "dfSd = spark.read.csv('./Data/SrcSalesDFruitsDetail.csv', inferSchema=True, header = True)\n",
    "print(\"Rows\", dfSd.count(),\";\\t Columns\", len(dfSd.columns))\n",
    "dfSd.show(5)"
   ]
  },
  {
   "cell_type": "code",
   "execution_count": 19,
   "metadata": {},
   "outputs": [
    {
     "name": "stdout",
     "output_type": "stream",
     "text": [
      "root\n",
      " |-- InvoiceID: integer (nullable = true)\n",
      " |-- ItemID: integer (nullable = true)\n",
      " |-- RetailPrice: double (nullable = true)\n",
      " |-- Quantity: integer (nullable = true)\n",
      "\n"
     ]
    }
   ],
   "source": [
    "dfSd.printSchema()"
   ]
  },
  {
   "cell_type": "code",
   "execution_count": 20,
   "metadata": {},
   "outputs": [],
   "source": [
    "dfsm = dfsm.withColumnRenamed(\"InvoiceID\",\"InvID\")"
   ]
  },
  {
   "cell_type": "code",
   "execution_count": 21,
   "metadata": {},
   "outputs": [
    {
     "name": "stdout",
     "output_type": "stream",
     "text": [
      "Rows 109104 ;\t Columns 7\n",
      "+-----+----------+--------+---------+------+-----------+--------+\n",
      "|InvID|   InvDate|ClientID|InvoiceID|ItemID|RetailPrice|Quantity|\n",
      "+-----+----------+--------+---------+------+-----------+--------+\n",
      "|  146|2011-11-02|      46|      146| 31639|       20.0|       6|\n",
      "|  146|2011-11-02|      46|      146| 31650|       20.0|       6|\n",
      "|  146|2011-11-02|      46|      146| 31655|       20.0|       6|\n",
      "|  146|2011-11-02|      46|      146| 31659|       20.0|       6|\n",
      "|  147|2011-11-02|      46|      147| 31736|       20.0|      12|\n",
      "+-----+----------+--------+---------+------+-----------+--------+\n",
      "only showing top 5 rows\n",
      "\n"
     ]
    }
   ],
   "source": [
    "dfS = dfsm.join(dfSd, dfsm.InvID == dfSd.InvoiceID)\n",
    "print(\"Rows\", dfS.count(),\";\\t Columns\", len(dfS.columns))\n",
    "dfS.show(5)"
   ]
  },
  {
   "cell_type": "code",
   "execution_count": 22,
   "metadata": {},
   "outputs": [
    {
     "name": "stdout",
     "output_type": "stream",
     "text": [
      "+----------+--------+---------+------+-----------+--------+\n",
      "|   InvDate|ClientID|InvoiceID|ItemID|RetailPrice|Quantity|\n",
      "+----------+--------+---------+------+-----------+--------+\n",
      "|2011-11-02|      46|      146| 31639|       20.0|       6|\n",
      "|2011-11-02|      46|      146| 31650|       20.0|       6|\n",
      "|2011-11-02|      46|      146| 31655|       20.0|       6|\n",
      "|2011-11-02|      46|      146| 31659|       20.0|       6|\n",
      "|2011-11-02|      46|      147| 31736|       20.0|      12|\n",
      "+----------+--------+---------+------+-----------+--------+\n",
      "only showing top 5 rows\n",
      "\n"
     ]
    }
   ],
   "source": [
    "dfS = dfS.drop(dfS.InvID)\n",
    "dfS.show(5)"
   ]
  },
  {
   "cell_type": "code",
   "execution_count": 23,
   "metadata": {},
   "outputs": [],
   "source": [
    "dfS = dfS.withColumnRenamed(\"ItemID\",\"ItmID\")"
   ]
  },
  {
   "cell_type": "code",
   "execution_count": 24,
   "metadata": {},
   "outputs": [
    {
     "name": "stdout",
     "output_type": "stream",
     "text": [
      "Rows 109104 ;\t Columns 9\n",
      "+----------+--------+---------+-----------+--------+------+---------------+----+----+\n",
      "|   InvDate|ClientID|InvoiceID|RetailPrice|Quantity|ItemID|       ItemName|Unit|PrCd|\n",
      "+----------+--------+---------+-----------+--------+------+---------------+----+----+\n",
      "|2011-11-02|      46|      146|       20.0|       6| 31639|teez pata 30 gm|  gm| T02|\n",
      "|2011-11-02|      46|      146|       20.0|       6| 31650|   jaifal 10 gm|  gm| J01|\n",
      "|2011-11-02|      46|      146|       20.0|       6| 31655|koti mirch 50gm|  gm| L01|\n",
      "|2011-11-02|      46|      146|       20.0|       6| 31659|sago dana 80 gm|  gm| S01|\n",
      "|2011-11-02|      46|      147|       20.0|      12| 31736|    badam 16 gm|  gm| B02|\n",
      "+----------+--------+---------+-----------+--------+------+---------------+----+----+\n",
      "only showing top 5 rows\n",
      "\n"
     ]
    }
   ],
   "source": [
    "dfS = dfS.join(dfitem, dfS.ItmID == dfitem.ItemID)\n",
    "dfS = dfS.drop(dfS.ItmID)\n",
    "print(\"Rows\", dfS.count(),\";\\t Columns\", len(dfS.columns))\n",
    "dfS.show(5)"
   ]
  },
  {
   "cell_type": "code",
   "execution_count": 25,
   "metadata": {},
   "outputs": [
    {
     "name": "stdout",
     "output_type": "stream",
     "text": [
      "Rows 109104 ;\t Columns 5\n",
      "+----------+--------+----+-----------+--------+\n",
      "|   InvDate|ClientID|PrCd|RetailPrice|Quantity|\n",
      "+----------+--------+----+-----------+--------+\n",
      "|2011-11-02|      46| T02|       20.0|       6|\n",
      "|2011-11-02|      46| J01|       20.0|       6|\n",
      "|2011-11-02|      46| L01|       20.0|       6|\n",
      "|2011-11-02|      46| S01|       20.0|       6|\n",
      "|2011-11-02|      46| B02|       20.0|      12|\n",
      "+----------+--------+----+-----------+--------+\n",
      "only showing top 5 rows\n",
      "\n"
     ]
    }
   ],
   "source": [
    "dfF = dfS[['InvDate', 'ClientID', 'PrCd', 'RetailPrice', 'Quantity']]\n",
    "print(\"Rows\", dfF.count(),\";\\t Columns\", len(dfF.columns))\n",
    "dfF.show(5)"
   ]
  },
  {
   "cell_type": "code",
   "execution_count": 26,
   "metadata": {},
   "outputs": [
    {
     "name": "stdout",
     "output_type": "stream",
     "text": [
      "Rows 104465 ;\t Columns 5\n",
      "+----------+--------+----+-----------+--------+\n",
      "|   InvDate|ClientID|PrCd|RetailPrice|Quantity|\n",
      "+----------+--------+----+-----------+--------+\n",
      "|2011-11-03|      41| J01|       20.0|       6|\n",
      "|2011-11-05|      96| T01|       20.0|       6|\n",
      "|2011-11-05|     130| A06|      160.0|      12|\n",
      "|2011-11-05|     138| D02|       15.0|       6|\n",
      "|2011-11-14|     155| P09|       30.0|       6|\n",
      "+----------+--------+----+-----------+--------+\n",
      "only showing top 5 rows\n",
      "\n"
     ]
    }
   ],
   "source": [
    "dfF = dfF.select('InvDate', 'ClientID', 'PrCd', 'RetailPrice', 'Quantity').dropDuplicates()\n",
    "print(\"Rows\", dfF.count(),\";\\t Columns\", len(dfF.columns))\n",
    "dfF.show(5)"
   ]
  },
  {
   "cell_type": "code",
   "execution_count": 27,
   "metadata": {},
   "outputs": [
    {
     "name": "stdout",
     "output_type": "stream",
     "text": [
      "+----------+--------+----+--------+--------+\n",
      "|   InvDate|ClientID|PrCd|Quantity|SalesAmt|\n",
      "+----------+--------+----+--------+--------+\n",
      "|2011-11-03|      41| J01|       6|   120.0|\n",
      "|2011-11-05|      96| T01|       6|   120.0|\n",
      "|2011-11-05|     130| A06|      12|  1920.0|\n",
      "|2011-11-05|     138| D02|       6|    90.0|\n",
      "|2011-11-14|     155| P09|       6|   180.0|\n",
      "+----------+--------+----+--------+--------+\n",
      "only showing top 5 rows\n",
      "\n"
     ]
    }
   ],
   "source": [
    "dfF = dfF.withColumn('SalesAmt', dfF.RetailPrice * dfF.Quantity)\n",
    "dfF = dfF.drop(dfF.RetailPrice)\n",
    "dfF.show(5)"
   ]
  },
  {
   "cell_type": "code",
   "execution_count": 28,
   "metadata": {},
   "outputs": [
    {
     "name": "stdout",
     "output_type": "stream",
     "text": [
      "Rows 88900 ;\t Columns 5\n",
      "+----------+--------+----+-------------+-------------+\n",
      "|   InvDate|ClientID|PrCd|sum(SalesAmt)|sum(Quantity)|\n",
      "+----------+--------+----+-------------+-------------+\n",
      "|2012-02-13|     105| B02|        120.0|            6|\n",
      "|2012-03-04|     531| P02|       -720.0|          -36|\n",
      "|2012-08-18|     177| B02|       1320.0|           12|\n",
      "|2011-11-18|     194| A06|        640.0|            4|\n",
      "|2012-05-22|     128| L01|        300.0|           12|\n",
      "+----------+--------+----+-------------+-------------+\n",
      "only showing top 5 rows\n",
      "\n"
     ]
    }
   ],
   "source": [
    "dfF = dfF.groupBy(['InvDate', 'ClientID', 'PrCd']).agg({'Quantity': 'sum', 'SalesAmt': 'sum'})\n",
    "print(\"Rows\", dfF.count(),\";\\t Columns\", len(dfF.columns))\n",
    "dfF.show(5)"
   ]
  },
  {
   "cell_type": "code",
   "execution_count": 29,
   "metadata": {},
   "outputs": [
    {
     "name": "stdout",
     "output_type": "stream",
     "text": [
      "root\n",
      " |-- InvDate: date (nullable = true)\n",
      " |-- ClientID: integer (nullable = true)\n",
      " |-- PrCd: string (nullable = true)\n",
      " |-- SalesAmount: double (nullable = true)\n",
      " |-- QtyTotal: long (nullable = true)\n",
      "\n"
     ]
    }
   ],
   "source": [
    "dfF = dfF.withColumnRenamed(\"sum(SalesAmt)\",\"SalesAmount\").withColumnRenamed(\"sum(Quantity)\", \"QtyTotal\")\n",
    "dfF.printSchema()"
   ]
  },
  {
   "cell_type": "code",
   "execution_count": 30,
   "metadata": {},
   "outputs": [
    {
     "name": "stdout",
     "output_type": "stream",
     "text": [
      "Rows 405 ;\t Columns 1\n",
      "+----------+\n",
      "|   InvDate|\n",
      "+----------+\n",
      "|2012-04-17|\n",
      "|2012-10-06|\n",
      "|2013-01-22|\n",
      "|2012-07-17|\n",
      "|2011-11-18|\n",
      "+----------+\n",
      "only showing top 5 rows\n",
      "\n"
     ]
    }
   ],
   "source": [
    "dfdt = dfF.select('InvDate').dropDuplicates()\n",
    "print(\"Rows\", dfdt.count(),\";\\t Columns\", len(dfdt.columns))\n",
    "dfdt.show(5)"
   ]
  },
  {
   "cell_type": "code",
   "execution_count": 31,
   "metadata": {},
   "outputs": [],
   "source": [
    "from pyspark.sql.functions import year, quarter, month, dayofmonth, dayofyear, weekofyear"
   ]
  },
  {
   "cell_type": "code",
   "execution_count": 32,
   "metadata": {},
   "outputs": [
    {
     "name": "stdout",
     "output_type": "stream",
     "text": [
      "+----------+----+-------+-----+------+----+----+\n",
      "|   InvDate|Year|Quarter|Month|DyMnth|DyYr|WkYr|\n",
      "+----------+----+-------+-----+------+----+----+\n",
      "|2012-04-17|2012|      2|    4|    17| 108|  16|\n",
      "|2012-10-06|2012|      4|   10|     6| 280|  40|\n",
      "|2013-01-22|2013|      1|    1|    22|  22|   4|\n",
      "|2012-07-17|2012|      3|    7|    17| 199|  29|\n",
      "|2011-11-18|2011|      4|   11|    18| 322|  46|\n",
      "+----------+----+-------+-----+------+----+----+\n",
      "only showing top 5 rows\n",
      "\n"
     ]
    }
   ],
   "source": [
    "dfdt = dfdt.select(dfdt.InvDate, year(dfdt.InvDate).alias('Year'),\\\n",
    "                    quarter(dfdt.InvDate).alias('Quarter'), \\\n",
    "                    month(dfdt.InvDate).alias('Month'), \\\n",
    "                    dayofmonth(dfdt.InvDate).alias('DyMnth'), \\\n",
    "                    dayofyear(dfdt.InvDate).alias('DyYr'), \\\n",
    "                    weekofyear(dfdt.InvDate).alias('WkYr'))\n",
    "dfdt.show(5)"
   ]
  },
  {
   "cell_type": "code",
   "execution_count": 33,
   "metadata": {},
   "outputs": [
    {
     "name": "stdout",
     "output_type": "stream",
     "text": [
      "root\n",
      " |-- InvDate: date (nullable = true)\n",
      " |-- Year: integer (nullable = true)\n",
      " |-- Quarter: integer (nullable = true)\n",
      " |-- Month: integer (nullable = true)\n",
      " |-- DyMnth: integer (nullable = true)\n",
      " |-- DyYr: integer (nullable = true)\n",
      " |-- WkYr: integer (nullable = true)\n",
      "\n"
     ]
    }
   ],
   "source": [
    "dfdt.printSchema()"
   ]
  },
  {
   "cell_type": "code",
   "execution_count": null,
   "metadata": {},
   "outputs": [],
   "source": []
  }
 ],
 "metadata": {
  "kernelspec": {
   "display_name": "Python 3.6.8 ('quizenv': venv)",
   "language": "python",
   "name": "python3"
  },
  "language_info": {
   "codemirror_mode": {
    "name": "ipython",
    "version": 3
   },
   "file_extension": ".py",
   "mimetype": "text/x-python",
   "name": "python",
   "nbconvert_exporter": "python",
   "pygments_lexer": "ipython3",
   "version": "3.6.8"
  },
  "vscode": {
   "interpreter": {
    "hash": "2e38922bfe237a838d0436c41e8cf4e67ae82bd79accf89c273a54a34193119f"
   }
  }
 },
 "nbformat": 4,
 "nbformat_minor": 1
}
