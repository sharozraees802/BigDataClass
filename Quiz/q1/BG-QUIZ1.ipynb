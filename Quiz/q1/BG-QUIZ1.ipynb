{
 "cells": [
  {
   "cell_type": "markdown",
   "metadata": {},
   "source": [
    "<b><center>Muhammad Sheroz  </center> <center><l>9852</l></center> <center><l> Big Data Quiz 1</l></center></b>"
   ]
  },
  {
   "cell_type": "code",
   "execution_count": 2,
   "metadata": {},
   "outputs": [
    {
     "name": "stdout",
     "output_type": "stream",
     "text": [
      "Collecting pyspark\n",
      "  Downloading pyspark-3.2.2.tar.gz (281.5 MB)\n",
      "  Preparing metadata (setup.py): started\n",
      "  Preparing metadata (setup.py): finished with status 'done'\n",
      "Collecting py4j==0.10.9.5\n",
      "  Downloading py4j-0.10.9.5-py2.py3-none-any.whl (199 kB)\n",
      "Building wheels for collected packages: pyspark\n",
      "  Building wheel for pyspark (setup.py): started\n",
      "  Building wheel for pyspark (setup.py): finished with status 'done'\n",
      "  Created wheel for pyspark: filename=pyspark-3.2.2-py2.py3-none-any.whl size=281969454 sha256=c378e4ef78fabaee69700e5ac036f97535a885dd004c07835c7623562b99b779\n",
      "  Stored in directory: c:\\users\\sheroz\\appdata\\local\\pip\\cache\\wheels\\6c\\74\\86\\44d34f7c900852341da5f43d522adf863b29def1db1ccb8e83\n",
      "Successfully built pyspark\n",
      "Installing collected packages: py4j, pyspark\n",
      "Successfully installed py4j-0.10.9.5 pyspark-3.2.2\n"
     ]
    }
   ],
   "source": [
    "!pip install pyspark"
   ]
  },
  {
   "cell_type": "code",
   "execution_count": 3,
   "metadata": {},
   "outputs": [],
   "source": [
    "from pyspark.sql import SparkSession"
   ]
  },
  {
   "cell_type": "code",
   "execution_count": 4,
   "metadata": {},
   "outputs": [
    {
     "name": "stderr",
     "output_type": "stream",
     "text": [
      "e:\\Course\\Bigdata\\Quiz\\q1\\env\\lib\\site-packages\\pyspark\\context.py:238: FutureWarning: Python 3.6 support is deprecated in Spark 3.2.\n",
      "  FutureWarning\n"
     ]
    }
   ],
   "source": [
    "spark = SparkSession.builder.appName(\"pySPWordCOUNTCSV\").getOrCreate()"
   ]
  },
  {
   "cell_type": "code",
   "execution_count": 5,
   "metadata": {},
   "outputs": [],
   "source": [
    "df = spark.read.csv('./100-Sales-Records/100_Sales_Records.csv',header = True)"
   ]
  },
  {
   "cell_type": "code",
   "execution_count": 6,
   "metadata": {},
   "outputs": [
    {
     "name": "stdout",
     "output_type": "stream",
     "text": [
      "+--------------------+--------------------+---------------+-------------+--------------+----------+---------+----------+----------+----------+---------+-------------+----------+------------+\n",
      "|              Region|             Country|      Item Type|Sales Channel|Order Priority|Order Date| Order ID| Ship Date|Units Sold|Unit Price|Unit Cost|Total Revenue|Total Cost|Total Profit|\n",
      "+--------------------+--------------------+---------------+-------------+--------------+----------+---------+----------+----------+----------+---------+-------------+----------+------------+\n",
      "|Australia and Oce...|              Tuvalu|      Baby Food|      Offline|             H| 5/28/2010|669165933| 6/27/2010|      9925|    255.28|   159.42|   2533654.00|1582243.50|   951410.50|\n",
      "|Central America a...|             Grenada|         Cereal|       Online|             C| 8/22/2012|963881480| 9/15/2012|      2804|    205.70|   117.11|    576782.80| 328376.44|   248406.36|\n",
      "|              Europe|              Russia|Office Supplies|      Offline|             L|  5/2/2014|341417157|  5/8/2014|      1779|    651.21|   524.96|   1158502.59| 933903.84|   224598.75|\n",
      "|  Sub-Saharan Africa|Sao Tome and Prin...|         Fruits|       Online|             C| 6/20/2014|514321792|  7/5/2014|      8102|      9.33|     6.92|     75591.66|  56065.84|    19525.82|\n",
      "|  Sub-Saharan Africa|              Rwanda|Office Supplies|      Offline|             L|  2/1/2013|115456712|  2/6/2013|      5062|    651.21|   524.96|   3296425.02|2657347.52|   639077.50|\n",
      "|Australia and Oce...|     Solomon Islands|      Baby Food|       Online|             C|  2/4/2015|547995746| 2/21/2015|      2974|    255.28|   159.42|    759202.72| 474115.08|   285087.64|\n",
      "|  Sub-Saharan Africa|              Angola|      Household|      Offline|             M| 4/23/2011|135425221| 4/27/2011|      4187|    668.27|   502.54|   2798046.49|2104134.98|   693911.51|\n",
      "|  Sub-Saharan Africa|        Burkina Faso|     Vegetables|       Online|             H| 7/17/2012|871543967| 7/27/2012|      8082|    154.06|    90.93|   1245112.92| 734896.26|   510216.66|\n",
      "|  Sub-Saharan Africa|Republic of the C...|  Personal Care|      Offline|             M| 7/14/2015|770463311| 8/25/2015|      6070|     81.73|    56.67|    496101.10| 343986.90|   152114.20|\n",
      "|  Sub-Saharan Africa|             Senegal|         Cereal|       Online|             H| 4/18/2014|616607081| 5/30/2014|      6593|    205.70|   117.11|   1356180.10| 772106.23|   584073.87|\n",
      "|                Asia|          Kyrgyzstan|     Vegetables|       Online|             H| 6/24/2011|814711606| 7/12/2011|       124|    154.06|    90.93|     19103.44|  11275.32|     7828.12|\n",
      "|  Sub-Saharan Africa|          Cape Verde|        Clothes|      Offline|             H|  8/2/2014|939825713| 8/19/2014|      4168|    109.28|    35.84|    455479.04| 149381.12|   306097.92|\n",
      "|                Asia|          Bangladesh|        Clothes|       Online|             L| 1/13/2017|187310731|  3/1/2017|      8263|    109.28|    35.84|    902980.64| 296145.92|   606834.72|\n",
      "|Central America a...|            Honduras|      Household|      Offline|             H|  2/8/2017|522840487| 2/13/2017|      8974|    668.27|   502.54|   5997054.98|4509793.96|  1487261.02|\n",
      "|                Asia|            Mongolia|  Personal Care|      Offline|             C| 2/19/2014|832401311| 2/23/2014|      4901|     81.73|    56.67|    400558.73| 277739.67|   122819.06|\n",
      "|              Europe|            Bulgaria|        Clothes|       Online|             M| 4/23/2012|972292029|  6/3/2012|      1673|    109.28|    35.84|    182825.44|  59960.32|   122865.12|\n",
      "|                Asia|           Sri Lanka|      Cosmetics|      Offline|             M|11/19/2016|419123971|12/18/2016|      6952|    437.20|   263.33|   3039414.40|1830670.16|  1208744.24|\n",
      "|  Sub-Saharan Africa|            Cameroon|      Beverages|      Offline|             C|  4/1/2015|519820964| 4/18/2015|      5430|     47.45|    31.79|    257653.50| 172619.70|    85033.80|\n",
      "|                Asia|        Turkmenistan|      Household|      Offline|             L|12/30/2010|441619336| 1/20/2011|      3830|    668.27|   502.54|   2559474.10|1924728.20|   634745.90|\n",
      "|Australia and Oce...|          East Timor|           Meat|       Online|             L| 7/31/2012|322067916| 9/11/2012|      5908|    421.89|   364.69|   2492526.12|2154588.52|   337937.60|\n",
      "+--------------------+--------------------+---------------+-------------+--------------+----------+---------+----------+----------+----------+---------+-------------+----------+------------+\n",
      "only showing top 20 rows\n",
      "\n"
     ]
    }
   ],
   "source": [
    "df.show()"
   ]
  },
  {
   "cell_type": "code",
   "execution_count": 7,
   "metadata": {},
   "outputs": [],
   "source": [
    "dfrdd = df.rdd"
   ]
  },
  {
   "cell_type": "code",
   "execution_count": 8,
   "metadata": {},
   "outputs": [],
   "source": [
    "jobMap = dfrdd.map(lambda x: [x[0],float(x[8])* float(x[9])])\n",
    "\n",
    "\n",
    "#smSal = jobMap.reduceByKey(lambda a,b: a+b)"
   ]
  },
  {
   "cell_type": "code",
   "execution_count": 9,
   "metadata": {},
   "outputs": [
    {
     "data": {
      "text/plain": [
       "[['Australia and Oceania', 2533654.0],\n",
       " ['Central America and the Caribbean', 576782.7999999999],\n",
       " ['Europe', 1158502.59],\n",
       " ['Sub-Saharan Africa', 75591.66],\n",
       " ['Sub-Saharan Africa', 3296425.02],\n",
       " ['Australia and Oceania', 759202.72],\n",
       " ['Sub-Saharan Africa', 2798046.4899999998],\n",
       " ['Sub-Saharan Africa', 1245112.92],\n",
       " ['Sub-Saharan Africa', 496101.10000000003],\n",
       " ['Sub-Saharan Africa', 1356180.0999999999],\n",
       " ['Asia', 19103.44],\n",
       " ['Sub-Saharan Africa', 455479.04],\n",
       " ['Asia', 902980.64],\n",
       " ['Central America and the Caribbean', 5997054.9799999995],\n",
       " ['Asia', 400558.73000000004],\n",
       " ['Europe', 182825.44],\n",
       " ['Asia', 3039414.4],\n",
       " ['Sub-Saharan Africa', 257653.50000000003],\n",
       " ['Asia', 2559474.1],\n",
       " ['Australia and Oceania', 2492526.12],\n",
       " ['Europe', 1901836.0],\n",
       " ['Europe', 324971.44],\n",
       " ['Central America and the Caribbean', 339490.5],\n",
       " ['Australia and Oceania', 20404.71],\n",
       " ['Europe', 414371.10000000003],\n",
       " ['Europe', 793518.0],\n",
       " ['Australia and Oceania', 50363.340000000004],\n",
       " ['Sub-Saharan Africa', 54319.26],\n",
       " ['Europe', 243133.80000000002],\n",
       " ['Sub-Saharan Africa', 1583799.9],\n",
       " ['Europe', 3786589.1999999997],\n",
       " ['Sub-Saharan Africa', 173676.25],\n",
       " ['Australia and Oceania', 1904138.04],\n",
       " ['Asia', 5513227.5],\n",
       " ['Sub-Saharan Africa', 1117953.6600000001],\n",
       " ['Central America and the Caribbean', 523807.57],\n",
       " ['Middle East and North Africa', 35304.72],\n",
       " ['Sub-Saharan Africa', 2011149.63],\n",
       " ['Asia', 4368316.680000001],\n",
       " ['Europe', 2596374.27],\n",
       " ['Sub-Saharan Africa', 246415.95],\n",
       " ['Middle East and North Africa', 3162704.8],\n",
       " ['Sub-Saharan Africa', 435466.89999999997],\n",
       " ['Europe', 26344.260000000002],\n",
       " ['Asia', 648030.4],\n",
       " ['Sub-Saharan Africa', 197883.4],\n",
       " ['Europe', 3876652.4],\n",
       " ['Europe', 22312.29],\n",
       " ['Europe', 856973.76],\n",
       " ['Sub-Saharan Africa', 824431.8600000001],\n",
       " ['Europe', 247956.32],\n",
       " ['Sub-Saharan Africa', 89623.98],\n",
       " ['Middle East and North Africa', 835759.1],\n",
       " ['Sub-Saharan Africa', 2251232.97],\n",
       " ['Sub-Saharan Africa', 71253.21],\n",
       " ['Sub-Saharan Africa', 380512.96],\n",
       " ['Australia and Oceania', 1082418.4],\n",
       " ['Europe', 1244708.4],\n",
       " ['Europe', 188452.13999999998],\n",
       " ['Sub-Saharan Africa', 3154398.0],\n",
       " ['Australia and Oceania', 140287.4],\n",
       " ['Europe', 1212580.0],\n",
       " ['Sub-Saharan Africa', 3593376.7800000003],\n",
       " ['Middle East and North Africa', 668356.48],\n",
       " ['Central America and the Caribbean', 745426.0],\n",
       " ['Sub-Saharan Africa', 1957344.4],\n",
       " ['Sub-Saharan Africa', 707454.88],\n",
       " ['Central America and the Caribbean', 600821.4400000001],\n",
       " ['Europe', 5396577.2700000005],\n",
       " ['Sub-Saharan Africa', 802333.76],\n",
       " ['Asia', 3262562.1],\n",
       " ['Middle East and North Africa', 6279.09],\n",
       " ['Sub-Saharan Africa', 272410.45],\n",
       " ['Sub-Saharan Africa', 1780539.2],\n",
       " ['Middle East and North Africa', 4324782.399999999],\n",
       " ['North America', 4647149.58],\n",
       " ['Australia and Oceania', 445033.55000000005],\n",
       " ['Asia', 574951.92],\n",
       " ['Europe', 2198981.92],\n",
       " ['Australia and Oceania', 4220728.8],\n",
       " ['Europe', 3015902.51],\n",
       " ['Middle East and North Africa', 861563.52],\n",
       " ['Middle East and North Africa', 2836990.8],\n",
       " ['Sub-Saharan Africa', 623289.3],\n",
       " ['Sub-Saharan Africa', 994765.42],\n",
       " ['North America', 524870.06],\n",
       " ['Sub-Saharan Africa', 418936.05000000005],\n",
       " ['Sub-Saharan Africa', 1419101.52],\n",
       " ['Middle East and North Africa', 4870.26],\n",
       " ['Europe', 221117.0],\n",
       " ['Sub-Saharan Africa', 617347.0800000001],\n",
       " ['Australia and Oceania', 445508.05000000005],\n",
       " ['Middle East and North Africa', 1316095.4100000001],\n",
       " ['Europe', 3458252.0],\n",
       " ['Central America and the Caribbean', 387002.2],\n",
       " ['Sub-Saharan Africa', 97040.64],\n",
       " ['Asia', 58471.11],\n",
       " ['Sub-Saharan Africa', 228779.1],\n",
       " ['North America', 471336.91000000003],\n",
       " ['Sub-Saharan Africa', 3586605.09]]"
      ]
     },
     "execution_count": 9,
     "metadata": {},
     "output_type": "execute_result"
    }
   ],
   "source": [
    "jbMp = jobMap.collect()\n",
    "jbMp"
   ]
  },
  {
   "cell_type": "code",
   "execution_count": 38,
   "metadata": {},
   "outputs": [],
   "source": [
    "#maxsale = sorted(jobMap.collect())\n",
    "#print(len,maxsale)\n",
    "#print(maxsale)"
   ]
  },
  {
   "cell_type": "code",
   "execution_count": 11,
   "metadata": {},
   "outputs": [
    {
     "name": "stdout",
     "output_type": "stream",
     "text": [
      "Note: you may need to restart the kernel to use updated packages.\n"
     ]
    },
    {
     "name": "stderr",
     "output_type": "stream",
     "text": [
      "ERROR: Could not find a version that satisfies the requirement worldcloud (from versions: none)\n",
      "ERROR: No matching distribution found for worldcloud\n"
     ]
    }
   ],
   "source": [
    "pip install worldcloud"
   ]
  },
  {
   "cell_type": "code",
   "execution_count": 10,
   "metadata": {},
   "outputs": [
    {
     "ename": "ModuleNotFoundError",
     "evalue": "No module named 'wordcloud'",
     "output_type": "error",
     "traceback": [
      "\u001b[1;31m---------------------------------------------------------------------------\u001b[0m",
      "\u001b[1;31mModuleNotFoundError\u001b[0m                       Traceback (most recent call last)",
      "\u001b[1;32m<ipython-input-10-6c090160e906>\u001b[0m in \u001b[0;36m<module>\u001b[1;34m\u001b[0m\n\u001b[1;32m----> 1\u001b[1;33m \u001b[1;32mfrom\u001b[0m \u001b[0mwordcloud\u001b[0m \u001b[1;32mimport\u001b[0m \u001b[0mWordCloud\u001b[0m\u001b[1;33m\u001b[0m\u001b[1;33m\u001b[0m\u001b[0m\n\u001b[0m\u001b[0;32m      2\u001b[0m \u001b[0mwordcloud\u001b[0m \u001b[1;33m=\u001b[0m \u001b[0mWordCloud\u001b[0m\u001b[1;33m(\u001b[0m\u001b[0mbackground_color\u001b[0m \u001b[1;33m=\u001b[0m \u001b[1;34m'white'\u001b[0m\u001b[1;33m,\u001b[0m \u001b[0mwidth\u001b[0m \u001b[1;33m=\u001b[0m\u001b[1;36m1000\u001b[0m\u001b[1;33m,\u001b[0m \u001b[0mheight\u001b[0m\u001b[1;33m=\u001b[0m\u001b[1;36m500\u001b[0m\u001b[1;33m)\u001b[0m\u001b[1;33m.\u001b[0m\u001b[0mgenerate\u001b[0m\u001b[1;33m(\u001b[0m\u001b[0mstr\u001b[0m\u001b[1;33m(\u001b[0m\u001b[0mjbMp\u001b[0m\u001b[1;33m)\u001b[0m\u001b[1;33m)\u001b[0m\u001b[1;33m\u001b[0m\u001b[1;33m\u001b[0m\u001b[0m\n",
      "\u001b[1;31mModuleNotFoundError\u001b[0m: No module named 'wordcloud'"
     ]
    }
   ],
   "source": [
    "from wordcloud import WordCloud\n",
    "wordcloud = WordCloud(background_color = 'white', width =1000, height=500).generate(str(jbMp))\n"
   ]
  },
  {
   "cell_type": "code",
   "execution_count": 35,
   "metadata": {},
   "outputs": [],
   "source": [
    "import matplotlib.pyplot as plt"
   ]
  },
  {
   "cell_type": "code",
   "execution_count": 36,
   "metadata": {},
   "outputs": [
    {
     "data": {
      "image/png": "[encoded data removed]",
      "text/plain": [
       "<Figure size 432x288 with 1 Axes>"
      ]
     },
     "metadata": {
      "needs_background": "light"
     },
     "output_type": "display_data"
    }
   ],
   "source": [
    "plt.imshow(wordcloud, interpolation= 'bilinear')\n",
    "plt.axis('off')\n",
    "plt.rcParams['figure.figsize']= [15,0]"
   ]
  }
 ],
 "metadata": {
  "kernelspec": {
   "display_name": "Python 3.6.8 ('env': venv)",
   "language": "python",
   "name": "python3"
  },
  "language_info": {
   "codemirror_mode": {
    "name": "ipython",
    "version": 3
   },
   "file_extension": ".py",
   "mimetype": "text/x-python",
   "name": "python",
   "nbconvert_exporter": "python",
   "pygments_lexer": "ipython3",
   "version": "3.6.8"
  },
  "orig_nbformat": 4,
  "vscode": {
   "interpreter": {
    "hash": "d07bea15f202d3d83ec01db8fe874462a1d9829c5a9645f783d1415fa73c3e11"
   }
  }
 },
 "nbformat": 4,
 "nbformat_minor": 2
}
