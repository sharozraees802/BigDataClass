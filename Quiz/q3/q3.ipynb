{
 "cells": [
  {
   "cell_type": "markdown",
   "metadata": {},
   "source": [
    "<center><h1>Najam 9661 Quiz 3</h1></center> "
   ]
  },
  {
   "cell_type": "code",
   "execution_count": 28,
   "metadata": {},
   "outputs": [],
   "source": [
    "from pyspark.sql import SparkSession"
   ]
  },
  {
   "cell_type": "code",
   "execution_count": 29,
   "metadata": {},
   "outputs": [],
   "source": [
    "spark = SparkSession.builder.appName(\"ml-quiz\").getOrCreate()"
   ]
  },
  {
   "cell_type": "code",
   "execution_count": 30,
   "metadata": {},
   "outputs": [],
   "source": [
    "df = spark.read.csv(\"./data/placement.csv\",inferSchema=True, header = True)"
   ]
  },
  {
   "cell_type": "code",
   "execution_count": 31,
   "metadata": {},
   "outputs": [
    {
     "name": "stdout",
     "output_type": "stream",
     "text": [
      "root\n",
      " |-- cgpa: double (nullable = true)\n",
      " |-- placement_exam_marks: double (nullable = true)\n",
      " |-- placed: integer (nullable = true)\n",
      "\n"
     ]
    }
   ],
   "source": [
    "df.printSchema()"
   ]
  },
  {
   "cell_type": "code",
   "execution_count": 32,
   "metadata": {},
   "outputs": [
    {
     "name": "stdout",
     "output_type": "stream",
     "text": [
      "(1000, 3)\n"
     ]
    }
   ],
   "source": [
    "print((df.count(), len(df.columns)))"
   ]
  },
  {
   "cell_type": "code",
   "execution_count": 33,
   "metadata": {},
   "outputs": [
    {
     "data": {
      "text/plain": [
       "511"
      ]
     },
     "execution_count": 33,
     "metadata": {},
     "output_type": "execute_result"
    }
   ],
   "source": [
    "df.filter(df.placed==0).count()"
   ]
  },
  {
   "cell_type": "code",
   "execution_count": 34,
   "metadata": {},
   "outputs": [
    {
     "name": "stdout",
     "output_type": "stream",
     "text": [
      "+----+--------------------+------+\n",
      "|cgpa|placement_exam_marks|placed|\n",
      "+----+--------------------+------+\n",
      "|   0|                   0|     0|\n",
      "+----+--------------------+------+\n",
      "\n"
     ]
    }
   ],
   "source": [
    "from pyspark.sql.functions import isnull, when, count, col\n",
    "df.select([count(when(isnull(c),c)).alias(c) for c in df.columns]).show()"
   ]
  },
  {
   "cell_type": "code",
   "execution_count": 35,
   "metadata": {},
   "outputs": [],
   "source": [
    "import seaborn as sns"
   ]
  },
  {
   "cell_type": "code",
   "execution_count": 36,
   "metadata": {},
   "outputs": [
    {
     "data": {
      "text/plain": [
       "<AxesSubplot:>"
      ]
     },
     "execution_count": 36,
     "metadata": {},
     "output_type": "execute_result"
    },
    {
     "data": {
      "image/png": "[encoded data removed]",
      "text/plain": [
       "<Figure size 432x288 with 2 Axes>"
      ]
     },
     "metadata": {
      "needs_background": "light"
     },
     "output_type": "display_data"
    }
   ],
   "source": [
    "sns.heatmap(df.toPandas().corr(), annot = True)"
   ]
  },
  {
   "cell_type": "code",
   "execution_count": 37,
   "metadata": {},
   "outputs": [
    {
     "name": "stdout",
     "output_type": "stream",
     "text": [
      "+----+--------------------+\n",
      "|cgpa|placement_exam_marks|\n",
      "+----+--------------------+\n",
      "|7.19|                26.0|\n",
      "|7.46|                38.0|\n",
      "|7.54|                40.0|\n",
      "|6.42|                 8.0|\n",
      "|7.23|                17.0|\n",
      "| 7.3|                23.0|\n",
      "|6.69|                11.0|\n",
      "|7.12|                39.0|\n",
      "|6.45|                38.0|\n",
      "|7.75|                94.0|\n",
      "|6.82|                16.0|\n",
      "|6.38|                 7.0|\n",
      "|6.58|                16.0|\n",
      "|5.68|                26.0|\n",
      "|7.91|                43.0|\n",
      "| 7.1|                21.0|\n",
      "|6.53|                19.0|\n",
      "|7.56|                22.0|\n",
      "|6.93|                27.0|\n",
      "|7.63|                29.0|\n",
      "+----+--------------------+\n",
      "only showing top 20 rows\n",
      "\n"
     ]
    }
   ],
   "source": [
    "x = df.drop('placed')\n",
    "x.show()"
   ]
  },
  {
   "cell_type": "code",
   "execution_count": 38,
   "metadata": {},
   "outputs": [],
   "source": [
    "from pyspark.ml.feature import VectorAssembler"
   ]
  },
  {
   "cell_type": "code",
   "execution_count": 39,
   "metadata": {},
   "outputs": [
    {
     "name": "stdout",
     "output_type": "stream",
     "text": [
      "+----+--------------------+------+-----------+\n",
      "|cgpa|placement_exam_marks|placed|features   |\n",
      "+----+--------------------+------+-----------+\n",
      "|7.19|26.0                |1     |[7.19,26.0]|\n",
      "|7.46|38.0                |1     |[7.46,38.0]|\n",
      "|7.54|40.0                |1     |[7.54,40.0]|\n",
      "|6.42|8.0                 |1     |[6.42,8.0] |\n",
      "|7.23|17.0                |0     |[7.23,17.0]|\n",
      "|7.3 |23.0                |1     |[7.3,23.0] |\n",
      "|6.69|11.0                |0     |[6.69,11.0]|\n",
      "|7.12|39.0                |1     |[7.12,39.0]|\n",
      "|6.45|38.0                |0     |[6.45,38.0]|\n",
      "|7.75|94.0                |1     |[7.75,94.0]|\n",
      "|6.82|16.0                |1     |[6.82,16.0]|\n",
      "|6.38|7.0                 |1     |[6.38,7.0] |\n",
      "|6.58|16.0                |1     |[6.58,16.0]|\n",
      "|5.68|26.0                |0     |[5.68,26.0]|\n",
      "|7.91|43.0                |0     |[7.91,43.0]|\n",
      "|7.1 |21.0                |0     |[7.1,21.0] |\n",
      "|6.53|19.0                |0     |[6.53,19.0]|\n",
      "|7.56|22.0                |1     |[7.56,22.0]|\n",
      "|6.93|27.0                |0     |[6.93,27.0]|\n",
      "|7.63|29.0                |0     |[7.63,29.0]|\n",
      "+----+--------------------+------+-----------+\n",
      "only showing top 20 rows\n",
      "\n"
     ]
    }
   ],
   "source": [
    "assembler = VectorAssembler(inputCols=x.columns, outputCol='features')\n",
    "transformed_data = assembler.transform(df)\n",
    "transformed_data.show(truncate=False)"
   ]
  },
  {
   "cell_type": "code",
   "execution_count": 40,
   "metadata": {},
   "outputs": [],
   "source": [
    "#split the data\n",
    "(x_train,x_test) = transformed_data.randomSplit([0.8,0.2])"
   ]
  },
  {
   "cell_type": "markdown",
   "metadata": {},
   "source": [
    "<center><h1>Decision Tree Classifier</h1></center>"
   ]
  },
  {
   "cell_type": "code",
   "execution_count": 41,
   "metadata": {},
   "outputs": [],
   "source": [
    "from pyspark.ml.classification import DecisionTreeClassifier\n",
    "clf = DecisionTreeClassifier(featuresCol = 'features', labelCol = 'placed', maxDepth = 3 )"
   ]
  },
  {
   "cell_type": "code",
   "execution_count": 42,
   "metadata": {},
   "outputs": [],
   "source": [
    "model = clf.fit(x_train)"
   ]
  },
  {
   "cell_type": "code",
   "execution_count": 43,
   "metadata": {},
   "outputs": [
    {
     "name": "stdout",
     "output_type": "stream",
     "text": [
      "+----+--------------------+------+----------+\n",
      "|cgpa|placement_exam_marks|placed|prediction|\n",
      "+----+--------------------+------+----------+\n",
      "| 4.9|                10.0|     1|       1.0|\n",
      "|5.48|                18.0|     0|       1.0|\n",
      "|5.56|                10.0|     0|       1.0|\n",
      "|5.56|                50.0|     0|       0.0|\n",
      "|5.58|                41.0|     0|       0.0|\n",
      "|5.64|                37.0|     1|       0.0|\n",
      "|5.66|                57.0|     1|       0.0|\n",
      "|5.72|                47.0|     0|       0.0|\n",
      "|5.74|                50.0|     0|       0.0|\n",
      "|5.91|                11.0|     1|       1.0|\n",
      "|5.91|                27.0|     0|       1.0|\n",
      "|5.94|                10.0|     0|       1.0|\n",
      "|5.95|               100.0|     0|       0.0|\n",
      "| 6.0|                33.0|     1|       0.0|\n",
      "|6.01|                 9.0|     0|       1.0|\n",
      "|6.05|                45.0|     1|       0.0|\n",
      "|6.07|                29.0|     1|       0.0|\n",
      "| 6.1|                 9.0|     0|       1.0|\n",
      "|6.12|                17.0|     0|       1.0|\n",
      "|6.16|                 3.0|     1|       1.0|\n",
      "+----+--------------------+------+----------+\n",
      "only showing top 20 rows\n",
      "\n"
     ]
    }
   ],
   "source": [
    "predictions = model.transform(x_test)\n",
    "predictions.select('cgpa', 'placement_exam_marks', 'placed','prediction').show()"
   ]
  },
  {
   "cell_type": "code",
   "execution_count": 44,
   "metadata": {},
   "outputs": [
    {
     "name": "stdout",
     "output_type": "stream",
     "text": [
      "+------+----------+-----+\n",
      "|placed|prediction|count|\n",
      "+------+----------+-----+\n",
      "|     1|       0.0|   61|\n",
      "|     0|       0.0|   46|\n",
      "|     1|       1.0|   46|\n",
      "|     0|       1.0|   56|\n",
      "+------+----------+-----+\n",
      "\n"
     ]
    }
   ],
   "source": [
    "predictions.groupBy('placed', 'prediction').count().show()"
   ]
  },
  {
   "cell_type": "code",
   "execution_count": 48,
   "metadata": {},
   "outputs": [],
   "source": [
    "# calculate the elements of the confusion matrix\n",
    "TN = predictions.filter('prediction = 0 AND placed = prediction').count()\n",
    "TP = predictions.filter('prediction = 1 AND placed = prediction').count()\n",
    "FN = predictions.filter('prediction = 0 AND placed <> prediction').count()\n",
    "FP = predictions.filter('prediction = 1 AND placed <> prediction').count()"
   ]
  },
  {
   "cell_type": "code",
   "execution_count": 51,
   "metadata": {},
   "outputs": [
    {
     "name": "stdout",
     "output_type": "stream",
     "text": [
      "n accuracy: 0.440\n",
      "n precision: 0.451\n",
      "n recall: 0.430\n"
     ]
    }
   ],
   "source": [
    "accuracy_DecisionTree = (TN + TP) / (TN + TP + FN +FP)\n",
    "precision_DecisionTree = TP / (TP + FP)\n",
    "recall_DecisionTree = TP/ (TP + FN)\n",
    "\n",
    "print('n accuracy: %0.3f' % accuracy_DecisionTree)\n",
    "print('n precision: %0.3f' % precision_DecisionTree)\n",
    "print('n recall: %0.3f' % recall_DecisionTree)"
   ]
  },
  {
   "cell_type": "markdown",
   "metadata": {},
   "source": [
    "<center><h1>Logistic Regression Classifier</h1></center>"
   ]
  },
  {
   "cell_type": "code",
   "execution_count": 55,
   "metadata": {},
   "outputs": [],
   "source": [
    "from pyspark.ml.classification import LogisticRegression\n",
    "clf = LogisticRegression(featuresCol = 'features', labelCol = 'placed', maxIter = 10 )"
   ]
  },
  {
   "cell_type": "code",
   "execution_count": 56,
   "metadata": {},
   "outputs": [],
   "source": [
    "model = clf.fit(x_train)"
   ]
  },
  {
   "cell_type": "code",
   "execution_count": 57,
   "metadata": {},
   "outputs": [
    {
     "name": "stdout",
     "output_type": "stream",
     "text": [
      "+----+--------------------+------+----------+\n",
      "|cgpa|placement_exam_marks|placed|prediction|\n",
      "+----+--------------------+------+----------+\n",
      "| 4.9|                10.0|     1|       0.0|\n",
      "|5.48|                18.0|     0|       0.0|\n",
      "|5.56|                10.0|     0|       0.0|\n",
      "|5.56|                50.0|     0|       0.0|\n",
      "|5.58|                41.0|     0|       0.0|\n",
      "|5.64|                37.0|     1|       0.0|\n",
      "|5.66|                57.0|     1|       0.0|\n",
      "|5.72|                47.0|     0|       0.0|\n",
      "|5.74|                50.0|     0|       0.0|\n",
      "|5.91|                11.0|     1|       0.0|\n",
      "|5.91|                27.0|     0|       0.0|\n",
      "|5.94|                10.0|     0|       0.0|\n",
      "|5.95|               100.0|     0|       0.0|\n",
      "| 6.0|                33.0|     1|       0.0|\n",
      "|6.01|                 9.0|     0|       0.0|\n",
      "|6.05|                45.0|     1|       0.0|\n",
      "|6.07|                29.0|     1|       0.0|\n",
      "| 6.1|                 9.0|     0|       0.0|\n",
      "|6.12|                17.0|     0|       0.0|\n",
      "|6.16|                 3.0|     1|       0.0|\n",
      "+----+--------------------+------+----------+\n",
      "only showing top 20 rows\n",
      "\n"
     ]
    },
    {
     "name": "stderr",
     "output_type": "stream",
     "text": [
      "Exception ignored in: <object repr() failed>\n",
      "Traceback (most recent call last):\n",
      "  File \"e:\\Course\\BigData\\Quiz\\quizenv\\lib\\site-packages\\pyspark\\ml\\wrapper.py\", line 39, in __del__\n",
      "    if SparkContext._active_spark_context and self._java_obj is not None:\n",
      "AttributeError: 'DecisionTreeClassifier' object has no attribute '_java_obj'\n"
     ]
    }
   ],
   "source": [
    "predictions = model.transform(x_test)\n",
    "predictions.select('cgpa', 'placement_exam_marks', 'placed','prediction').show()"
   ]
  },
  {
   "cell_type": "code",
   "execution_count": 58,
   "metadata": {},
   "outputs": [
    {
     "name": "stdout",
     "output_type": "stream",
     "text": [
      "+------+----------+-----+\n",
      "|placed|prediction|count|\n",
      "+------+----------+-----+\n",
      "|     1|       0.0|   85|\n",
      "|     0|       0.0|   86|\n",
      "|     1|       1.0|   22|\n",
      "|     0|       1.0|   16|\n",
      "+------+----------+-----+\n",
      "\n"
     ]
    }
   ],
   "source": [
    "predictions.groupBy('placed', 'prediction').count().show()"
   ]
  },
  {
   "cell_type": "code",
   "execution_count": 59,
   "metadata": {},
   "outputs": [],
   "source": [
    "# calculate the elements of the confusion matrix\n",
    "TN = predictions.filter('prediction = 0 AND placed = prediction').count()\n",
    "TP = predictions.filter('prediction = 1 AND placed = prediction').count()\n",
    "FN = predictions.filter('prediction = 0 AND placed <> prediction').count()\n",
    "FP = predictions.filter('prediction = 1 AND placed <> prediction').count()"
   ]
  },
  {
   "cell_type": "code",
   "execution_count": 60,
   "metadata": {},
   "outputs": [
    {
     "name": "stdout",
     "output_type": "stream",
     "text": [
      "n accuracy: 0.517\n",
      "n precision: 0.579\n",
      "n recall: 0.206\n"
     ]
    }
   ],
   "source": [
    "accuracy_LogisticRegression = (TN + TP) / (TN + TP + FN +FP)\n",
    "precision_LogisticRegression = TP / (TP + FP)\n",
    "recall_LogisticRegression = TP/ (TP + FN)\n",
    "\n",
    "print('n accuracy: %0.3f' % accuracy_LogisticRegression)\n",
    "print('n precision: %0.3f' % precision_LogisticRegression)\n",
    "print('n recall: %0.3f' % recall_LogisticRegression)"
   ]
  },
  {
   "cell_type": "markdown",
   "metadata": {},
   "source": [
    "<center><h1>Random Forest Classifier</h1></center>"
   ]
  },
  {
   "cell_type": "code",
   "execution_count": 61,
   "metadata": {},
   "outputs": [],
   "source": [
    "from pyspark.ml.classification import RandomForestClassifier\n",
    "clf = RandomForestClassifier(featuresCol = 'features', labelCol = 'placed', maxDepth = 5 )"
   ]
  },
  {
   "cell_type": "code",
   "execution_count": 62,
   "metadata": {},
   "outputs": [],
   "source": [
    "model = clf.fit(x_train)"
   ]
  },
  {
   "cell_type": "code",
   "execution_count": 63,
   "metadata": {},
   "outputs": [
    {
     "name": "stdout",
     "output_type": "stream",
     "text": [
      "+----+--------------------+------+----------+\n",
      "|cgpa|placement_exam_marks|placed|prediction|\n",
      "+----+--------------------+------+----------+\n",
      "| 4.9|                10.0|     1|       0.0|\n",
      "|5.48|                18.0|     0|       1.0|\n",
      "|5.56|                10.0|     0|       0.0|\n",
      "|5.56|                50.0|     0|       1.0|\n",
      "|5.58|                41.0|     0|       1.0|\n",
      "|5.64|                37.0|     1|       1.0|\n",
      "|5.66|                57.0|     1|       0.0|\n",
      "|5.72|                47.0|     0|       1.0|\n",
      "|5.74|                50.0|     0|       1.0|\n",
      "|5.91|                11.0|     1|       1.0|\n",
      "|5.91|                27.0|     0|       0.0|\n",
      "|5.94|                10.0|     0|       0.0|\n",
      "|5.95|               100.0|     0|       1.0|\n",
      "| 6.0|                33.0|     1|       0.0|\n",
      "|6.01|                 9.0|     0|       0.0|\n",
      "|6.05|                45.0|     1|       1.0|\n",
      "|6.07|                29.0|     1|       0.0|\n",
      "| 6.1|                 9.0|     0|       1.0|\n",
      "|6.12|                17.0|     0|       1.0|\n",
      "|6.16|                 3.0|     1|       1.0|\n",
      "+----+--------------------+------+----------+\n",
      "only showing top 20 rows\n",
      "\n"
     ]
    }
   ],
   "source": [
    "predictions = model.transform(x_test)\n",
    "predictions.select('cgpa', 'placement_exam_marks', 'placed','prediction').show()"
   ]
  },
  {
   "cell_type": "code",
   "execution_count": 64,
   "metadata": {},
   "outputs": [
    {
     "name": "stdout",
     "output_type": "stream",
     "text": [
      "+------+----------+-----+\n",
      "|placed|prediction|count|\n",
      "+------+----------+-----+\n",
      "|     1|       0.0|   63|\n",
      "|     0|       0.0|   62|\n",
      "|     1|       1.0|   44|\n",
      "|     0|       1.0|   40|\n",
      "+------+----------+-----+\n",
      "\n"
     ]
    }
   ],
   "source": [
    "predictions.groupBy('placed', 'prediction').count().show()"
   ]
  },
  {
   "cell_type": "code",
   "execution_count": 65,
   "metadata": {},
   "outputs": [],
   "source": [
    "# calculate the elements of the confusion matrix\n",
    "TN = predictions.filter('prediction = 0 AND placed = prediction').count()\n",
    "TP = predictions.filter('prediction = 1 AND placed = prediction').count()\n",
    "FN = predictions.filter('prediction = 0 AND placed <> prediction').count()\n",
    "FP = predictions.filter('prediction = 1 AND placed <> prediction').count()"
   ]
  },
  {
   "cell_type": "code",
   "execution_count": 66,
   "metadata": {},
   "outputs": [
    {
     "name": "stdout",
     "output_type": "stream",
     "text": [
      "n accuracy: 0.507\n",
      "n precision: 0.524\n",
      "n recall: 0.411\n"
     ]
    }
   ],
   "source": [
    "accuracy_RandomForestClassifier = (TN + TP) / (TN + TP + FN +FP)\n",
    "precision_RandomForestClassifier = TP / (TP + FP)\n",
    "recall_RandomForestClassifier = TP/ (TP + FN)\n",
    "\n",
    "print('n accuracy: %0.3f' % accuracy_RandomForestClassifier)\n",
    "print('n precision: %0.3f' % precision_RandomForestClassifier)\n",
    "print('n recall: %0.3f' % recall_RandomForestClassifier)"
   ]
  },
  {
   "cell_type": "markdown",
   "metadata": {},
   "source": [
    "<center><h1>Comparision</h1></center>"
   ]
  },
  {
   "cell_type": "code",
   "execution_count": 67,
   "metadata": {},
   "outputs": [
    {
     "name": "stdout",
     "output_type": "stream",
     "text": [
      "LogisticRegression\n",
      "n accuracy: 0.517\n",
      "n precision: 0.579\n",
      "n recall: 0.206\n",
      "------------------------------------\n",
      "DecisionTree\n",
      "n accuracy: 0.440\n",
      "n precision: 0.451\n",
      "n recall: 0.430\n",
      "------------------------------------\n",
      "RandomForest\n",
      "n accuracy: 0.507\n",
      "n precision: 0.524\n",
      "n recall: 0.411\n"
     ]
    }
   ],
   "source": [
    "print(\"LogisticRegression\")\n",
    "print('n accuracy: %0.3f' % accuracy_LogisticRegression)\n",
    "print('n precision: %0.3f' % precision_LogisticRegression)\n",
    "print('n recall: %0.3f' % recall_LogisticRegression)\n",
    "print('------------------------------------')\n",
    "print(\"DecisionTree\")\n",
    "print('n accuracy: %0.3f' % accuracy_DecisionTree)\n",
    "print('n precision: %0.3f' % precision_DecisionTree)\n",
    "print('n recall: %0.3f' % recall_DecisionTree)\n",
    "print('------------------------------------')\n",
    "print(\"RandomForest\")\n",
    "print('n accuracy: %0.3f' % accuracy_RandomForestClassifier)\n",
    "print('n precision: %0.3f' % precision_RandomForestClassifier)\n",
    "print('n recall: %0.3f' % recall_RandomForestClassifier)"
   ]
  }
 ],
 "metadata": {
  "kernelspec": {
   "display_name": "Python 3.6.8 ('quizenv': venv)",
   "language": "python",
   "name": "python3"
  },
  "language_info": {
   "codemirror_mode": {
    "name": "ipython",
    "version": 3
   },
   "file_extension": ".py",
   "mimetype": "text/x-python",
   "name": "python",
   "nbconvert_exporter": "python",
   "pygments_lexer": "ipython3",
   "version": "3.6.8"
  },
  "orig_nbformat": 4,
  "vscode": {
   "interpreter": {
    "hash": "2e38922bfe237a838d0436c41e8cf4e67ae82bd79accf89c273a54a34193119f"
   }
  }
 },
 "nbformat": 4,
 "nbformat_minor": 2
}
