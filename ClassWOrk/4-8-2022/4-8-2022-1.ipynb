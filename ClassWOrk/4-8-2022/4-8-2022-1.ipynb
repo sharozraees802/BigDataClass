{
 "cells": [
  {
   "cell_type": "code",
   "execution_count": 1,
   "id": "822245ea",
   "metadata": {},
   "outputs": [],
   "source": [
    "from pyspark.sql import SparkSession"
   ]
  },
  {
   "cell_type": "code",
   "execution_count": 2,
   "id": "0f711403",
   "metadata": {},
   "outputs": [],
   "source": [
    "spark = SparkSession.builder.appName(\"pySpWordCountCSV\").getOrCreate()"
   ]
  },
  {
   "cell_type": "code",
   "execution_count": 3,
   "id": "2196dc41",
   "metadata": {},
   "outputs": [],
   "source": [
    "spark.conf.set(\"spark.sqllegacy.timeParserPolicy\", \"LEGACY\")"
   ]
  },
  {
   "cell_type": "code",
   "execution_count": 7,
   "id": "60a837af",
   "metadata": {},
   "outputs": [],
   "source": [
    "df1 = spark.read.csv(\".././dataSet//ddFtMx.csv\",inferSchema=True, header = True)"
   ]
  },
  {
   "cell_type": "code",
   "execution_count": 8,
   "id": "0d7ea670",
   "metadata": {},
   "outputs": [
    {
     "data": {
      "text/plain": [
       "DataFrame[empno: int, ename: string, job: string, mgr: int, hiredate: string, sal: int, comm: int, deptno: int]"
      ]
     },
     "execution_count": 8,
     "metadata": {},
     "output_type": "execute_result"
    }
   ],
   "source": [
    "df1"
   ]
  },
  {
   "cell_type": "code",
   "execution_count": 9,
   "id": "cc3e935f",
   "metadata": {},
   "outputs": [
    {
     "name": "stdout",
     "output_type": "stream",
     "text": [
      "root\n",
      " |-- empno: integer (nullable = true)\n",
      " |-- ename: string (nullable = true)\n",
      " |-- job: string (nullable = true)\n",
      " |-- mgr: integer (nullable = true)\n",
      " |-- hiredate: string (nullable = true)\n",
      " |-- sal: integer (nullable = true)\n",
      " |-- comm: integer (nullable = true)\n",
      " |-- deptno: integer (nullable = true)\n",
      "\n"
     ]
    }
   ],
   "source": [
    "df1.printSchema()"
   ]
  },
  {
   "cell_type": "code",
   "execution_count": 10,
   "id": "2400f030",
   "metadata": {},
   "outputs": [
    {
     "data": {
      "text/plain": [
       "['empno', 'ename', 'job', 'mgr', 'hiredate', 'sal', 'comm', 'deptno']"
      ]
     },
     "execution_count": 10,
     "metadata": {},
     "output_type": "execute_result"
    }
   ],
   "source": [
    "df1.columns"
   ]
  },
  {
   "cell_type": "code",
   "execution_count": 11,
   "id": "7b853aee",
   "metadata": {},
   "outputs": [
    {
     "data": {
      "text/plain": [
       "[Row(empno=7839, ename='KING', job='PRESIDENT', mgr=None, hiredate='11/17/2001', sal=5000, comm=None, deptno=10),\n",
       " Row(empno=7698, ename='BLAKE', job='MANAGER', mgr=7839, hiredate='05/01/2001', sal=2850, comm=None, deptno=30)]"
      ]
     },
     "execution_count": 11,
     "metadata": {},
     "output_type": "execute_result"
    }
   ],
   "source": [
    "df1.take(2)"
   ]
  },
  {
   "cell_type": "code",
   "execution_count": 16,
   "id": "a2424b72",
   "metadata": {},
   "outputs": [
    {
     "data": {
      "text/plain": [
       "Row(empno=7839, ename='KING', job='PRESIDENT', mgr=None, hiredate='11/17/2001', sal=5000, comm=None, deptno=10)"
      ]
     },
     "execution_count": 16,
     "metadata": {},
     "output_type": "execute_result"
    }
   ],
   "source": [
    "df1.head(2)"
   ]
  },
  {
   "cell_type": "code",
   "execution_count": 28,
   "id": "caa4b6e1",
   "metadata": {},
   "outputs": [
    {
     "data": {
      "text/plain": [
       "'11/17/2001'"
      ]
     },
     "execution_count": 28,
     "metadata": {},
     "output_type": "execute_result"
    }
   ],
   "source": [
    "df1.head(2)[0][\"hiredate\"]"
   ]
  },
  {
   "cell_type": "code",
   "execution_count": 13,
   "id": "935bdf17",
   "metadata": {},
   "outputs": [
    {
     "data": {
      "text/plain": [
       "Row(empno=7839, ename='KING', job='PRESIDENT', mgr=None, hiredate='11/17/2001', sal=5000, comm=None, deptno=10)"
      ]
     },
     "execution_count": 13,
     "metadata": {},
     "output_type": "execute_result"
    }
   ],
   "source": [
    "df1.first()"
   ]
  },
  {
   "cell_type": "code",
   "execution_count": 17,
   "id": "3055c568",
   "metadata": {},
   "outputs": [
    {
     "name": "stdout",
     "output_type": "stream",
     "text": [
      "+----------+\n",
      "|  hiredate|\n",
      "+----------+\n",
      "|11/17/2001|\n",
      "|05/01/2001|\n",
      "|06/09/2001|\n",
      "|04/02/2001|\n",
      "|09/28/2001|\n",
      "|02/20/2001|\n",
      "|09/08/2001|\n",
      "|12/03/2001|\n",
      "|02/22/2001|\n",
      "|02/03/2001|\n",
      "|12/17/2000|\n",
      "|04/19/2007|\n",
      "|05/23/2007|\n",
      "|01/23/2002|\n",
      "+----------+\n",
      "\n"
     ]
    }
   ],
   "source": [
    "df1.select(\"hiredate\").show()"
   ]
  },
  {
   "cell_type": "code",
   "execution_count": 15,
   "id": "053b0428",
   "metadata": {},
   "outputs": [
    {
     "data": {
      "text/plain": [
       "pyspark.sql.dataframe.DataFrame"
      ]
     },
     "execution_count": 15,
     "metadata": {},
     "output_type": "execute_result"
    }
   ],
   "source": [
    "type(df1.select(\"hiredate\"))"
   ]
  },
  {
   "cell_type": "code",
   "execution_count": 19,
   "id": "978ab2ea",
   "metadata": {},
   "outputs": [
    {
     "name": "stdout",
     "output_type": "stream",
     "text": [
      "+-----+-----+---------+----+----------+----+----+------+---------+\n",
      "|empno|ename|      job| mgr|  hiredate| sal|comm|deptno|Annualsal|\n",
      "+-----+-----+---------+----+----------+----+----+------+---------+\n",
      "| 7839| KING|PRESIDENT|null|11/17/2001|5000|null|    10|    60000|\n",
      "| 7698|BLAKE|  MANAGER|7839|05/01/2001|2850|null|    30|    34200|\n",
      "+-----+-----+---------+----+----------+----+----+------+---------+\n",
      "only showing top 2 rows\n",
      "\n"
     ]
    }
   ],
   "source": [
    "from pyspark.sql.functions import *\n",
    "df1 = df1.withColumn('Annualsal', df1.sal*12)\n",
    "df1.show(2)"
   ]
  },
  {
   "cell_type": "code",
   "execution_count": 22,
   "id": "11d409a4",
   "metadata": {},
   "outputs": [
    {
     "name": "stdout",
     "output_type": "stream",
     "text": [
      "+-----+-----+---------+----+----------+----+----+------+---------+----------+\n",
      "|empno|ename|      job| mgr|  hiredate| sal|comm|deptno|Annualsal|  newDtCol|\n",
      "+-----+-----+---------+----+----------+----+----+------+---------+----------+\n",
      "| 7839| KING|PRESIDENT|null|11/17/2001|5000|null|    10|    60000|11/17/2001|\n",
      "| 7698|BLAKE|  MANAGER|7839|05/01/2001|2850|null|    30|    34200|05/01/2001|\n",
      "| 7782|CLARK|  MANAGER|7839|06/09/2001|2450|null|    10|    29400|06/09/2001|\n",
      "+-----+-----+---------+----+----------+----+----+------+---------+----------+\n",
      "only showing top 3 rows\n",
      "\n"
     ]
    }
   ],
   "source": [
    "df1.withColumn('newDtCol', df1['hiredate']).show(3)"
   ]
  },
  {
   "cell_type": "code",
   "execution_count": 23,
   "id": "d28617a3",
   "metadata": {},
   "outputs": [
    {
     "name": "stdout",
     "output_type": "stream",
     "text": [
      "+-----+-----+---------+----+----------+------+----+------+---------+\n",
      "|empno|ename|      job| mgr|  hiredate|salary|comm|deptno|Annualsal|\n",
      "+-----+-----+---------+----+----------+------+----+------+---------+\n",
      "| 7839| KING|PRESIDENT|null|11/17/2001|  5000|null|    10|    60000|\n",
      "| 7698|BLAKE|  MANAGER|7839|05/01/2001|  2850|null|    30|    34200|\n",
      "+-----+-----+---------+----+----------+------+----+------+---------+\n",
      "only showing top 2 rows\n",
      "\n"
     ]
    }
   ],
   "source": [
    "df1.withColumnRenamed('sal','salary').show(2)"
   ]
  },
  {
   "cell_type": "code",
   "execution_count": 24,
   "id": "126a2b72",
   "metadata": {},
   "outputs": [
    {
     "name": "stdout",
     "output_type": "stream",
     "text": [
      "+-----+------+---------+----+----------+----+----+------+\n",
      "|empno| ename|      job| mgr|  hiredate| sal|comm|deptno|\n",
      "+-----+------+---------+----+----------+----+----+------+\n",
      "| 7839|  KING|PRESIDENT|null|11/17/2001|5000|null|    10|\n",
      "| 7698| BLAKE|  MANAGER|7839|05/01/2001|2850|null|    30|\n",
      "| 7782| CLARK|  MANAGER|7839|06/09/2001|2450|null|    10|\n",
      "| 7566| JONES|  MANAGER|7839|04/02/2001|2975|null|    20|\n",
      "| 7654|MARTIN| SALESMAN|7698|09/28/2001|1250|1400|    30|\n",
      "+-----+------+---------+----+----------+----+----+------+\n",
      "only showing top 5 rows\n",
      "\n"
     ]
    }
   ],
   "source": [
    "df02 = df1.drop(df1.Annualsal)\n",
    "df02.show(5)"
   ]
  },
  {
   "cell_type": "code",
   "execution_count": 26,
   "id": "9d6cc2a1",
   "metadata": {},
   "outputs": [
    {
     "name": "stdout",
     "output_type": "stream",
     "text": [
      "+----------+------+\n",
      "|  hiredate|   sal|\n",
      "+----------+------+\n",
      "|11/17/2001|5000.0|\n",
      "|05/01/2001|2850.0|\n",
      "+----------+------+\n",
      "only showing top 2 rows\n",
      "\n"
     ]
    }
   ],
   "source": [
    "from pyspark.sql.functions import *\n",
    "df2 = df1.select(col(\"hiredate\"),col(\"sal\").cast(\"double\"))\n",
    "df2.show(2)"
   ]
  },
  {
   "cell_type": "code",
   "execution_count": 27,
   "id": "7db9617a",
   "metadata": {},
   "outputs": [
    {
     "name": "stdout",
     "output_type": "stream",
     "text": [
      "root\n",
      " |-- hiredate: string (nullable = true)\n",
      " |-- sal: double (nullable = true)\n",
      "\n"
     ]
    }
   ],
   "source": [
    "df2.printSchema()"
   ]
  },
  {
   "cell_type": "code",
   "execution_count": 30,
   "id": "377848b9",
   "metadata": {},
   "outputs": [],
   "source": [
    "from pyspark.sql.types import StructField, IntegerType, DoubleType, StringType, StructType, DateType"
   ]
  },
  {
   "cell_type": "code",
   "execution_count": 35,
   "id": "27a64d24",
   "metadata": {},
   "outputs": [],
   "source": [
    "dataSchema = [StructField('empno',IntegerType(),True),StructField('ename',StringType(),True),\n",
    "              StructField('job',StringType(),True),\n",
    "              StructField('sal',DoubleType(),True),\n",
    "             ]"
   ]
  },
  {
   "cell_type": "code",
   "execution_count": 36,
   "id": "6f52530d",
   "metadata": {},
   "outputs": [],
   "source": [
    "finalStruc = StructType(fields=dataSchema)"
   ]
  },
  {
   "cell_type": "code",
   "execution_count": 39,
   "id": "1e01c7c0",
   "metadata": {},
   "outputs": [
    {
     "name": "stdout",
     "output_type": "stream",
     "text": [
      "+-----+------+---------+------+\n",
      "|empno| ename|      job|   sal|\n",
      "+-----+------+---------+------+\n",
      "| 7839|  KING|PRESIDENT|5000.0|\n",
      "| 7698| BLAKE|  MANAGER|2850.0|\n",
      "| 7782| CLARK|  MANAGER|2450.0|\n",
      "| 7566| JONES|  MANAGER|2975.0|\n",
      "| 7654|MARTIN| SALESMAN|1250.0|\n",
      "| 7499| ALLEN| SALESMAN|1600.0|\n",
      "| 7844|TURNER| SALESMAN|1500.0|\n",
      "| 7900| JAMES|    CLERK| 950.0|\n",
      "| 7521|  WARD| SALESMAN|1250.0|\n",
      "| 7902|  FORD|  ANALYST|3000.0|\n",
      "| 7369| SMITH|    CLERK| 800.0|\n",
      "| 7788| SCOTT|  ANALYST|3000.0|\n",
      "| 7876| ADAMS|    CLERK|1100.0|\n",
      "| 7934|MILLER|    CLERK|1300.0|\n",
      "+-----+------+---------+------+\n",
      "\n"
     ]
    }
   ],
   "source": [
    "df3 = spark.read.json('./emp.json',schema=finalStruc)\n",
    "df3.show()"
   ]
  },
  {
   "cell_type": "code",
   "execution_count": 40,
   "id": "bb9f6332",
   "metadata": {},
   "outputs": [
    {
     "data": {
      "text/plain": [
       "DataFrame[sal: double]"
      ]
     },
     "execution_count": 40,
     "metadata": {},
     "output_type": "execute_result"
    }
   ],
   "source": [
    "df3.select(\"sal\")"
   ]
  },
  {
   "cell_type": "code",
   "execution_count": 41,
   "id": "c387eaf2",
   "metadata": {},
   "outputs": [],
   "source": [
    "df4 = df3.withColumn(\"sal\",df3[\"sal\"].cast(DoubleType())).withColumn(\"ename\",df3[\"ename\"].cast(StringType()))"
   ]
  },
  {
   "cell_type": "code",
   "execution_count": 42,
   "id": "19897732",
   "metadata": {},
   "outputs": [
    {
     "data": {
      "text/plain": [
       "DataFrame[sal: double]"
      ]
     },
     "execution_count": 42,
     "metadata": {},
     "output_type": "execute_result"
    }
   ],
   "source": [
    "df4.select(\"sal\")"
   ]
  },
  {
   "cell_type": "code",
   "execution_count": 43,
   "id": "870f4367",
   "metadata": {},
   "outputs": [
    {
     "data": {
      "text/plain": [
       "DataFrame[ename: string]"
      ]
     },
     "execution_count": 43,
     "metadata": {},
     "output_type": "execute_result"
    }
   ],
   "source": [
    "df4.select(\"ename\")"
   ]
  },
  {
   "cell_type": "code",
   "execution_count": 44,
   "id": "d8f379d3",
   "metadata": {},
   "outputs": [
    {
     "name": "stdout",
     "output_type": "stream",
     "text": [
      "+-----+------+---------+------+\n",
      "|empno| ename|      job|   sal|\n",
      "+-----+------+---------+------+\n",
      "| 7839|  KING|PRESIDENT|5000.0|\n",
      "| 7698| BLAKE|  MANAGER|2850.0|\n",
      "| 7782| CLARK|  MANAGER|2450.0|\n",
      "| 7566| JONES|  MANAGER|2975.0|\n",
      "| 7654|MARTIN| SALESMAN|1250.0|\n",
      "| 7499| ALLEN| SALESMAN|1600.0|\n",
      "| 7844|TURNER| SALESMAN|1500.0|\n",
      "| 7900| JAMES|    CLERK| 950.0|\n",
      "| 7521|  WARD| SALESMAN|1250.0|\n",
      "| 7902|  FORD|  ANALYST|3000.0|\n",
      "| 7369| SMITH|    CLERK| 800.0|\n",
      "| 7788| SCOTT|  ANALYST|3000.0|\n",
      "| 7876| ADAMS|    CLERK|1100.0|\n",
      "| 7934|MILLER|    CLERK|1300.0|\n",
      "+-----+------+---------+------+\n",
      "\n"
     ]
    }
   ],
   "source": [
    "df4.show()"
   ]
  },
  {
   "cell_type": "code",
   "execution_count": 46,
   "id": "16b54382",
   "metadata": {},
   "outputs": [
    {
     "name": "stdout",
     "output_type": "stream",
     "text": [
      "inner, outer, full,fullouter, fill_outer, leftouter,left, left_outer, rightouter, right, right_outer, leftsemi, left_semi, leftanti, left_anti, cross \n"
     ]
    }
   ],
   "source": [
    "print('inner, outer, full,fullouter, fill_outer, leftouter,left, left_outer, rightouter, right, right_outer, leftsemi, left_semi, leftanti, left_anti, cross ')"
   ]
  },
  {
   "cell_type": "code",
   "execution_count": 49,
   "id": "e9640645",
   "metadata": {},
   "outputs": [],
   "source": [
    "dept = spark.read.csv(\"./dept.csv\",inferSchema=True, header = True)\n",
    "emp = spark.read.csv(\"./emp.csv\",inferSchema=True, header = True)"
   ]
  },
  {
   "cell_type": "code",
   "execution_count": 52,
   "id": "40328f58",
   "metadata": {},
   "outputs": [
    {
     "name": "stdout",
     "output_type": "stream",
     "text": [
      "+------+----------+--------+-----+------+---------+----+----------+----+----+------+\n",
      "|deptno|     dname|     loc|empno| ename|      job| mgr|  hiredate| sal|comm|deptno|\n",
      "+------+----------+--------+-----+------+---------+----+----------+----+----+------+\n",
      "|    10|ACCOUNTING|NEW YORK| 7934|MILLER|    CLERK|7782|01/23/2002|1300|null|    10|\n",
      "|    10|ACCOUNTING|NEW YORK| 7782| CLARK|  MANAGER|7839|06/09/2001|2450|null|    10|\n",
      "|    10|ACCOUNTING|NEW YORK| 7839|  KING|PRESIDENT|null|11/17/2001|5000|null|    10|\n",
      "|    20|  RESEARCH|  DALLAS| 7876| ADAMS|    CLERK|7788|05/23/2007|1100|null|    20|\n",
      "|    20|  RESEARCH|  DALLAS| 7788| SCOTT|  ANALYST|7566|04/19/2007|3000|null|    20|\n",
      "+------+----------+--------+-----+------+---------+----+----------+----+----+------+\n",
      "only showing top 5 rows\n",
      "\n"
     ]
    }
   ],
   "source": [
    "res04= dept.join(emp,dept.deptno==emp.deptno, 'left')\n",
    "res04.show(5)"
   ]
  },
  {
   "cell_type": "code",
   "execution_count": 54,
   "id": "e831935b",
   "metadata": {},
   "outputs": [
    {
     "name": "stdout",
     "output_type": "stream",
     "text": [
      "+-----+------+---------+----+----------+----+----+------+------+----------+--------+\n",
      "|empno| ename|      job| mgr|  hiredate| sal|comm|deptno|deptno|     dname|     loc|\n",
      "+-----+------+---------+----+----------+----+----+------+------+----------+--------+\n",
      "| 7839|  KING|PRESIDENT|null|11/17/2001|5000|null|    10|    10|ACCOUNTING|NEW YORK|\n",
      "| 7839|  KING|PRESIDENT|null|11/17/2001|5000|null|    10|    20|  RESEARCH|  DALLAS|\n",
      "| 7839|  KING|PRESIDENT|null|11/17/2001|5000|null|    10|    30|     SALES| CHICAGO|\n",
      "| 7839|  KING|PRESIDENT|null|11/17/2001|5000|null|    10|    40|OPERATIONS|  BOSTON|\n",
      "| 7698| BLAKE|  MANAGER|7839|05/01/2001|2850|null|    30|    10|ACCOUNTING|NEW YORK|\n",
      "| 7698| BLAKE|  MANAGER|7839|05/01/2001|2850|null|    30|    20|  RESEARCH|  DALLAS|\n",
      "| 7698| BLAKE|  MANAGER|7839|05/01/2001|2850|null|    30|    30|     SALES| CHICAGO|\n",
      "| 7698| BLAKE|  MANAGER|7839|05/01/2001|2850|null|    30|    40|OPERATIONS|  BOSTON|\n",
      "| 7782| CLARK|  MANAGER|7839|06/09/2001|2450|null|    10|    10|ACCOUNTING|NEW YORK|\n",
      "| 7782| CLARK|  MANAGER|7839|06/09/2001|2450|null|    10|    20|  RESEARCH|  DALLAS|\n",
      "| 7782| CLARK|  MANAGER|7839|06/09/2001|2450|null|    10|    30|     SALES| CHICAGO|\n",
      "| 7782| CLARK|  MANAGER|7839|06/09/2001|2450|null|    10|    40|OPERATIONS|  BOSTON|\n",
      "| 7566| JONES|  MANAGER|7839|04/02/2001|2975|null|    20|    10|ACCOUNTING|NEW YORK|\n",
      "| 7566| JONES|  MANAGER|7839|04/02/2001|2975|null|    20|    20|  RESEARCH|  DALLAS|\n",
      "| 7566| JONES|  MANAGER|7839|04/02/2001|2975|null|    20|    30|     SALES| CHICAGO|\n",
      "| 7566| JONES|  MANAGER|7839|04/02/2001|2975|null|    20|    40|OPERATIONS|  BOSTON|\n",
      "| 7654|MARTIN| SALESMAN|7698|09/28/2001|1250|1400|    30|    10|ACCOUNTING|NEW YORK|\n",
      "| 7654|MARTIN| SALESMAN|7698|09/28/2001|1250|1400|    30|    20|  RESEARCH|  DALLAS|\n",
      "| 7654|MARTIN| SALESMAN|7698|09/28/2001|1250|1400|    30|    30|     SALES| CHICAGO|\n",
      "| 7654|MARTIN| SALESMAN|7698|09/28/2001|1250|1400|    30|    40|OPERATIONS|  BOSTON|\n",
      "+-----+------+---------+----+----------+----+----+------+------+----------+--------+\n",
      "only showing top 20 rows\n",
      "\n"
     ]
    }
   ],
   "source": [
    "res04= emp.crossJoin(dept)\n",
    "res04.show()"
   ]
  },
  {
   "cell_type": "code",
   "execution_count": 55,
   "id": "cf4c09e3",
   "metadata": {},
   "outputs": [
    {
     "name": "stdout",
     "output_type": "stream",
     "text": [
      "+------+----------+--------+-----+------+---------+----+----------+----+----+------+\n",
      "|deptno|     dname|     loc|empno| ename|      job| mgr|  hiredate| sal|comm|deptno|\n",
      "+------+----------+--------+-----+------+---------+----+----------+----+----+------+\n",
      "|    10|ACCOUNTING|NEW YORK| 7839|  KING|PRESIDENT|null|11/17/2001|5000|null|    10|\n",
      "|    30|     SALES| CHICAGO| 7698| BLAKE|  MANAGER|7839|05/01/2001|2850|null|    30|\n",
      "|    10|ACCOUNTING|NEW YORK| 7782| CLARK|  MANAGER|7839|06/09/2001|2450|null|    10|\n",
      "|    20|  RESEARCH|  DALLAS| 7566| JONES|  MANAGER|7839|04/02/2001|2975|null|    20|\n",
      "|    30|     SALES| CHICAGO| 7654|MARTIN| SALESMAN|7698|09/28/2001|1250|1400|    30|\n",
      "|    30|     SALES| CHICAGO| 7499| ALLEN| SALESMAN|7698|02/20/2001|1600| 300|    30|\n",
      "|    30|     SALES| CHICAGO| 7844|TURNER| SALESMAN|7698|09/08/2001|1500|   0|    30|\n",
      "|    30|     SALES| CHICAGO| 7900| JAMES|    CLERK|7698|12/03/2001| 950|null|    30|\n",
      "|    30|     SALES| CHICAGO| 7521|  WARD| SALESMAN|7698|02/22/2001|1250| 500|    30|\n",
      "|    20|  RESEARCH|  DALLAS| 7902|  FORD|  ANALYST|7566|02/03/2001|3000|null|    20|\n",
      "|    20|  RESEARCH|  DALLAS| 7369| SMITH|    CLERK|7902|12/17/2000| 800|null|    20|\n",
      "|    20|  RESEARCH|  DALLAS| 7788| SCOTT|  ANALYST|7566|04/19/2007|3000|null|    20|\n",
      "|    20|  RESEARCH|  DALLAS| 7876| ADAMS|    CLERK|7788|05/23/2007|1100|null|    20|\n",
      "|    10|ACCOUNTING|NEW YORK| 7934|MILLER|    CLERK|7782|01/23/2002|1300|null|    10|\n",
      "+------+----------+--------+-----+------+---------+----+----------+----+----+------+\n",
      "\n"
     ]
    }
   ],
   "source": [
    "res04= dept.join(emp,dept.deptno==emp.deptno, 'inner')\n",
    "res04.show()"
   ]
  },
  {
   "cell_type": "code",
   "execution_count": 56,
   "id": "890643b8",
   "metadata": {},
   "outputs": [
    {
     "name": "stdout",
     "output_type": "stream",
     "text": [
      "+------+----------+--------+-----+------+---------+----+----------+----+----+------+\n",
      "|deptno|     dname|     loc|empno| ename|      job| mgr|  hiredate| sal|comm|deptno|\n",
      "+------+----------+--------+-----+------+---------+----+----------+----+----+------+\n",
      "|    10|ACCOUNTING|NEW YORK| 7839|  KING|PRESIDENT|null|11/17/2001|5000|null|    10|\n",
      "|    10|ACCOUNTING|NEW YORK| 7782| CLARK|  MANAGER|7839|06/09/2001|2450|null|    10|\n",
      "|    10|ACCOUNTING|NEW YORK| 7934|MILLER|    CLERK|7782|01/23/2002|1300|null|    10|\n",
      "|    20|  RESEARCH|  DALLAS| 7566| JONES|  MANAGER|7839|04/02/2001|2975|null|    20|\n",
      "|    20|  RESEARCH|  DALLAS| 7902|  FORD|  ANALYST|7566|02/03/2001|3000|null|    20|\n",
      "|    20|  RESEARCH|  DALLAS| 7369| SMITH|    CLERK|7902|12/17/2000| 800|null|    20|\n",
      "|    20|  RESEARCH|  DALLAS| 7788| SCOTT|  ANALYST|7566|04/19/2007|3000|null|    20|\n",
      "|    20|  RESEARCH|  DALLAS| 7876| ADAMS|    CLERK|7788|05/23/2007|1100|null|    20|\n",
      "|    30|     SALES| CHICAGO| 7698| BLAKE|  MANAGER|7839|05/01/2001|2850|null|    30|\n",
      "|    30|     SALES| CHICAGO| 7654|MARTIN| SALESMAN|7698|09/28/2001|1250|1400|    30|\n",
      "|    30|     SALES| CHICAGO| 7499| ALLEN| SALESMAN|7698|02/20/2001|1600| 300|    30|\n",
      "|    30|     SALES| CHICAGO| 7844|TURNER| SALESMAN|7698|09/08/2001|1500|   0|    30|\n",
      "|    30|     SALES| CHICAGO| 7900| JAMES|    CLERK|7698|12/03/2001| 950|null|    30|\n",
      "|    30|     SALES| CHICAGO| 7521|  WARD| SALESMAN|7698|02/22/2001|1250| 500|    30|\n",
      "|    40|OPERATIONS|  BOSTON| null|  null|     null|null|      null|null|null|  null|\n",
      "+------+----------+--------+-----+------+---------+----+----------+----+----+------+\n",
      "\n"
     ]
    }
   ],
   "source": [
    "res04= dept.join(emp,dept.deptno==emp.deptno, 'outer')\n",
    "res04.show()"
   ]
  },
  {
   "cell_type": "code",
   "execution_count": null,
   "id": "331f00b7",
   "metadata": {},
   "outputs": [],
   "source": [
    "res04= dept.join(emp,dept.deptno==emp.deptno, 'inner')\n",
    "res04.show()"
   ]
  },
  {
   "cell_type": "code",
   "execution_count": 58,
   "id": "39433fb2",
   "metadata": {},
   "outputs": [
    {
     "name": "stdout",
     "output_type": "stream",
     "text": [
      "+---------+\n",
      "|      job|\n",
      "+---------+\n",
      "|    CLERK|\n",
      "|  MANAGER|\n",
      "|PRESIDENT|\n",
      "+---------+\n",
      "\n"
     ]
    }
   ],
   "source": [
    "df03 = emp.filter(\"deptno==10\").select(['job']).distinct()\n",
    "df03.show()"
   ]
  },
  {
   "cell_type": "code",
   "execution_count": 66,
   "id": "6ecb5170",
   "metadata": {},
   "outputs": [
    {
     "name": "stdout",
     "output_type": "stream",
     "text": [
      "+-------+\n",
      "|    job|\n",
      "+-------+\n",
      "|ANALYST|\n",
      "|  CLERK|\n",
      "|MANAGER|\n",
      "+-------+\n",
      "\n"
     ]
    }
   ],
   "source": [
    "df04 = emp.filter(\"deptno==20\").select(['job']).distinct()\n",
    "df04.show()"
   ]
  },
  {
   "cell_type": "code",
   "execution_count": 68,
   "id": "babefae5",
   "metadata": {},
   "outputs": [
    {
     "name": "stdout",
     "output_type": "stream",
     "text": [
      "+---------+\n",
      "|      job|\n",
      "+---------+\n",
      "|    CLERK|\n",
      "|  MANAGER|\n",
      "|PRESIDENT|\n",
      "|  ANALYST|\n",
      "|    CLERK|\n",
      "|  MANAGER|\n",
      "+---------+\n",
      "\n"
     ]
    }
   ],
   "source": [
    "df03.unionAll(df04).show()"
   ]
  },
  {
   "cell_type": "code",
   "execution_count": 71,
   "id": "9ff8e47e",
   "metadata": {},
   "outputs": [
    {
     "name": "stdout",
     "output_type": "stream",
     "text": [
      "+---------+\n",
      "|      job|\n",
      "+---------+\n",
      "|    CLERK|\n",
      "|  MANAGER|\n",
      "|PRESIDENT|\n",
      "|  ANALYST|\n",
      "|    CLERK|\n",
      "|  MANAGER|\n",
      "+---------+\n",
      "\n"
     ]
    }
   ],
   "source": [
    "df03.union(df04).show()   #unionall as ssame show duplicate"
   ]
  },
  {
   "cell_type": "code",
   "execution_count": 70,
   "id": "c50c795e",
   "metadata": {},
   "outputs": [
    {
     "name": "stdout",
     "output_type": "stream",
     "text": [
      "+---------+\n",
      "|      job|\n",
      "+---------+\n",
      "|    CLERK|\n",
      "|  MANAGER|\n",
      "|PRESIDENT|\n",
      "|  ANALYST|\n",
      "+---------+\n",
      "\n"
     ]
    }
   ],
   "source": [
    "df03.union(df04).distinct().show()   #unionall as ssame show duplicate"
   ]
  },
  {
   "cell_type": "code",
   "execution_count": 72,
   "id": "fa3c23f5",
   "metadata": {},
   "outputs": [
    {
     "name": "stdout",
     "output_type": "stream",
     "text": [
      "+-------+\n",
      "|    job|\n",
      "+-------+\n",
      "|  CLERK|\n",
      "|MANAGER|\n",
      "+-------+\n",
      "\n"
     ]
    }
   ],
   "source": [
    "df03.intersect(df04).show()"
   ]
  },
  {
   "cell_type": "code",
   "execution_count": 73,
   "id": "95a1a76c",
   "metadata": {},
   "outputs": [
    {
     "name": "stdout",
     "output_type": "stream",
     "text": [
      "+---------+\n",
      "|      job|\n",
      "+---------+\n",
      "|PRESIDENT|\n",
      "+---------+\n",
      "\n"
     ]
    }
   ],
   "source": [
    "df03.subtract(df04).show()"
   ]
  },
  {
   "cell_type": "code",
   "execution_count": 74,
   "id": "722c0b98",
   "metadata": {},
   "outputs": [
    {
     "name": "stdout",
     "output_type": "stream",
     "text": [
      "+-------+\n",
      "|    job|\n",
      "+-------+\n",
      "|ANALYST|\n",
      "+-------+\n",
      "\n"
     ]
    }
   ],
   "source": [
    "df04.subtract(df03).show()"
   ]
  },
  {
   "cell_type": "code",
   "execution_count": 76,
   "id": "0eef5151",
   "metadata": {},
   "outputs": [],
   "source": [
    "import pyspark.sql.functions as f"
   ]
  },
  {
   "cell_type": "code",
   "execution_count": null,
   "id": "3e00dfce",
   "metadata": {},
   "outputs": [],
   "source": []
  },
  {
   "cell_type": "code",
   "execution_count": null,
   "id": "82da8409",
   "metadata": {},
   "outputs": [],
   "source": []
  },
  {
   "cell_type": "code",
   "execution_count": null,
   "id": "140e079a",
   "metadata": {},
   "outputs": [],
   "source": []
  },
  {
   "cell_type": "code",
   "execution_count": null,
   "id": "6de7c7d4",
   "metadata": {},
   "outputs": [],
   "source": []
  },
  {
   "cell_type": "code",
   "execution_count": null,
   "id": "65b60559",
   "metadata": {},
   "outputs": [],
   "source": []
  },
  {
   "cell_type": "code",
   "execution_count": null,
   "id": "1d3a29c9",
   "metadata": {},
   "outputs": [],
   "source": []
  },
  {
   "cell_type": "code",
   "execution_count": null,
   "id": "0109e729",
   "metadata": {},
   "outputs": [],
   "source": []
  },
  {
   "cell_type": "code",
   "execution_count": null,
   "id": "bc9cb63c",
   "metadata": {},
   "outputs": [],
   "source": []
  }
 ],
 "metadata": {
  "kernelspec": {
   "display_name": "Python 3 (ipykernel)",
   "language": "python",
   "name": "python3"
  },
  "language_info": {
   "codemirror_mode": {
    "name": "ipython",
    "version": 3
   },
   "file_extension": ".py",
   "mimetype": "text/x-python",
   "name": "python",
   "nbconvert_exporter": "python",
   "pygments_lexer": "ipython3",
   "version": "3.9.12"
  }
 },
 "nbformat": 4,
 "nbformat_minor": 5
}
