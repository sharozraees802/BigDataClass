{
 "cells": [
  {
   "cell_type": "code",
   "execution_count": 1,
   "id": "6bfec961",
   "metadata": {},
   "outputs": [],
   "source": [
    "from pyspark.sql import SparkSession"
   ]
  },
  {
   "cell_type": "code",
   "execution_count": 2,
   "id": "56dadc7e",
   "metadata": {},
   "outputs": [
    {
     "name": "stderr",
     "output_type": "stream",
     "text": [
      "e:\\Course\\BigData\\ClassWOrk\\cwenv\\lib\\site-packages\\pyspark\\context.py:238: FutureWarning: Python 3.6 support is deprecated in Spark 3.2.\n",
      "  FutureWarning\n"
     ]
    }
   ],
   "source": [
    "spark = SparkSession.builder.appName(\"ml-cls\").getOrCreate()"
   ]
  },
  {
   "cell_type": "code",
   "execution_count": 3,
   "id": "196bf6b5",
   "metadata": {},
   "outputs": [],
   "source": [
    "df = spark.read.csv(\"./diabetes.csv\",inferSchema=True, header = True)"
   ]
  },
  {
   "cell_type": "code",
   "execution_count": 4,
   "id": "d31402a7",
   "metadata": {},
   "outputs": [
    {
     "name": "stdout",
     "output_type": "stream",
     "text": [
      "root\n",
      " |-- preg: integer (nullable = true)\n",
      " |-- glucose: integer (nullable = true)\n",
      " |-- bp_diastolic: integer (nullable = true)\n",
      " |-- skin_triceps: integer (nullable = true)\n",
      " |-- insulin: integer (nullable = true)\n",
      " |-- bmi: double (nullable = true)\n",
      " |-- pedigree: double (nullable = true)\n",
      " |-- age: integer (nullable = true)\n",
      " |-- label: integer (nullable = true)\n",
      "\n"
     ]
    }
   ],
   "source": [
    "df.printSchema()"
   ]
  },
  {
   "cell_type": "code",
   "execution_count": 5,
   "id": "db929b47",
   "metadata": {},
   "outputs": [
    {
     "name": "stdout",
     "output_type": "stream",
     "text": [
      "(768, 9)\n"
     ]
    }
   ],
   "source": [
    "print((df.count(), len(df.columns)))"
   ]
  },
  {
   "cell_type": "code",
   "execution_count": 6,
   "id": "a3f664c1",
   "metadata": {},
   "outputs": [
    {
     "data": {
      "text/plain": [
       "500"
      ]
     },
     "execution_count": 6,
     "metadata": {},
     "output_type": "execute_result"
    }
   ],
   "source": [
    "df.filter(df.label==0).count()"
   ]
  },
  {
   "cell_type": "markdown",
   "id": "c26c275d",
   "metadata": {},
   "source": [
    "### data preparation and feature engineering"
   ]
  },
  {
   "cell_type": "code",
   "execution_count": 7,
   "id": "3cf9a6ee",
   "metadata": {},
   "outputs": [
    {
     "name": "stdout",
     "output_type": "stream",
     "text": [
      "+----+-------+------------+------------+-------+---+--------+---+-----+\n",
      "|preg|glucose|bp_diastolic|skin_triceps|insulin|bmi|pedigree|age|label|\n",
      "+----+-------+------------+------------+-------+---+--------+---+-----+\n",
      "|   0|      0|           0|           0|      0|  0|       0|  0|    0|\n",
      "+----+-------+------------+------------+-------+---+--------+---+-----+\n",
      "\n"
     ]
    }
   ],
   "source": [
    "from pyspark.sql.functions import isnull, when, count, col\n",
    "df.select([count(when(isnull(c),c)).alias(c) for c in df.columns]).show()"
   ]
  },
  {
   "cell_type": "code",
   "execution_count": null,
   "id": "29039214",
   "metadata": {},
   "outputs": [],
   "source": []
  },
  {
   "cell_type": "markdown",
   "id": "75035a7e",
   "metadata": {},
   "source": [
    "##  preparation Feature engineering"
   ]
  },
  {
   "cell_type": "code",
   "execution_count": 9,
   "id": "7b91d626",
   "metadata": {},
   "outputs": [
    {
     "name": "stdout",
     "output_type": "stream",
     "text": [
      "Collecting seaborn\n",
      "  Downloading seaborn-0.11.2-py3-none-any.whl (292 kB)\n",
      "Collecting numpy>=1.15\n",
      "  Using cached numpy-1.19.5-cp36-cp36m-win_amd64.whl (13.2 MB)\n",
      "Collecting scipy>=1.0\n",
      "  Downloading scipy-1.5.4-cp36-cp36m-win_amd64.whl (31.2 MB)\n",
      "Collecting pandas>=0.23\n",
      "  Using cached pandas-1.1.5-cp36-cp36m-win_amd64.whl (8.7 MB)\n",
      "Collecting matplotlib>=2.2\n",
      "  Downloading matplotlib-3.3.4-cp36-cp36m-win_amd64.whl (8.5 MB)\n",
      "Requirement already satisfied: pyparsing!=2.0.4,!=2.1.2,!=2.1.6,>=2.0.3 in e:\\course\\bigdata\\classwork\\cwenv\\lib\\site-packages (from matplotlib>=2.2->seaborn) (3.0.9)\n",
      "Collecting pillow>=6.2.0\n",
      "  Using cached Pillow-8.4.0-cp36-cp36m-win_amd64.whl (3.2 MB)\n",
      "Requirement already satisfied: python-dateutil>=2.1 in e:\\course\\bigdata\\classwork\\cwenv\\lib\\site-packages (from matplotlib>=2.2->seaborn) (2.8.2)\n",
      "Collecting cycler>=0.10\n",
      "  Downloading cycler-0.11.0-py3-none-any.whl (6.4 kB)\n",
      "Collecting kiwisolver>=1.0.1\n",
      "  Downloading kiwisolver-1.3.1-cp36-cp36m-win_amd64.whl (51 kB)\n",
      "Collecting pytz>=2017.2\n",
      "  Downloading pytz-2022.1-py2.py3-none-any.whl (503 kB)\n",
      "Requirement already satisfied: six>=1.5 in e:\\course\\bigdata\\classwork\\cwenv\\lib\\site-packages (from python-dateutil>=2.1->matplotlib>=2.2->seaborn) (1.16.0)\n",
      "Installing collected packages: pytz, pillow, numpy, kiwisolver, cycler, scipy, pandas, matplotlib, seaborn\n",
      "Successfully installed cycler-0.11.0 kiwisolver-1.3.1 matplotlib-3.3.4 numpy-1.19.5 pandas-1.1.5 pillow-8.4.0 pytz-2022.1 scipy-1.5.4 seaborn-0.11.2\n"
     ]
    }
   ],
   "source": [
    "!pip install seaborn"
   ]
  },
  {
   "cell_type": "code",
   "execution_count": 10,
   "id": "74518158",
   "metadata": {},
   "outputs": [],
   "source": [
    "import seaborn as sns"
   ]
  },
  {
   "cell_type": "code",
   "execution_count": 11,
   "id": "804c942b",
   "metadata": {
    "scrolled": true
   },
   "outputs": [
    {
     "data": {
      "text/plain": [
       "<AxesSubplot:>"
      ]
     },
     "execution_count": 11,
     "metadata": {},
     "output_type": "execute_result"
    },
    {
     "data": {
      "image/png": "[encoded data removed]",
      "text/plain": [
       "<Figure size 432x288 with 2 Axes>"
      ]
     },
     "metadata": {
      "needs_background": "light"
     },
     "output_type": "display_data"
    }
   ],
   "source": [
    "sns.heatmap(df.toPandas().corr(), annot = True)"
   ]
  },
  {
   "cell_type": "markdown",
   "id": "631be8bf",
   "metadata": {},
   "source": [
    "## Drop unnecessary columns"
   ]
  },
  {
   "cell_type": "code",
   "execution_count": 12,
   "id": "0b68fd8d",
   "metadata": {},
   "outputs": [
    {
     "name": "stdout",
     "output_type": "stream",
     "text": [
      "+----+-------+-------+----+--------+---+-----+\n",
      "|preg|glucose|insulin| bmi|pedigree|age|label|\n",
      "+----+-------+-------+----+--------+---+-----+\n",
      "|   6|    148|      0|33.6|   0.627| 50|    1|\n",
      "|   1|     85|      0|26.6|   0.351| 31|    0|\n",
      "|   8|    183|      0|23.3|   0.672| 32|    1|\n",
      "|   1|     89|     94|28.1|   0.167| 21|    0|\n",
      "|   0|    137|    168|43.1|   2.288| 33|    1|\n",
      "+----+-------+-------+----+--------+---+-----+\n",
      "only showing top 5 rows\n",
      "\n"
     ]
    }
   ],
   "source": [
    "df = df.drop('skin_triceps')\n",
    "df = df.drop('bp_diastolic')\n",
    "df.show(5)"
   ]
  },
  {
   "cell_type": "code",
   "execution_count": 13,
   "id": "c0921046",
   "metadata": {},
   "outputs": [
    {
     "name": "stdout",
     "output_type": "stream",
     "text": [
      "+----+-------+-------+----+--------+---+\n",
      "|preg|glucose|insulin| bmi|pedigree|age|\n",
      "+----+-------+-------+----+--------+---+\n",
      "|   6|    148|      0|33.6|   0.627| 50|\n",
      "|   1|     85|      0|26.6|   0.351| 31|\n",
      "|   8|    183|      0|23.3|   0.672| 32|\n",
      "|   1|     89|     94|28.1|   0.167| 21|\n",
      "|   0|    137|    168|43.1|   2.288| 33|\n",
      "|   5|    116|      0|25.6|   0.201| 30|\n",
      "|   3|     78|     88|31.0|   0.248| 26|\n",
      "|  10|    115|      0|35.3|   0.134| 29|\n",
      "|   2|    197|    543|30.5|   0.158| 53|\n",
      "|   8|    125|      0| 0.0|   0.232| 54|\n",
      "|   4|    110|      0|37.6|   0.191| 30|\n",
      "|  10|    168|      0|38.0|   0.537| 34|\n",
      "|  10|    139|      0|27.1|   1.441| 57|\n",
      "|   1|    189|    846|30.1|   0.398| 59|\n",
      "|   5|    166|    175|25.8|   0.587| 51|\n",
      "|   7|    100|      0|30.0|   0.484| 32|\n",
      "|   0|    118|    230|45.8|   0.551| 31|\n",
      "|   7|    107|      0|29.6|   0.254| 31|\n",
      "|   1|    103|     83|43.3|   0.183| 33|\n",
      "|   1|    115|     96|34.6|   0.529| 32|\n",
      "+----+-------+-------+----+--------+---+\n",
      "only showing top 20 rows\n",
      "\n"
     ]
    }
   ],
   "source": [
    "x = df.drop('label')\n",
    "x.show()"
   ]
  },
  {
   "cell_type": "markdown",
   "id": "80cf42c3",
   "metadata": {},
   "source": [
    "## Assemble all the features with VectorAssembler"
   ]
  },
  {
   "cell_type": "code",
   "execution_count": 14,
   "id": "d8572702",
   "metadata": {},
   "outputs": [],
   "source": [
    "from pyspark.ml.feature import VectorAssembler"
   ]
  },
  {
   "cell_type": "code",
   "execution_count": 16,
   "id": "70df8d57",
   "metadata": {},
   "outputs": [
    {
     "name": "stdout",
     "output_type": "stream",
     "text": [
      "+----+-------+-------+----+--------+---+-----+---------------------------------+\n",
      "|preg|glucose|insulin|bmi |pedigree|age|label|features                         |\n",
      "+----+-------+-------+----+--------+---+-----+---------------------------------+\n",
      "|6   |148    |0      |33.6|0.627   |50 |1    |[6.0,148.0,0.0,33.6,0.627,50.0]  |\n",
      "|1   |85     |0      |26.6|0.351   |31 |0    |[1.0,85.0,0.0,26.6,0.351,31.0]   |\n",
      "|8   |183    |0      |23.3|0.672   |32 |1    |[8.0,183.0,0.0,23.3,0.672,32.0]  |\n",
      "|1   |89     |94     |28.1|0.167   |21 |0    |[1.0,89.0,94.0,28.1,0.167,21.0]  |\n",
      "|0   |137    |168    |43.1|2.288   |33 |1    |[0.0,137.0,168.0,43.1,2.288,33.0]|\n",
      "|5   |116    |0      |25.6|0.201   |30 |0    |[5.0,116.0,0.0,25.6,0.201,30.0]  |\n",
      "|3   |78     |88     |31.0|0.248   |26 |1    |[3.0,78.0,88.0,31.0,0.248,26.0]  |\n",
      "|10  |115    |0      |35.3|0.134   |29 |0    |[10.0,115.0,0.0,35.3,0.134,29.0] |\n",
      "|2   |197    |543    |30.5|0.158   |53 |1    |[2.0,197.0,543.0,30.5,0.158,53.0]|\n",
      "|8   |125    |0      |0.0 |0.232   |54 |1    |[8.0,125.0,0.0,0.0,0.232,54.0]   |\n",
      "|4   |110    |0      |37.6|0.191   |30 |0    |[4.0,110.0,0.0,37.6,0.191,30.0]  |\n",
      "|10  |168    |0      |38.0|0.537   |34 |1    |[10.0,168.0,0.0,38.0,0.537,34.0] |\n",
      "|10  |139    |0      |27.1|1.441   |57 |0    |[10.0,139.0,0.0,27.1,1.441,57.0] |\n",
      "|1   |189    |846    |30.1|0.398   |59 |1    |[1.0,189.0,846.0,30.1,0.398,59.0]|\n",
      "|5   |166    |175    |25.8|0.587   |51 |1    |[5.0,166.0,175.0,25.8,0.587,51.0]|\n",
      "|7   |100    |0      |30.0|0.484   |32 |1    |[7.0,100.0,0.0,30.0,0.484,32.0]  |\n",
      "|0   |118    |230    |45.8|0.551   |31 |1    |[0.0,118.0,230.0,45.8,0.551,31.0]|\n",
      "|7   |107    |0      |29.6|0.254   |31 |1    |[7.0,107.0,0.0,29.6,0.254,31.0]  |\n",
      "|1   |103    |83     |43.3|0.183   |33 |0    |[1.0,103.0,83.0,43.3,0.183,33.0] |\n",
      "|1   |115    |96     |34.6|0.529   |32 |1    |[1.0,115.0,96.0,34.6,0.529,32.0] |\n",
      "+----+-------+-------+----+--------+---+-----+---------------------------------+\n",
      "only showing top 20 rows\n",
      "\n"
     ]
    }
   ],
   "source": [
    "assembler = VectorAssembler(inputCols=x.columns, outputCol='features')\n",
    "transformed_data = assembler.transform(df)\n",
    "transformed_data.show(truncate=False)"
   ]
  },
  {
   "cell_type": "markdown",
   "id": "ce4ac94a",
   "metadata": {},
   "source": [
    "## Machine Learning Data Modal"
   ]
  },
  {
   "cell_type": "code",
   "execution_count": 17,
   "id": "812bc4d1",
   "metadata": {},
   "outputs": [],
   "source": [
    "#split the data\n",
    "(x_train,x_test) = transformed_data.randomSplit([0.8,0.2])"
   ]
  },
  {
   "cell_type": "code",
   "execution_count": 18,
   "id": "72c34a75",
   "metadata": {},
   "outputs": [],
   "source": [
    "from pyspark.ml.classification import DecisionTreeClassifier\n",
    "clf = DecisionTreeClassifier(featuresCol = 'features', labelCol = 'label', maxDepth = 3 )"
   ]
  },
  {
   "cell_type": "code",
   "execution_count": 19,
   "id": "a3a7ae5f",
   "metadata": {},
   "outputs": [],
   "source": [
    "model = clf.fit(x_train)"
   ]
  },
  {
   "cell_type": "code",
   "execution_count": 20,
   "id": "03b1883a",
   "metadata": {},
   "outputs": [
    {
     "name": "stdout",
     "output_type": "stream",
     "text": [
      "+-------+-------+----+--------+---+-----+----------+\n",
      "|glucose|insulin| bmi|pedigree|age|label|prediction|\n",
      "+-------+-------+----+--------+---+-----+----------+\n",
      "|     57|      0|21.7|   0.735| 67|    0|       0.0|\n",
      "|     67|      0|45.3|   0.194| 46|    0|       0.0|\n",
      "|     73|      0|21.1|   0.342| 25|    0|       0.0|\n",
      "|     74|     36|27.8|   0.269| 22|    0|       0.0|\n",
      "|     78|     40|36.9|   0.434| 21|    0|       0.0|\n",
      "+-------+-------+----+--------+---+-----+----------+\n",
      "only showing top 5 rows\n",
      "\n"
     ]
    }
   ],
   "source": [
    "predictions = model.transform(x_test)\n",
    "predictions.select('glucose', 'insulin', 'bmi', 'pedigree', 'age', 'label', 'prediction').show(5)"
   ]
  },
  {
   "cell_type": "code",
   "execution_count": 21,
   "id": "51b23f65",
   "metadata": {},
   "outputs": [
    {
     "name": "stdout",
     "output_type": "stream",
     "text": [
      "+-------+-------+----+--------+---+-----+----------+\n",
      "|glucose|insulin| bmi|pedigree|age|label|prediction|\n",
      "+-------+-------+----+--------+---+-----+----------+\n",
      "|     57|      0|21.7|   0.735| 67|    0|       0.0|\n",
      "|     67|      0|45.3|   0.194| 46|    0|       0.0|\n",
      "|     73|      0|21.1|   0.342| 25|    0|       0.0|\n",
      "|     74|     36|27.8|   0.269| 22|    0|       0.0|\n",
      "|     78|     40|36.9|   0.434| 21|    0|       0.0|\n",
      "|     84|     66|35.8|   0.545| 21|    0|       0.0|\n",
      "|     84|    125|38.2|   0.233| 23|    0|       0.0|\n",
      "|     95|    105|44.6|   0.366| 22|    0|       0.0|\n",
      "|     97|    100|36.8|     0.6| 25|    0|       0.0|\n",
      "|     99|      0|25.0|   0.253| 22|    0|       0.0|\n",
      "|    101|      0|21.9|   0.336| 25|    0|       0.0|\n",
      "|    101|      0|24.6|   0.237| 22|    0|       0.0|\n",
      "|    106|    148|39.4|   0.605| 22|    0|       0.0|\n",
      "|    107|      0|26.4|   0.133| 23|    0|       0.0|\n",
      "|    111|      0|24.6|    0.66| 31|    0|       0.0|\n",
      "|    117|      0|33.8|   0.932| 44|    0|       0.0|\n",
      "|    119|      0|32.4|   0.141| 24|    1|       0.0|\n",
      "|    119|      0|38.8|   0.259| 22|    0|       0.0|\n",
      "|    127|    210|36.3|   0.804| 23|    0|       0.0|\n",
      "|    129|      0|31.2|   0.703| 29|    0|       0.0|\n",
      "+-------+-------+----+--------+---+-----+----------+\n",
      "only showing top 20 rows\n",
      "\n"
     ]
    }
   ],
   "source": [
    "predictions.select('glucose', 'insulin', 'bmi', 'pedigree', 'age', 'label', 'prediction').show()"
   ]
  },
  {
   "cell_type": "code",
   "execution_count": 22,
   "id": "79539419",
   "metadata": {},
   "outputs": [
    {
     "name": "stdout",
     "output_type": "stream",
     "text": [
      "+-----+----------+-----+\n",
      "|label|prediction|count|\n",
      "+-----+----------+-----+\n",
      "|    1|       0.0|   25|\n",
      "|    0|       0.0|  107|\n",
      "|    1|       1.0|   21|\n",
      "|    0|       1.0|   11|\n",
      "+-----+----------+-----+\n",
      "\n"
     ]
    }
   ],
   "source": [
    "predictions.groupBy('label', 'prediction').count().show()"
   ]
  },
  {
   "cell_type": "code",
   "execution_count": 23,
   "id": "0db5be0f",
   "metadata": {},
   "outputs": [],
   "source": [
    "# calculate the elements of the confusion matrix\n",
    "TN = predictions.filter('prediction = 0 AND label = prediction').count()\n",
    "TP = predictions.filter('prediction = 1 AND label = prediction').count()\n",
    "FN = predictions.filter('prediction = 0 AND label <> prediction').count()\n",
    "FP = predictions.filter('prediction = 1 AND label <> prediction').count()"
   ]
  },
  {
   "cell_type": "code",
   "execution_count": 25,
   "id": "fd156b70",
   "metadata": {},
   "outputs": [
    {
     "name": "stdout",
     "output_type": "stream",
     "text": [
      "n accuracy: 0.780\n",
      "n precision: 0.656\n",
      "n recall: 0.457\n"
     ]
    }
   ],
   "source": [
    "accuracy = (TN + TP) / (TN + TP + FN +FP)\n",
    "precision = TP / (TP + FP)\n",
    "recall = TP/ (TP + FN)\n",
    "\n",
    "print('n accuracy: %0.3f' % accuracy)\n",
    "print('n precision: %0.3f' % precision)\n",
    "print('n recall: %0.3f' % recall)"
   ]
  },
  {
   "cell_type": "markdown",
   "id": "c3f62d5b",
   "metadata": {},
   "source": [
    "###  model evalution"
   ]
  },
  {
   "cell_type": "code",
   "execution_count": 26,
   "id": "04af0872",
   "metadata": {},
   "outputs": [],
   "source": [
    "y_true = predictions.select('label').rdd.flatMap(list).collect()\n",
    "y_pred = predictions.select('prediction').rdd.flatMap(list).collect()"
   ]
  },
  {
   "cell_type": "code",
   "execution_count": 27,
   "id": "f59aadce",
   "metadata": {},
   "outputs": [
    {
     "data": {
      "text/plain": [
       "164"
      ]
     },
     "execution_count": 27,
     "metadata": {},
     "output_type": "execute_result"
    }
   ],
   "source": [
    "len(y_pred)"
   ]
  },
  {
   "cell_type": "code",
   "execution_count": 29,
   "id": "92ddd041",
   "metadata": {},
   "outputs": [
    {
     "name": "stdout",
     "output_type": "stream",
     "text": [
      "Collecting scikit-learn\n",
      "  Downloading scikit_learn-0.24.2-cp36-cp36m-win_amd64.whl (6.8 MB)\n",
      "Collecting threadpoolctl>=2.0.0\n",
      "  Downloading threadpoolctl-3.1.0-py3-none-any.whl (14 kB)\n",
      "Requirement already satisfied: numpy>=1.13.3 in e:\\course\\bigdata\\classwork\\cwenv\\lib\\site-packages (from scikit-learn) (1.19.5)\n",
      "Requirement already satisfied: scipy>=0.19.1 in e:\\course\\bigdata\\classwork\\cwenv\\lib\\site-packages (from scikit-learn) (1.5.4)\n",
      "Collecting joblib>=0.11\n",
      "  Downloading joblib-1.1.0-py2.py3-none-any.whl (306 kB)\n",
      "Installing collected packages: threadpoolctl, joblib, scikit-learn\n",
      "Successfully installed joblib-1.1.0 scikit-learn-0.24.2 threadpoolctl-3.1.0\n"
     ]
    }
   ],
   "source": [
    "!pip install scikit-learn"
   ]
  },
  {
   "cell_type": "code",
   "execution_count": 31,
   "id": "601efc2e",
   "metadata": {},
   "outputs": [],
   "source": [
    "from sklearn import metrics"
   ]
  },
  {
   "cell_type": "code",
   "execution_count": 32,
   "id": "501c5f32",
   "metadata": {},
   "outputs": [
    {
     "name": "stdout",
     "output_type": "stream",
     "text": [
      "Confusion Matrix:\n",
      "[[107  11]\n",
      " [ 25  21]]\n"
     ]
    }
   ],
   "source": [
    "cm = metrics.confusion_matrix(y_true, y_pred)\n",
    "print(\"Confusion Matrix:\")\n",
    "print(cm)"
   ]
  },
  {
   "cell_type": "code",
   "execution_count": 33,
   "id": "43b08cfa",
   "metadata": {},
   "outputs": [],
   "source": [
    "import matplotlib.pyplot as plt"
   ]
  },
  {
   "cell_type": "code",
   "execution_count": 34,
   "id": "7bb6b4a4",
   "metadata": {},
   "outputs": [
    {
     "data": {
      "image/png": "[encoded data removed]",
      "text/plain": [
       "<Figure size 360x360 with 1 Axes>"
      ]
     },
     "metadata": {
      "needs_background": "light"
     },
     "output_type": "display_data"
    }
   ],
   "source": [
    "fig , ax = plt.subplots(figsize=(5,5))\n",
    "ax.imshow(cm)\n",
    "ax.grid(False)\n",
    "ax.xaxis.set(ticks=(0,1), ticklabels=('Predicted 0s', 'Predicted 1s'))\n",
    "ax.yaxis.set(ticks=(0,1), ticklabels=('Actual 0s', 'Actual 1s'))\n",
    "for i in range(2):\n",
    "    for j in range(2):\n",
    "        ax.text(j,i,cm[i,j], ha='center', va='center', color='red')\n",
    "plt.show()"
   ]
  },
  {
   "cell_type": "code",
   "execution_count": null,
   "id": "4411dc3b",
   "metadata": {},
   "outputs": [],
   "source": []
  },
  {
   "cell_type": "code",
   "execution_count": null,
   "id": "ee79f4e0",
   "metadata": {},
   "outputs": [],
   "source": []
  },
  {
   "cell_type": "code",
   "execution_count": null,
   "id": "ac59061d",
   "metadata": {},
   "outputs": [],
   "source": []
  },
  {
   "cell_type": "code",
   "execution_count": null,
   "id": "75bd9bdc",
   "metadata": {},
   "outputs": [],
   "source": []
  }
 ],
 "metadata": {
  "kernelspec": {
   "display_name": "Python 3.6.8 ('cwenv': venv)",
   "language": "python",
   "name": "python3"
  },
  "language_info": {
   "codemirror_mode": {
    "name": "ipython",
    "version": 3
   },
   "file_extension": ".py",
   "mimetype": "text/x-python",
   "name": "python",
   "nbconvert_exporter": "python",
   "pygments_lexer": "ipython3",
   "version": "3.6.8"
  },
  "vscode": {
   "interpreter": {
    "hash": "ff6f7543167423187667487b4e7424edd80400168d8062fbcb7ff49aa8a6e610"
   }
  }
 },
 "nbformat": 4,
 "nbformat_minor": 5
}
