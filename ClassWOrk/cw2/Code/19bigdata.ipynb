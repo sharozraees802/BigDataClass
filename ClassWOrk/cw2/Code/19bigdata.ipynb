{
 "cells": [
  {
   "cell_type": "code",
   "execution_count": 1,
   "id": "61349dc4",
   "metadata": {},
   "outputs": [],
   "source": [
    "from pyspark.sql import SparkSession"
   ]
  },
  {
   "cell_type": "code",
   "execution_count": 2,
   "id": "3d32eb78",
   "metadata": {},
   "outputs": [
    {
     "name": "stderr",
     "output_type": "stream",
     "text": [
      "e:\\Course\\BigData\\ClassWOrk\\cwenv\\lib\\site-packages\\pyspark\\context.py:238: FutureWarning: Python 3.6 support is deprecated in Spark 3.2.\n",
      "  FutureWarning\n"
     ]
    }
   ],
   "source": [
    "spark = SparkSession.builder.appName(\"pySpWordCount\").getOrCreate()\n",
    "sc = spark.sparkContext"
   ]
  },
  {
   "cell_type": "code",
   "execution_count": 3,
   "id": "11e41556",
   "metadata": {},
   "outputs": [],
   "source": [
    "textFile = sc.textFile(\"./char.txt\")"
   ]
  },
  {
   "cell_type": "code",
   "execution_count": 4,
   "id": "8be41611",
   "metadata": {},
   "outputs": [],
   "source": [
    "words = textFile.flatMap(lambda line:line.split(\" \"))"
   ]
  },
  {
   "cell_type": "code",
   "execution_count": 5,
   "id": "80b3b52d",
   "metadata": {},
   "outputs": [
    {
     "name": "stdout",
     "output_type": "stream",
     "text": [
      "Betty\n",
      "Boop\n",
      "Bugs\n",
      "Bunny\n",
      "Charlie\n",
      "Brown\n",
      "Daffy\n",
      "Duck\n",
      "Dennis\n",
      "the\n",
      "Menace\n",
      "Donald\n",
      "Duck\n",
      "Garfield\n",
      "Mickey\n",
      "Mouse\n",
      "Olive\n",
      "Oyl\n",
      "Popeye\n",
      "Powerpuff\n",
      "Girls\n",
      "Road\n",
      "Runner\n",
      "Scooby-Doo\n",
      "Snoopy\n",
      "Teenage\n",
      "Mutant\n",
      "Ninja\n",
      "Turtles\n",
      "The\n",
      "Simpsons\n",
      "Tom\n",
      "and\n",
      "Jerry\n",
      "Tom\n",
      "and\n",
      "Jerry\n",
      "Yogi\n",
      "Bear\n",
      "Yogi\n",
      "Bear\n",
      "Betty\n",
      "Boop\n",
      "Bugs\n",
      "Bunny\n",
      "Charlie\n",
      "Brown\n",
      "Daffy\n",
      "Duck\n",
      "Dennis\n",
      "the\n",
      "Menace\n",
      "Donald\n",
      "Duck\n",
      "Garfield\n",
      "Mickey\n",
      "Mouse\n",
      "Olive\n",
      "Oyl\n",
      "Popeye\n",
      "Powerpuff\n",
      "Girls\n",
      "Road\n",
      "Runner\n",
      "Scooby-Doo\n",
      "Snoopy\n",
      "Teenage\n",
      "Mutant\n",
      "Ninja\n",
      "Turtles\n",
      "The\n",
      "Simpsons\n",
      "Tom\n",
      "and\n",
      "Jerry\n",
      "Tom\n",
      "and\n",
      "Jerry\n",
      "Yogi\n",
      "Bear\n",
      "Yogi\n",
      "Bear\n"
     ]
    }
   ],
   "source": [
    "wrds = words.collect()\n",
    "for word in wrds:\n",
    "    print(word)"
   ]
  },
  {
   "cell_type": "code",
   "execution_count": 6,
   "id": "9c420c66",
   "metadata": {},
   "outputs": [],
   "source": [
    "wordMap = words.map(lambda word: (word, 1))"
   ]
  },
  {
   "cell_type": "code",
   "execution_count": 7,
   "id": "06b7f886",
   "metadata": {},
   "outputs": [
    {
     "name": "stdout",
     "output_type": "stream",
     "text": [
      "Betty 1\n",
      "Boop 1\n",
      "Bugs 1\n",
      "Bunny 1\n",
      "Charlie 1\n",
      "Brown 1\n",
      "Daffy 1\n",
      "Duck 1\n",
      "Dennis 1\n",
      "the 1\n",
      "Menace 1\n",
      "Donald 1\n",
      "Duck 1\n",
      "Garfield 1\n",
      "Mickey 1\n",
      "Mouse 1\n",
      "Olive 1\n",
      "Oyl 1\n",
      "Popeye 1\n",
      "Powerpuff 1\n",
      "Girls 1\n",
      "Road 1\n",
      "Runner 1\n",
      "Scooby-Doo 1\n",
      "Snoopy 1\n",
      "Teenage 1\n",
      "Mutant 1\n",
      "Ninja 1\n",
      "Turtles 1\n",
      "The 1\n",
      "Simpsons 1\n",
      "Tom 1\n",
      "and 1\n",
      "Jerry 1\n",
      "Tom 1\n",
      "and 1\n",
      "Jerry 1\n",
      "Yogi 1\n",
      "Bear 1\n",
      "Yogi 1\n",
      "Bear 1\n",
      "Betty 1\n",
      "Boop 1\n",
      "Bugs 1\n",
      "Bunny 1\n",
      "Charlie 1\n",
      "Brown 1\n",
      "Daffy 1\n",
      "Duck 1\n",
      "Dennis 1\n",
      "the 1\n",
      "Menace 1\n",
      "Donald 1\n",
      "Duck 1\n",
      "Garfield 1\n",
      "Mickey 1\n",
      "Mouse 1\n",
      "Olive 1\n",
      "Oyl 1\n",
      "Popeye 1\n",
      "Powerpuff 1\n",
      "Girls 1\n",
      "Road 1\n",
      "Runner 1\n",
      "Scooby-Doo 1\n",
      "Snoopy 1\n",
      "Teenage 1\n",
      "Mutant 1\n",
      "Ninja 1\n",
      "Turtles 1\n",
      "The 1\n",
      "Simpsons 1\n",
      "Tom 1\n",
      "and 1\n",
      "Jerry 1\n",
      "Tom 1\n",
      "and 1\n",
      "Jerry 1\n",
      "Yogi 1\n",
      "Bear 1\n",
      "Yogi 1\n",
      "Bear 1\n"
     ]
    }
   ],
   "source": [
    "wrdMap = wordMap.collect()\n",
    "for (word, mp) in wrdMap:\n",
    "    print(word, mp)"
   ]
  },
  {
   "cell_type": "code",
   "execution_count": 8,
   "id": "30d3ad2a",
   "metadata": {},
   "outputs": [],
   "source": [
    "counts = wordMap.reduceByKey(lambda a,b: a+b)"
   ]
  },
  {
   "cell_type": "code",
   "execution_count": 9,
   "id": "b4e7736b",
   "metadata": {},
   "outputs": [
    {
     "name": "stdout",
     "output_type": "stream",
     "text": [
      "Betty 2\n",
      "Bugs 2\n",
      "Bunny 2\n",
      "Menace 2\n",
      "Garfield 2\n",
      "Mickey 2\n",
      "Mouse 2\n",
      "Girls 2\n",
      "Scooby-Doo 2\n",
      "Teenage 2\n",
      "Ninja 2\n",
      "The 2\n",
      "Tom 4\n",
      "Yogi 4\n",
      "Bear 4\n",
      "Boop 2\n",
      "Charlie 2\n",
      "Brown 2\n",
      "Daffy 2\n",
      "Duck 4\n",
      "Dennis 2\n",
      "the 2\n",
      "Donald 2\n",
      "Olive 2\n",
      "Oyl 2\n",
      "Popeye 2\n",
      "Powerpuff 2\n",
      "Road 2\n",
      "Runner 2\n",
      "Snoopy 2\n",
      "Mutant 2\n",
      "Turtles 2\n",
      "Simpsons 2\n",
      "and 4\n",
      "Jerry 4\n"
     ]
    }
   ],
   "source": [
    "output = counts.collect()\n",
    "\n",
    "for (word, count) in output:\n",
    "    print(word, count)"
   ]
  },
  {
   "cell_type": "code",
   "execution_count": 10,
   "id": "8b8bc1b6",
   "metadata": {},
   "outputs": [
    {
     "ename": "AttributeError",
     "evalue": "'list' object has no attribute 'saveAsTextFile'",
     "output_type": "error",
     "traceback": [
      "\u001b[1;31m---------------------------------------------------------------------------\u001b[0m",
      "\u001b[1;31mAttributeError\u001b[0m                            Traceback (most recent call last)",
      "\u001b[1;32m<ipython-input-10-a098e0f3c3a5>\u001b[0m in \u001b[0;36m<module>\u001b[1;34m\u001b[0m\n\u001b[1;32m----> 1\u001b[1;33m \u001b[0mcounts\u001b[0m\u001b[1;33m.\u001b[0m\u001b[0mcollect\u001b[0m\u001b[1;33m(\u001b[0m\u001b[1;33m)\u001b[0m\u001b[1;33m.\u001b[0m\u001b[0msaveAsTextFile\u001b[0m\u001b[1;33m(\u001b[0m\u001b[1;34m\"./dataSet//out.txt\"\u001b[0m\u001b[1;33m)\u001b[0m\u001b[1;33m\u001b[0m\u001b[1;33m\u001b[0m\u001b[0m\n\u001b[0m",
      "\u001b[1;31mAttributeError\u001b[0m: 'list' object has no attribute 'saveAsTextFile'"
     ]
    }
   ],
   "source": [
    "counts.collect().saveAsTextFile(\"./dataSet//out.txt\")"
   ]
  },
  {
   "cell_type": "code",
   "execution_count": 12,
   "id": "af769ac0",
   "metadata": {},
   "outputs": [
    {
     "name": "stdout",
     "output_type": "stream",
     "text": [
      "Collecting pattern\n",
      "  Downloading Pattern-3.6.0.tar.gz (22.2 MB)\n",
      "Requirement already satisfied: future in c:\\programdata\\anaconda3\\lib\\site-packages (from pattern) (0.18.2)\n",
      "Collecting backports.csv\n",
      "  Downloading backports.csv-1.0.7-py2.py3-none-any.whl (12 kB)\n",
      "Collecting mysqlclient\n",
      "  Downloading mysqlclient-2.1.1-cp39-cp39-win_amd64.whl (178 kB)\n",
      "Requirement already satisfied: beautifulsoup4 in c:\\programdata\\anaconda3\\lib\\site-packages (from pattern) (4.11.1)\n",
      "Requirement already satisfied: lxml in c:\\programdata\\anaconda3\\lib\\site-packages (from pattern) (4.8.0)\n",
      "Collecting feedparser\n",
      "  Downloading feedparser-6.0.10-py3-none-any.whl (81 kB)\n",
      "Collecting pdfminer.six\n",
      "  Downloading pdfminer.six-20220524-py3-none-any.whl (5.6 MB)\n",
      "Requirement already satisfied: numpy in c:\\programdata\\anaconda3\\lib\\site-packages (from pattern) (1.21.5)\n",
      "Requirement already satisfied: scipy in c:\\programdata\\anaconda3\\lib\\site-packages (from pattern) (1.7.3)\n",
      "Requirement already satisfied: nltk in c:\\programdata\\anaconda3\\lib\\site-packages (from pattern) (3.7)\n",
      "Collecting python-docx\n",
      "  Downloading python-docx-0.8.11.tar.gz (5.6 MB)\n",
      "Collecting cherrypy\n",
      "  Downloading CherryPy-18.8.0-py2.py3-none-any.whl (348 kB)\n",
      "Requirement already satisfied: requests in c:\\programdata\\anaconda3\\lib\\site-packages (from pattern) (2.27.1)\n",
      "Requirement already satisfied: soupsieve>1.2 in c:\\programdata\\anaconda3\\lib\\site-packages (from beautifulsoup4->pattern) (2.3.1)\n",
      "Collecting more-itertools\n",
      "  Downloading more_itertools-8.13.0-py3-none-any.whl (51 kB)\n",
      "Collecting zc.lockfile\n",
      "  Downloading zc.lockfile-2.0-py2.py3-none-any.whl (9.7 kB)\n",
      "Collecting jaraco.collections\n",
      "  Downloading jaraco.collections-3.5.2-py3-none-any.whl (10 kB)\n",
      "Collecting cheroot>=8.2.1\n",
      "  Downloading cheroot-8.6.0-py2.py3-none-any.whl (104 kB)\n",
      "Requirement already satisfied: pywin32>=227 in c:\\programdata\\anaconda3\\lib\\site-packages (from cherrypy->pattern) (302)\n",
      "Collecting portend>=2.1.1\n",
      "  Downloading portend-3.1.0-py3-none-any.whl (5.3 kB)\n",
      "Collecting jaraco.functools\n",
      "  Downloading jaraco.functools-3.5.1-py3-none-any.whl (7.3 kB)\n",
      "Requirement already satisfied: six>=1.11.0 in c:\\programdata\\anaconda3\\lib\\site-packages (from cheroot>=8.2.1->cherrypy->pattern) (1.16.0)\n",
      "Collecting tempora>=1.8\n",
      "  Downloading tempora-5.0.2-py3-none-any.whl (15 kB)\n",
      "Requirement already satisfied: pytz in c:\\programdata\\anaconda3\\lib\\site-packages (from tempora>=1.8->portend>=2.1.1->cherrypy->pattern) (2021.3)\n",
      "Collecting sgmllib3k\n",
      "  Downloading sgmllib3k-1.0.0.tar.gz (5.8 kB)\n",
      "Collecting jaraco.text\n",
      "  Downloading jaraco.text-3.8.1-py3-none-any.whl (10 kB)\n",
      "Collecting jaraco.classes\n",
      "  Downloading jaraco.classes-3.2.2-py3-none-any.whl (6.0 kB)\n",
      "Collecting jaraco.context>=4.1\n",
      "  Downloading jaraco.context-4.1.2-py3-none-any.whl (4.7 kB)\n",
      "Requirement already satisfied: tqdm in c:\\programdata\\anaconda3\\lib\\site-packages (from nltk->pattern) (4.64.0)\n",
      "Requirement already satisfied: joblib in c:\\programdata\\anaconda3\\lib\\site-packages (from nltk->pattern) (1.1.0)\n",
      "Requirement already satisfied: regex>=2021.8.3 in c:\\programdata\\anaconda3\\lib\\site-packages (from nltk->pattern) (2022.3.15)\n",
      "Requirement already satisfied: click in c:\\programdata\\anaconda3\\lib\\site-packages (from nltk->pattern) (8.0.4)\n",
      "Requirement already satisfied: colorama in c:\\programdata\\anaconda3\\lib\\site-packages (from click->nltk->pattern) (0.4.4)\n",
      "Collecting cryptography>=36.0.0\n",
      "  Downloading cryptography-37.0.4-cp36-abi3-win_amd64.whl (2.4 MB)\n",
      "Requirement already satisfied: charset-normalizer>=2.0.0 in c:\\programdata\\anaconda3\\lib\\site-packages (from pdfminer.six->pattern) (2.0.4)\n",
      "Requirement already satisfied: cffi>=1.12 in c:\\programdata\\anaconda3\\lib\\site-packages (from cryptography>=36.0.0->pdfminer.six->pattern) (1.15.0)\n",
      "Requirement already satisfied: pycparser in c:\\programdata\\anaconda3\\lib\\site-packages (from cffi>=1.12->cryptography>=36.0.0->pdfminer.six->pattern) (2.21)\n",
      "Requirement already satisfied: urllib3<1.27,>=1.21.1 in c:\\programdata\\anaconda3\\lib\\site-packages (from requests->pattern) (1.26.9)\n",
      "Requirement already satisfied: idna<4,>=2.5 in c:\\programdata\\anaconda3\\lib\\site-packages (from requests->pattern) (3.3)\n",
      "Requirement already satisfied: certifi>=2017.4.17 in c:\\programdata\\anaconda3\\lib\\site-packages (from requests->pattern) (2021.10.8)\n",
      "Requirement already satisfied: setuptools in c:\\programdata\\anaconda3\\lib\\site-packages (from zc.lockfile->cherrypy->pattern) (61.2.0)\n",
      "Building wheels for collected packages: pattern, python-docx, sgmllib3k\n",
      "  Building wheel for pattern (setup.py): started\n",
      "  Building wheel for pattern (setup.py): finished with status 'done'\n",
      "  Created wheel for pattern: filename=Pattern-3.6-py3-none-any.whl size=22332721 sha256=3c6efabff82fdf858cf6894fc91c08705ae911c5a0223adb9111643146a6e59e\n",
      "  Stored in directory: c:\\users\\administrator\\appdata\\local\\pip\\cache\\wheels\\50\\33\\f3\\ea00b80d50c09f210588bda15ec60bdb38b289b452577cd5c3\n",
      "  Building wheel for python-docx (setup.py): started\n",
      "  Building wheel for python-docx (setup.py): finished with status 'done'\n",
      "  Created wheel for python-docx: filename=python_docx-0.8.11-py3-none-any.whl size=184507 sha256=a10103679930717621339c1e1cca1d95054125401700b4f2aa0ec0dd9ae72c8f\n",
      "  Stored in directory: c:\\users\\administrator\\appdata\\local\\pip\\cache\\wheels\\83\\8b\\7c\\09ae60c42c7ba4ed2dddaf2b8b9186cb105255856d6ed3dba5\n",
      "  Building wheel for sgmllib3k (setup.py): started\n",
      "  Building wheel for sgmllib3k (setup.py): finished with status 'done'\n",
      "  Created wheel for sgmllib3k: filename=sgmllib3k-1.0.0-py3-none-any.whl size=6066 sha256=1d2d030b5fe587c289214da9fe090b2306d8126a8374d06859e50dd97787f4ab\n",
      "  Stored in directory: c:\\users\\administrator\\appdata\\local\\pip\\cache\\wheels\\65\\7a\\a7\\78c287f64e401255dff4c13fdbc672fed5efbfd21c530114e1\n",
      "Successfully built pattern python-docx sgmllib3k\n",
      "Installing collected packages: more-itertools, jaraco.functools, jaraco.context, tempora, jaraco.text, jaraco.classes, zc.lockfile, sgmllib3k, portend, jaraco.collections, cryptography, cheroot, python-docx, pdfminer.six, mysqlclient, feedparser, cherrypy, backports.csv, pattern\n",
      "  Attempting uninstall: cryptography\n",
      "    Found existing installation: cryptography 3.4.8\n",
      "    Uninstalling cryptography-3.4.8:\n",
      "      Successfully uninstalled cryptography-3.4.8\n",
      "Successfully installed backports.csv-1.0.7 cheroot-8.6.0 cherrypy-18.8.0 cryptography-37.0.4 feedparser-6.0.10 jaraco.classes-3.2.2 jaraco.collections-3.5.2 jaraco.context-4.1.2 jaraco.functools-3.5.1 jaraco.text-3.8.1 more-itertools-8.13.0 mysqlclient-2.1.1 pattern-3.6 pdfminer.six-20220524 portend-3.1.0 python-docx-0.8.11 sgmllib3k-1.0.0 tempora-5.0.2 zc.lockfile-2.0\n",
      "Note: you may need to restart the kernel to use updated packages.\n"
     ]
    }
   ],
   "source": [
    "pip install pattern"
   ]
  }
 ],
 "metadata": {
  "kernelspec": {
   "display_name": "Python 3.6.8 ('cwenv': venv)",
   "language": "python",
   "name": "python3"
  },
  "language_info": {
   "codemirror_mode": {
    "name": "ipython",
    "version": 3
   },
   "file_extension": ".py",
   "mimetype": "text/x-python",
   "name": "python",
   "nbconvert_exporter": "python",
   "pygments_lexer": "ipython3",
   "version": "3.6.8"
  },
  "vscode": {
   "interpreter": {
    "hash": "ff6f7543167423187667487b4e7424edd80400168d8062fbcb7ff49aa8a6e610"
   }
  }
 },
 "nbformat": 4,
 "nbformat_minor": 5
}
