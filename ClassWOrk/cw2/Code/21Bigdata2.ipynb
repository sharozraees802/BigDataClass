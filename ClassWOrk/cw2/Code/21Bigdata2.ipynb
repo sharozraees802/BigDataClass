{
 "cells": [
  {
   "cell_type": "code",
   "execution_count": 1,
   "id": "c0d0caa7",
   "metadata": {},
   "outputs": [],
   "source": [
    "from pyspark.sql import SparkSession"
   ]
  },
  {
   "cell_type": "code",
   "execution_count": 2,
   "id": "f5040188",
   "metadata": {},
   "outputs": [],
   "source": [
    "spark = SparkSession.builder.appName(\"pySpWordCountCSV\").getOrCreate()"
   ]
  },
  {
   "cell_type": "code",
   "execution_count": 3,
   "id": "ccbb3afe",
   "metadata": {},
   "outputs": [],
   "source": [
    "spark.conf.set(\"spark.sqllegacy.timeParserPolicy\", \"LEGACY\")"
   ]
  },
  {
   "cell_type": "code",
   "execution_count": 14,
   "id": "210dcaae",
   "metadata": {},
   "outputs": [],
   "source": [
    "df = spark.read.csv(\"./dataSet//ddFtMx.csv\", header = True)"
   ]
  },
  {
   "cell_type": "code",
   "execution_count": 15,
   "id": "69cc5a7c",
   "metadata": {},
   "outputs": [
    {
     "data": {
      "text/plain": [
       "['empno', 'ename', 'job', 'mgr', 'hiredate', 'sal', 'comm', 'deptno']"
      ]
     },
     "execution_count": 15,
     "metadata": {},
     "output_type": "execute_result"
    }
   ],
   "source": [
    "df.columns"
   ]
  },
  {
   "cell_type": "code",
   "execution_count": 16,
   "id": "925bab51",
   "metadata": {},
   "outputs": [
    {
     "name": "stdout",
     "output_type": "stream",
     "text": [
      "+-----+------+---------+----+----------+----+----+------+\n",
      "|empno| ename|      job| mgr|  hiredate| sal|comm|deptno|\n",
      "+-----+------+---------+----+----------+----+----+------+\n",
      "| 7839|  KING|PRESIDENT|null|11/17/2001|5000|null|    10|\n",
      "| 7698| BLAKE|  MANAGER|7839|05/01/2001|2850|null|    30|\n",
      "| 7782| CLARK|  MANAGER|7839|06/09/2001|2450|null|    10|\n",
      "| 7566| JONES|  MANAGER|7839|04/02/2001|2975|null|    20|\n",
      "| 7654|MARTIN| SALESMAN|7698|09/28/2001|1250|1400|    30|\n",
      "| 7499| ALLEN| SALESMAN|7698|02/20/2001|1600| 300|    30|\n",
      "| 7844|TURNER| SALESMAN|7698|09/08/2001|1500|   0|    30|\n",
      "| 7900| JAMES|    CLERK|7698|12/03/2001| 950|null|    30|\n",
      "| 7521|  WARD| SALESMAN|7698|02/22/2001|1250| 500|    30|\n",
      "| 7902|  FORD|  ANALYST|7566|02/03/2001|3000|null|    20|\n",
      "| 7369| SMITH|    CLERK|7902|12/17/2000| 800|null|    20|\n",
      "| 7788| SCOTT|  ANALYST|7566|04/19/2007|3000|null|    20|\n",
      "| 7876| ADAMS|    CLERK|7788|05/23/2007|1100|null|    20|\n",
      "| 7934|MILLER|    CLERK|7782|01/23/2002|1300|null|    10|\n",
      "+-----+------+---------+----+----------+----+----+------+\n",
      "\n"
     ]
    }
   ],
   "source": [
    "df.show()"
   ]
  },
  {
   "cell_type": "code",
   "execution_count": 17,
   "id": "81dfc708",
   "metadata": {},
   "outputs": [],
   "source": [
    "dfrdd = df.rdd"
   ]
  },
  {
   "cell_type": "code",
   "execution_count": 18,
   "id": "1bd56b02",
   "metadata": {},
   "outputs": [],
   "source": [
    "jobMap= dfrdd.map(lambda x: [x[2], int(x[5])])"
   ]
  },
  {
   "cell_type": "code",
   "execution_count": 19,
   "id": "f47b21a6",
   "metadata": {},
   "outputs": [
    {
     "data": {
      "text/plain": [
       "[['PRESIDENT', 5000],\n",
       " ['MANAGER', 2850],\n",
       " ['MANAGER', 2450],\n",
       " ['MANAGER', 2975],\n",
       " ['SALESMAN', 1250],\n",
       " ['SALESMAN', 1600],\n",
       " ['SALESMAN', 1500],\n",
       " ['CLERK', 950],\n",
       " ['SALESMAN', 1250],\n",
       " ['ANALYST', 3000],\n",
       " ['CLERK', 800],\n",
       " ['ANALYST', 3000],\n",
       " ['CLERK', 1100],\n",
       " ['CLERK', 1300]]"
      ]
     },
     "execution_count": 19,
     "metadata": {},
     "output_type": "execute_result"
    }
   ],
   "source": [
    "jbMp = jobMap.collect()\n",
    "jbMp"
   ]
  },
  {
   "cell_type": "code",
   "execution_count": 20,
   "id": "e07817d4",
   "metadata": {},
   "outputs": [],
   "source": [
    "smSal = jobMap.reduceByKey(lambda a,b: a+b)"
   ]
  },
  {
   "cell_type": "code",
   "execution_count": 22,
   "id": "fde18687",
   "metadata": {},
   "outputs": [
    {
     "data": {
      "text/plain": [
       "[('PRESIDENT', 5000),\n",
       " ('MANAGER', 8275),\n",
       " ('SALESMAN', 5600),\n",
       " ('CLERK', 4150),\n",
       " ('ANALYST', 6000)]"
      ]
     },
     "execution_count": 22,
     "metadata": {},
     "output_type": "execute_result"
    }
   ],
   "source": [
    "smSl = smSal.collect()\n",
    "smSl"
   ]
  },
  {
   "cell_type": "code",
   "execution_count": 23,
   "id": "03cb9779",
   "metadata": {},
   "outputs": [],
   "source": [
    "dfSmSal = spark.createDataFrame(smSl,[\"Job\",\"smSal\"])"
   ]
  },
  {
   "cell_type": "code",
   "execution_count": 24,
   "id": "e945009a",
   "metadata": {},
   "outputs": [
    {
     "name": "stdout",
     "output_type": "stream",
     "text": [
      "+---------+-----+\n",
      "|      Job|smSal|\n",
      "+---------+-----+\n",
      "|PRESIDENT| 5000|\n",
      "|  MANAGER| 8275|\n",
      "| SALESMAN| 5600|\n",
      "|    CLERK| 4150|\n",
      "|  ANALYST| 6000|\n",
      "+---------+-----+\n",
      "\n"
     ]
    }
   ],
   "source": [
    "dfSmSal.show()"
   ]
  }
 ],
 "metadata": {
  "kernelspec": {
   "display_name": "Python 3 (ipykernel)",
   "language": "python",
   "name": "python3"
  },
  "language_info": {
   "codemirror_mode": {
    "name": "ipython",
    "version": 3
   },
   "file_extension": ".py",
   "mimetype": "text/x-python",
   "name": "python",
   "nbconvert_exporter": "python",
   "pygments_lexer": "ipython3",
   "version": "3.9.12"
  }
 },
 "nbformat": 4,
 "nbformat_minor": 5
}
