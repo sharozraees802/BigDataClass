{
 "cells": [
  {
   "cell_type": "code",
   "execution_count": 1,
   "id": "005a69b8",
   "metadata": {},
   "outputs": [
    {
     "name": "stdout",
     "output_type": "stream",
     "text": [
      "Requirement already satisfied: pyspark in c:\\users\\administrator\\anaconda3\\lib\\site-packages (3.3.0)\n",
      "Requirement already satisfied: py4j==0.10.9.5 in c:\\users\\administrator\\anaconda3\\lib\\site-packages (from pyspark) (0.10.9.5)\n"
     ]
    }
   ],
   "source": [
    "!pip install pyspark\n"
   ]
  },
  {
   "cell_type": "code",
   "execution_count": 2,
   "id": "80b37127",
   "metadata": {},
   "outputs": [],
   "source": [
    "from pyspark.sql import SparkSession"
   ]
  },
  {
   "cell_type": "code",
   "execution_count": 3,
   "id": "8f6fd4cc",
   "metadata": {},
   "outputs": [],
   "source": [
    "spark = SparkSession.builder.appName(\"pysp\").getOrCreate()"
   ]
  },
  {
   "cell_type": "code",
   "execution_count": 4,
   "id": "9d0478b7",
   "metadata": {},
   "outputs": [],
   "source": [
    "df = spark.read.csv(\"./dataset/DFFjNE.csv\", header=True, inferSchema= True)"
   ]
  },
  {
   "cell_type": "code",
   "execution_count": 5,
   "id": "fc909ebd",
   "metadata": {},
   "outputs": [
    {
     "data": {
      "text/plain": [
       "['empno', 'ename', 'job', 'mgr', 'hiredate', 'sal', 'comm', 'deptno']"
      ]
     },
     "execution_count": 5,
     "metadata": {},
     "output_type": "execute_result"
    }
   ],
   "source": [
    "df.columns"
   ]
  },
  {
   "cell_type": "code",
   "execution_count": 6,
   "id": "b454609d",
   "metadata": {},
   "outputs": [
    {
     "name": "stdout",
     "output_type": "stream",
     "text": [
      "root\n",
      " |-- empno: integer (nullable = true)\n",
      " |-- ename: string (nullable = true)\n",
      " |-- job: string (nullable = true)\n",
      " |-- mgr: integer (nullable = true)\n",
      " |-- hiredate: string (nullable = true)\n",
      " |-- sal: integer (nullable = true)\n",
      " |-- comm: integer (nullable = true)\n",
      " |-- deptno: integer (nullable = true)\n",
      "\n"
     ]
    }
   ],
   "source": [
    "df.printSchema()"
   ]
  },
  {
   "cell_type": "code",
   "execution_count": 7,
   "id": "a5f095d5",
   "metadata": {},
   "outputs": [
    {
     "name": "stdout",
     "output_type": "stream",
     "text": [
      "+-----+------+---------+----+----------+----+----+------+\n",
      "|empno| ename|      job| mgr|  hiredate| sal|comm|deptno|\n",
      "+-----+------+---------+----+----------+----+----+------+\n",
      "| 7839|  KING|PRESIDENT|null|11/17/2001|5000|null|    10|\n",
      "| 7698| BLAKE|  MANAGER|7839|05/01/2001|2850|null|    30|\n",
      "| 7782| CLARK|  MANAGER|7839|06/09/2001|2450|null|    10|\n",
      "| 7566| JONES|  MANAGER|7839|04/02/2001|2975|null|    20|\n",
      "| 7654|MARTIN| SALESMAN|7698|09/28/2001|1250|1400|    30|\n",
      "| 7499| ALLEN| SALESMAN|7698|02/20/2001|1600| 300|    30|\n",
      "| 7844|TURNER| SALESMAN|7698|09/08/2001|1500|   0|    30|\n",
      "| 7900| JAMES|    CLERK|7698|12/03/2001| 950|null|    30|\n",
      "| 7521|  WARD| SALESMAN|7698|02/22/2001|1250| 500|    30|\n",
      "| 7902|  FORD|  ANALYST|7566|02/03/2001|3000|null|    20|\n",
      "| 7369| SMITH|    CLERK|7902|12/17/2000| 800|null|    20|\n",
      "| 7788| SCOTT|  ANALYST|7566|04/19/2007|3000|null|    20|\n",
      "| 7876| ADAMS|    CLERK|7788|05/23/2007|1100|null|    20|\n",
      "| 7934|MILLER|    CLERK|7782|01/23/2002|1300|null|    10|\n",
      "+-----+------+---------+----+----------+----+----+------+\n",
      "\n"
     ]
    }
   ],
   "source": [
    "df.show()"
   ]
  },
  {
   "cell_type": "code",
   "execution_count": 8,
   "id": "ae16ac9c",
   "metadata": {},
   "outputs": [
    {
     "data": {
      "text/plain": [
       "[('empno', 'int'),\n",
       " ('ename', 'string'),\n",
       " ('job', 'string'),\n",
       " ('mgr', 'int'),\n",
       " ('hiredate', 'string'),\n",
       " ('sal', 'int'),\n",
       " ('comm', 'int'),\n",
       " ('deptno', 'int')]"
      ]
     },
     "execution_count": 8,
     "metadata": {},
     "output_type": "execute_result"
    }
   ],
   "source": [
    "df.dtypes"
   ]
  },
  {
   "cell_type": "code",
   "execution_count": 9,
   "id": "d2259926",
   "metadata": {},
   "outputs": [],
   "source": [
    "from pyspark.sql.types import *\n",
    "from pyspark.sql.functions import to_date, unix_timestamp, from_unixtime"
   ]
  },
  {
   "cell_type": "code",
   "execution_count": 10,
   "id": "6cf20cbb",
   "metadata": {},
   "outputs": [],
   "source": [
    "df = df.withColumn(\"empno\",df.empno.cast(\"integer\"))\\\n",
    ".withColumn(\"mgr\",df.mgr.cast(\"integer\"))\\\n",
    ".withColumn(\"sal\",df.sal.cast(\"float\"))\\\n",
    ".withColumn(\"deptno\",df.deptno.cast(\"integer\"))"
   ]
  },
  {
   "cell_type": "code",
   "execution_count": 41,
   "id": "d32ae719",
   "metadata": {},
   "outputs": [],
   "source": [
    "df = df.withColumn('hiredate',to_date(unix_timestamp(df.hiredate,'MM/dd/yyy').cast('timestamp')))"
   ]
  },
  {
   "cell_type": "code",
   "execution_count": 42,
   "id": "1fbb891f",
   "metadata": {},
   "outputs": [
    {
     "data": {
      "text/plain": [
       "[('empno', 'int'),\n",
       " ('ename', 'string'),\n",
       " ('job', 'string'),\n",
       " ('mgr', 'int'),\n",
       " ('hiredate', 'date'),\n",
       " ('sal', 'float'),\n",
       " ('comm', 'int'),\n",
       " ('deptno', 'int')]"
      ]
     },
     "execution_count": 42,
     "metadata": {},
     "output_type": "execute_result"
    }
   ],
   "source": [
    "df.dtypes"
   ]
  },
  {
   "cell_type": "code",
   "execution_count": 43,
   "id": "ed7476f4",
   "metadata": {},
   "outputs": [
    {
     "name": "stdout",
     "output_type": "stream",
     "text": [
      "+-----+------+---------+----+----------+------+----+------+\n",
      "|empno| ename|      job| mgr|  hiredate|   sal|comm|deptno|\n",
      "+-----+------+---------+----+----------+------+----+------+\n",
      "| 7839|  KING|PRESIDENT|null|2001-11-17|5000.0|null|    10|\n",
      "| 7698| BLAKE|  MANAGER|7839|2001-05-01|2850.0|null|    30|\n",
      "| 7782| CLARK|  MANAGER|7839|2001-06-09|2450.0|null|    10|\n",
      "| 7566| JONES|  MANAGER|7839|2001-04-02|2975.0|null|    20|\n",
      "| 7654|MARTIN| SALESMAN|7698|2001-09-28|1250.0|1400|    30|\n",
      "| 7499| ALLEN| SALESMAN|7698|2001-02-20|1600.0| 300|    30|\n",
      "| 7844|TURNER| SALESMAN|7698|2001-09-08|1500.0|   0|    30|\n",
      "| 7900| JAMES|    CLERK|7698|2001-12-03| 950.0|null|    30|\n",
      "| 7521|  WARD| SALESMAN|7698|2001-02-22|1250.0| 500|    30|\n",
      "| 7902|  FORD|  ANALYST|7566|2001-02-03|3000.0|null|    20|\n",
      "| 7369| SMITH|    CLERK|7902|2000-12-17| 800.0|null|    20|\n",
      "| 7788| SCOTT|  ANALYST|7566|2007-04-19|3000.0|null|    20|\n",
      "| 7876| ADAMS|    CLERK|7788|2007-05-23|1100.0|null|    20|\n",
      "| 7934|MILLER|    CLERK|7782|2002-01-23|1300.0|null|    10|\n",
      "+-----+------+---------+----+----------+------+----+------+\n",
      "\n"
     ]
    }
   ],
   "source": [
    "df.show()"
   ]
  },
  {
   "cell_type": "code",
   "execution_count": 44,
   "id": "0bd13af1",
   "metadata": {},
   "outputs": [
    {
     "name": "stdout",
     "output_type": "stream",
     "text": [
      "+------+------+\n",
      "| ename|   sal|\n",
      "+------+------+\n",
      "|  KING|5000.0|\n",
      "| BLAKE|2850.0|\n",
      "| CLARK|2450.0|\n",
      "| JONES|2975.0|\n",
      "|MARTIN|1250.0|\n",
      "+------+------+\n",
      "only showing top 5 rows\n",
      "\n"
     ]
    }
   ],
   "source": [
    "df.select(\"ename\",\"sal\").show(5)"
   ]
  },
  {
   "cell_type": "code",
   "execution_count": 45,
   "id": "c5362052",
   "metadata": {},
   "outputs": [
    {
     "name": "stdout",
     "output_type": "stream",
     "text": [
      "+------+------+\n",
      "| ename|   sal|\n",
      "+------+------+\n",
      "|  KING|5000.0|\n",
      "| BLAKE|2850.0|\n",
      "| CLARK|2450.0|\n",
      "| JONES|2975.0|\n",
      "|MARTIN|1250.0|\n",
      "+------+------+\n",
      "only showing top 5 rows\n",
      "\n"
     ]
    }
   ],
   "source": [
    "df1 = df.select(\"ename\",\"sal\")\n",
    "\n",
    "\n",
    "df1.show(5)"
   ]
  },
  {
   "cell_type": "code",
   "execution_count": 46,
   "id": "6f3ef68b",
   "metadata": {},
   "outputs": [
    {
     "name": "stdout",
     "output_type": "stream",
     "text": [
      "+-------+-----+------------------+\n",
      "|summary|ename|               sal|\n",
      "+-------+-----+------------------+\n",
      "|  count|   14|                14|\n",
      "|   mean| null| 2073.214285714286|\n",
      "| stddev| null|1182.5032235162716|\n",
      "|    min|ADAMS|             800.0|\n",
      "|    max| WARD|            5000.0|\n",
      "+-------+-----+------------------+\n",
      "\n"
     ]
    }
   ],
   "source": [
    "df.select(\"ename\",\"sal\").describe().show()"
   ]
  },
  {
   "cell_type": "code",
   "execution_count": 47,
   "id": "3eb1b25f",
   "metadata": {},
   "outputs": [
    {
     "name": "stdout",
     "output_type": "stream",
     "text": [
      "+---------+\n",
      "|      job|\n",
      "+---------+\n",
      "|  ANALYST|\n",
      "| SALESMAN|\n",
      "|    CLERK|\n",
      "|  MANAGER|\n",
      "|PRESIDENT|\n",
      "+---------+\n",
      "\n"
     ]
    }
   ],
   "source": [
    "df.select(\"job\").distinct().show()"
   ]
  },
  {
   "cell_type": "code",
   "execution_count": 48,
   "id": "735efd28",
   "metadata": {},
   "outputs": [
    {
     "name": "stdout",
     "output_type": "stream",
     "text": [
      "+---------+\n",
      "|      job|\n",
      "+---------+\n",
      "|  ANALYST|\n",
      "| SALESMAN|\n",
      "|    CLERK|\n",
      "|  MANAGER|\n",
      "|PRESIDENT|\n",
      "+---------+\n",
      "\n"
     ]
    }
   ],
   "source": [
    "df.select(\"job\").dropDuplicates().show()"
   ]
  },
  {
   "cell_type": "code",
   "execution_count": 49,
   "id": "d7e128a3",
   "metadata": {},
   "outputs": [
    {
     "name": "stdout",
     "output_type": "stream",
     "text": [
      "4\n",
      "14\n"
     ]
    }
   ],
   "source": [
    "df2 = df.dropna(how=\"any\", subset = [\"comm\",\"mgr\"]) # any = or agr kese bhee ak cloumn me null value aye uski row ko ura do\n",
    "print(df2.count())\n",
    "print(df.count())"
   ]
  },
  {
   "cell_type": "code",
   "execution_count": 50,
   "id": "07373378",
   "metadata": {},
   "outputs": [
    {
     "name": "stdout",
     "output_type": "stream",
     "text": [
      "13\n",
      "14\n"
     ]
    }
   ],
   "source": [
    "df2 = df.dropna(how=\"all\", subset = [\"comm\",\"mgr\"]) # any = abd agr dono bhee ak cloumn me null value aye uski row ko ura do\n",
    "print(df2.count())\n",
    "print(df.count())"
   ]
  },
  {
   "cell_type": "code",
   "execution_count": 51,
   "id": "beeeafe8",
   "metadata": {},
   "outputs": [
    {
     "name": "stdout",
     "output_type": "stream",
     "text": [
      "+-----+------+---------+----+----------+------+----+------+\n",
      "|empno| ename|      job| mgr|  hiredate|   sal|comm|deptno|\n",
      "+-----+------+---------+----+----------+------+----+------+\n",
      "| 7839|  KING|PRESIDENT|null|2001-11-17|5000.0|null|    10|\n",
      "| 7698| BLAKE|  MANAGER|7839|2001-05-01|2850.0|null|    30|\n",
      "| 7782| CLARK|  MANAGER|7839|2001-06-09|2450.0|null|    10|\n",
      "| 7566| JONES|  MANAGER|7839|2001-04-02|2975.0|null|    20|\n",
      "| 7654|MARTIN| SALESMAN|7698|2001-09-28|1250.0|1400|    30|\n",
      "| 7499| ALLEN| SALESMAN|7698|2001-02-20|1600.0| 300|    30|\n",
      "| 7844|TURNER| SALESMAN|7698|2001-09-08|1500.0|   0|    30|\n",
      "| 7900| JAMES|    CLERK|7698|2001-12-03| 950.0|null|    30|\n",
      "| 7521|  WARD| SALESMAN|7698|2001-02-22|1250.0| 500|    30|\n",
      "| 7902|  FORD|  ANALYST|7566|2001-02-03|3000.0|null|    20|\n",
      "| 7369| SMITH|    CLERK|7902|2000-12-17| 800.0|null|    20|\n",
      "| 7788| SCOTT|  ANALYST|7566|2007-04-19|3000.0|null|    20|\n",
      "| 7876| ADAMS|    CLERK|7788|2007-05-23|1100.0|null|    20|\n",
      "| 7934|MILLER|    CLERK|7782|2002-01-23|1300.0|null|    10|\n",
      "+-----+------+---------+----+----------+------+----+------+\n",
      "\n"
     ]
    }
   ],
   "source": [
    "df.show()"
   ]
  },
  {
   "cell_type": "code",
   "execution_count": 29,
   "id": "83b5ffee",
   "metadata": {},
   "outputs": [
    {
     "name": "stdout",
     "output_type": "stream",
     "text": [
      "+-----+------+--------+----+----------+------+----+------+\n",
      "|empno| ename|     job| mgr|  hiredate|   sal|comm|deptno|\n",
      "+-----+------+--------+----+----------+------+----+------+\n",
      "| 7698| BLAKE| MANAGER|7839|05/01/2001|2850.0|null|    30|\n",
      "| 7782| CLARK| MANAGER|7839|06/09/2001|2450.0|null|    10|\n",
      "| 7566| JONES| MANAGER|7839|04/02/2001|2975.0|null|    20|\n",
      "| 7654|MARTIN|SALESMAN|7698|09/28/2001|1250.0|1400|    30|\n",
      "| 7499| ALLEN|SALESMAN|7698|02/20/2001|1600.0| 300|    30|\n",
      "| 7844|TURNER|SALESMAN|7698|09/08/2001|1500.0|   0|    30|\n",
      "| 7900| JAMES|   CLERK|7698|12/03/2001| 950.0|null|    30|\n",
      "| 7521|  WARD|SALESMAN|7698|02/22/2001|1250.0| 500|    30|\n",
      "| 7902|  FORD| ANALYST|7566|02/03/2001|3000.0|null|    20|\n",
      "| 7369| SMITH|   CLERK|7902|12/17/2000| 800.0|null|    20|\n",
      "| 7788| SCOTT| ANALYST|7566|04/19/2007|3000.0|null|    20|\n",
      "| 7876| ADAMS|   CLERK|7788|05/23/2007|1100.0|null|    20|\n",
      "| 7934|MILLER|   CLERK|7782|01/23/2002|1300.0|null|    10|\n",
      "+-----+------+--------+----+----------+------+----+------+\n",
      "\n"
     ]
    }
   ],
   "source": [
    "df2.show()"
   ]
  },
  {
   "cell_type": "code",
   "execution_count": 30,
   "id": "b6499eb5",
   "metadata": {},
   "outputs": [],
   "source": [
    "df2 = df.fillna({\"comm\":0, \"mgr\":0})"
   ]
  },
  {
   "cell_type": "code",
   "execution_count": 31,
   "id": "7a6d0ce6",
   "metadata": {},
   "outputs": [
    {
     "name": "stdout",
     "output_type": "stream",
     "text": [
      "+-----+------+---------+----+----------+------+----+------+\n",
      "|empno| ename|      job| mgr|  hiredate|   sal|comm|deptno|\n",
      "+-----+------+---------+----+----------+------+----+------+\n",
      "| 7839|  KING|PRESIDENT|   0|11/17/2001|5000.0|   0|    10|\n",
      "| 7698| BLAKE|  MANAGER|7839|05/01/2001|2850.0|   0|    30|\n",
      "| 7782| CLARK|  MANAGER|7839|06/09/2001|2450.0|   0|    10|\n",
      "| 7566| JONES|  MANAGER|7839|04/02/2001|2975.0|   0|    20|\n",
      "| 7654|MARTIN| SALESMAN|7698|09/28/2001|1250.0|1400|    30|\n",
      "| 7499| ALLEN| SALESMAN|7698|02/20/2001|1600.0| 300|    30|\n",
      "| 7844|TURNER| SALESMAN|7698|09/08/2001|1500.0|   0|    30|\n",
      "| 7900| JAMES|    CLERK|7698|12/03/2001| 950.0|   0|    30|\n",
      "| 7521|  WARD| SALESMAN|7698|02/22/2001|1250.0| 500|    30|\n",
      "| 7902|  FORD|  ANALYST|7566|02/03/2001|3000.0|   0|    20|\n",
      "| 7369| SMITH|    CLERK|7902|12/17/2000| 800.0|   0|    20|\n",
      "| 7788| SCOTT|  ANALYST|7566|04/19/2007|3000.0|   0|    20|\n",
      "| 7876| ADAMS|    CLERK|7788|05/23/2007|1100.0|   0|    20|\n",
      "| 7934|MILLER|    CLERK|7782|01/23/2002|1300.0|   0|    10|\n",
      "+-----+------+---------+----+----------+------+----+------+\n",
      "\n"
     ]
    }
   ],
   "source": [
    "df2.show()"
   ]
  },
  {
   "cell_type": "code",
   "execution_count": 34,
   "id": "69b245ba",
   "metadata": {},
   "outputs": [],
   "source": [
    "from pyspark.sql.functions import mean"
   ]
  },
  {
   "cell_type": "code",
   "execution_count": 35,
   "id": "3e4639a0",
   "metadata": {},
   "outputs": [
    {
     "name": "stdout",
     "output_type": "stream",
     "text": [
      "550.0\n"
     ]
    }
   ],
   "source": [
    "avg = df.select(mean(df.comm)).collect()[0][0]\n",
    "print(avg)"
   ]
  },
  {
   "cell_type": "code",
   "execution_count": 36,
   "id": "cddc5bbd",
   "metadata": {},
   "outputs": [
    {
     "name": "stdout",
     "output_type": "stream",
     "text": [
      "+-----+------+---------+----+----------+------+----+------+\n",
      "|empno| ename|      job| mgr|  hiredate|   sal|comm|deptno|\n",
      "+-----+------+---------+----+----------+------+----+------+\n",
      "| 7839|  KING|PRESIDENT|null|11/17/2001|5000.0| 550|    10|\n",
      "| 7698| BLAKE|  MANAGER|7839|05/01/2001|2850.0| 550|    30|\n",
      "| 7782| CLARK|  MANAGER|7839|06/09/2001|2450.0| 550|    10|\n",
      "| 7566| JONES|  MANAGER|7839|04/02/2001|2975.0| 550|    20|\n",
      "| 7654|MARTIN| SALESMAN|7698|09/28/2001|1250.0|1400|    30|\n",
      "| 7499| ALLEN| SALESMAN|7698|02/20/2001|1600.0| 300|    30|\n",
      "| 7844|TURNER| SALESMAN|7698|09/08/2001|1500.0|   0|    30|\n",
      "| 7900| JAMES|    CLERK|7698|12/03/2001| 950.0| 550|    30|\n",
      "| 7521|  WARD| SALESMAN|7698|02/22/2001|1250.0| 500|    30|\n",
      "| 7902|  FORD|  ANALYST|7566|02/03/2001|3000.0| 550|    20|\n",
      "| 7369| SMITH|    CLERK|7902|12/17/2000| 800.0| 550|    20|\n",
      "| 7788| SCOTT|  ANALYST|7566|04/19/2007|3000.0| 550|    20|\n",
      "| 7876| ADAMS|    CLERK|7788|05/23/2007|1100.0| 550|    20|\n",
      "| 7934|MILLER|    CLERK|7782|01/23/2002|1300.0| 550|    10|\n",
      "+-----+------+---------+----+----------+------+----+------+\n",
      "\n"
     ]
    }
   ],
   "source": [
    "df2 = df.fillna({\"comm\":avg})\n",
    "df2.show()"
   ]
  },
  {
   "cell_type": "code",
   "execution_count": 39,
   "id": "7fac307a",
   "metadata": {},
   "outputs": [],
   "source": [
    "from pyspark.sql.functions import year, month, dayofyear, weekofyear, hour, minute, dayofmonth"
   ]
  },
  {
   "cell_type": "code",
   "execution_count": 52,
   "id": "58668e32",
   "metadata": {},
   "outputs": [
    {
     "name": "stdout",
     "output_type": "stream",
     "text": [
      "+----------+-------+--------+-------------+------------+-------------+\n",
      "|  hiredate|dt_year|dt_month|dt_dayofmonth|dt_dayofyear|dt_weekofyear|\n",
      "+----------+-------+--------+-------------+------------+-------------+\n",
      "|2001-11-17|   2001|      11|           17|         321|           46|\n",
      "|2001-05-01|   2001|       5|            1|         121|           18|\n",
      "|2001-06-09|   2001|       6|            9|         160|           23|\n",
      "|2001-04-02|   2001|       4|            2|          92|           14|\n",
      "|2001-09-28|   2001|       9|           28|         271|           39|\n",
      "|2001-02-20|   2001|       2|           20|          51|            8|\n",
      "|2001-09-08|   2001|       9|            8|         251|           36|\n",
      "|2001-12-03|   2001|      12|            3|         337|           49|\n",
      "|2001-02-22|   2001|       2|           22|          53|            8|\n",
      "|2001-02-03|   2001|       2|            3|          34|            5|\n",
      "|2000-12-17|   2000|      12|           17|         352|           50|\n",
      "|2007-04-19|   2007|       4|           19|         109|           16|\n",
      "|2007-05-23|   2007|       5|           23|         143|           21|\n",
      "|2002-01-23|   2002|       1|           23|          23|            4|\n",
      "+----------+-------+--------+-------------+------------+-------------+\n",
      "\n"
     ]
    }
   ],
   "source": [
    "df.select(df.hiredate,year(df.hiredate).alias(\"dt_year\"),month(df.hiredate).alias(\"dt_month\"),dayofmonth(df.hiredate).alias(\"dt_dayofmonth\"),dayofyear(df.hiredate).alias(\"dt_dayofyear\"),weekofyear(df.hiredate).alias(\"dt_weekofyear\")).show()"
   ]
  },
  {
   "cell_type": "code",
   "execution_count": null,
   "id": "58ec91df",
   "metadata": {},
   "outputs": [],
   "source": []
  }
 ],
 "metadata": {
  "kernelspec": {
   "display_name": "Python 3.6.8 ('cwenv': venv)",
   "language": "python",
   "name": "python3"
  },
  "language_info": {
   "codemirror_mode": {
    "name": "ipython",
    "version": 3
   },
   "file_extension": ".py",
   "mimetype": "text/x-python",
   "name": "python",
   "nbconvert_exporter": "python",
   "pygments_lexer": "ipython3",
   "version": "3.6.8"
  },
  "vscode": {
   "interpreter": {
    "hash": "ff6f7543167423187667487b4e7424edd80400168d8062fbcb7ff49aa8a6e610"
   }
  }
 },
 "nbformat": 4,
 "nbformat_minor": 5
}
