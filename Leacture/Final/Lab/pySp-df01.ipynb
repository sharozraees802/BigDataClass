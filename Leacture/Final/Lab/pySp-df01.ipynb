{
 "cells": [
  {
   "cell_type": "code",
   "execution_count": 1,
   "metadata": {},
   "outputs": [],
   "source": [
    "from pyspark.sql import SparkSession"
   ]
  },
  {
   "cell_type": "code",
   "execution_count": 2,
   "metadata": {},
   "outputs": [],
   "source": [
    "spark = SparkSession.builder.appName(\"BasicOpr\").getOrCreate()"
   ]
  },
  {
   "cell_type": "code",
   "execution_count": 3,
   "metadata": {},
   "outputs": [],
   "source": [
    "df1 = spark.read.csv('D://DataSets//emp.csv',inferSchema=True,header=True)"
   ]
  },
  {
   "cell_type": "markdown",
   "metadata": {},
   "source": [
    "# Schema Information:"
   ]
  },
  {
   "cell_type": "code",
   "execution_count": 4,
   "metadata": {},
   "outputs": [
    {
     "data": {
      "text/plain": [
       "DataFrame[empno: int, ename: string, job: string, mgr: int, hiredate: string, sal: int, comm: int, deptno: int]"
      ]
     },
     "execution_count": 4,
     "metadata": {},
     "output_type": "execute_result"
    }
   ],
   "source": [
    "df1"
   ]
  },
  {
   "cell_type": "code",
   "execution_count": 5,
   "metadata": {},
   "outputs": [
    {
     "name": "stdout",
     "output_type": "stream",
     "text": [
      "root\n",
      " |-- empno: integer (nullable = true)\n",
      " |-- ename: string (nullable = true)\n",
      " |-- job: string (nullable = true)\n",
      " |-- mgr: integer (nullable = true)\n",
      " |-- hiredate: string (nullable = true)\n",
      " |-- sal: integer (nullable = true)\n",
      " |-- comm: integer (nullable = true)\n",
      " |-- deptno: integer (nullable = true)\n",
      "\n"
     ]
    }
   ],
   "source": [
    "df1.printSchema()"
   ]
  },
  {
   "cell_type": "code",
   "execution_count": 6,
   "metadata": {},
   "outputs": [
    {
     "data": {
      "text/plain": [
       "['empno', 'ename', 'job', 'mgr', 'hiredate', 'sal', 'comm', 'deptno']"
      ]
     },
     "execution_count": 6,
     "metadata": {},
     "output_type": "execute_result"
    }
   ],
   "source": [
    "df1.columns"
   ]
  },
  {
   "cell_type": "code",
   "execution_count": 7,
   "metadata": {},
   "outputs": [
    {
     "data": {
      "text/plain": [
       "DataFrame[summary: string, empno: string, ename: string, job: string, mgr: string, hiredate: string, sal: string, comm: string, deptno: string]"
      ]
     },
     "execution_count": 7,
     "metadata": {},
     "output_type": "execute_result"
    }
   ],
   "source": [
    "df1.describe()"
   ]
  },
  {
   "cell_type": "code",
   "execution_count": 8,
   "metadata": {},
   "outputs": [
    {
     "data": {
      "text/plain": [
       "[('empno', 'int'),\n",
       " ('ename', 'string'),\n",
       " ('job', 'string'),\n",
       " ('mgr', 'int'),\n",
       " ('hiredate', 'string'),\n",
       " ('sal', 'int'),\n",
       " ('comm', 'int'),\n",
       " ('deptno', 'int')]"
      ]
     },
     "execution_count": 8,
     "metadata": {},
     "output_type": "execute_result"
    }
   ],
   "source": [
    "df1.dtypes"
   ]
  },
  {
   "cell_type": "code",
   "execution_count": 9,
   "metadata": {},
   "outputs": [
    {
     "name": "stdout",
     "output_type": "stream",
     "text": [
      "+-------+-----------------+-----+----+-----------------+--------+-----------------+-----+------------------+\n",
      "|summary|            empno|ename| job|              mgr|hiredate|              sal| comm|            deptno|\n",
      "+-------+-----------------+-----+----+-----------------+--------+-----------------+-----+------------------+\n",
      "|  count|               14|   14|  14|               13|      14|               14|    4|                14|\n",
      "|   mean|7726.571428571428| null|null|7739.307692307692|    null|2073.214285714286|550.0|22.142857142857142|\n",
      "+-------+-----------------+-----+----+-----------------+--------+-----------------+-----+------------------+\n",
      "only showing top 2 rows\n",
      "\n"
     ]
    }
   ],
   "source": [
    "df1.describe().show(2)"
   ]
  },
  {
   "cell_type": "code",
   "execution_count": 10,
   "metadata": {},
   "outputs": [
    {
     "name": "stdout",
     "output_type": "stream",
     "text": [
      "+-------+------------------+-----+--------+------------------+----------+------------------+-----------------+------------------+\n",
      "|summary|             empno|ename|     job|               mgr|  hiredate|               sal|             comm|            deptno|\n",
      "+-------+------------------+-----+--------+------------------+----------+------------------+-----------------+------------------+\n",
      "|  count|                14|   14|      14|                13|        14|                14|                4|                14|\n",
      "|   mean| 7726.571428571428| null|    null| 7739.307692307692|      null| 2073.214285714286|            550.0|22.142857142857142|\n",
      "| stddev|178.29436087795685| null|    null|103.71466033898382|      null|1182.5032235162716|602.7713773341708|  8.01783725737273|\n",
      "|    min|              7369|ADAMS| ANALYST|              7566|01/23/2002|               800|                0|                10|\n",
      "|    25%|              7566| null|    null|              7698|      null|              1250|                0|                20|\n",
      "|    50%|              7782| null|    null|              7698|      null|              1500|              300|                20|\n",
      "|    75%|              7876| null|    null|              7839|      null|              2975|              500|                30|\n",
      "|    max|              7934| WARD|SALESMAN|              7902|12/17/2000|              5000|             1400|                30|\n",
      "+-------+------------------+-----+--------+------------------+----------+------------------+-----------------+------------------+\n",
      "\n"
     ]
    }
   ],
   "source": [
    "df1.summary().show()"
   ]
  },
  {
   "cell_type": "markdown",
   "metadata": {},
   "source": [
    "# Grabbing the data"
   ]
  },
  {
   "cell_type": "markdown",
   "metadata": {},
   "source": [
    "## Row Objects"
   ]
  },
  {
   "cell_type": "code",
   "execution_count": 11,
   "metadata": {},
   "outputs": [
    {
     "data": {
      "text/plain": [
       "Row(empno=7839, ename='KING', job='PRESIDENT', mgr=None, hiredate='11/17/2001', sal=5000, comm=None, deptno=10)"
      ]
     },
     "execution_count": 11,
     "metadata": {},
     "output_type": "execute_result"
    }
   ],
   "source": [
    "df1.first()"
   ]
  },
  {
   "cell_type": "code",
   "execution_count": 12,
   "metadata": {},
   "outputs": [
    {
     "data": {
      "text/plain": [
       "[Row(empno=7839, ename='KING', job='PRESIDENT', mgr=None, hiredate='11/17/2001', sal=5000, comm=None, deptno=10),\n",
       " Row(empno=7698, ename='BLAKE', job='MANAGER', mgr=7839, hiredate='05/01/2001', sal=2850, comm=None, deptno=30)]"
      ]
     },
     "execution_count": 12,
     "metadata": {},
     "output_type": "execute_result"
    }
   ],
   "source": [
    "df1.head(2)"
   ]
  },
  {
   "cell_type": "code",
   "execution_count": 13,
   "metadata": {},
   "outputs": [
    {
     "name": "stdout",
     "output_type": "stream",
     "text": [
      "Row(empno=7839, ename='KING', job='PRESIDENT', mgr=None, hiredate='11/17/2001', sal=5000, comm=None, deptno=10) \n",
      "\n",
      "Row(empno=7698, ename='BLAKE', job='MANAGER', mgr=7839, hiredate='05/01/2001', sal=2850, comm=None, deptno=30) \n",
      "\n"
     ]
    }
   ],
   "source": [
    "for line in df1.head(2):\n",
    "    print(line, '\\n')"
   ]
  },
  {
   "cell_type": "code",
   "execution_count": 14,
   "metadata": {},
   "outputs": [
    {
     "data": {
      "text/plain": [
       "Row(empno=7839, ename='KING', job='PRESIDENT', mgr=None, hiredate='11/17/2001', sal=5000, comm=None, deptno=10)"
      ]
     },
     "execution_count": 14,
     "metadata": {},
     "output_type": "execute_result"
    }
   ],
   "source": [
    "df1.head(2)[0]"
   ]
  },
  {
   "cell_type": "code",
   "execution_count": 15,
   "metadata": {},
   "outputs": [
    {
     "data": {
      "text/plain": [
       "[Row(empno=7839, ename='KING', job='PRESIDENT', mgr=None, hiredate='11/17/2001', sal=5000, comm=None, deptno=10),\n",
       " Row(empno=7698, ename='BLAKE', job='MANAGER', mgr=7839, hiredate='05/01/2001', sal=2850, comm=None, deptno=30)]"
      ]
     },
     "execution_count": 15,
     "metadata": {},
     "output_type": "execute_result"
    }
   ],
   "source": [
    "df1.take(2)"
   ]
  },
  {
   "cell_type": "code",
   "execution_count": 16,
   "metadata": {},
   "outputs": [
    {
     "name": "stdout",
     "output_type": "stream",
     "text": [
      "+-----+------+---------+----+----------+----+----+------+\n",
      "|empno| ename|      job| mgr|  hiredate| sal|comm|deptno|\n",
      "+-----+------+---------+----+----------+----+----+------+\n",
      "| 7839|  KING|PRESIDENT|null|11/17/2001|5000|null|    10|\n",
      "| 7698| BLAKE|  MANAGER|7839|05/01/2001|2850|null|    30|\n",
      "| 7782| CLARK|  MANAGER|7839|06/09/2001|2450|null|    10|\n",
      "| 7566| JONES|  MANAGER|7839|04/02/2001|2975|null|    20|\n",
      "| 7654|MARTIN| SALESMAN|7698|09/28/2001|1250|1400|    30|\n",
      "| 7499| ALLEN| SALESMAN|7698|02/20/2001|1600| 300|    30|\n",
      "| 7844|TURNER| SALESMAN|7698|09/08/2001|1500|   0|    30|\n",
      "| 7900| JAMES|    CLERK|7698|12/03/2001| 950|null|    30|\n",
      "| 7521|  WARD| SALESMAN|7698|02/22/2001|1250| 500|    30|\n",
      "| 7902|  FORD|  ANALYST|7566|02/03/2001|3000|null|    20|\n",
      "| 7369| SMITH|    CLERK|7902|12/17/2000| 800|null|    20|\n",
      "| 7788| SCOTT|  ANALYST|7566|04/19/2007|3000|null|    20|\n",
      "| 7876| ADAMS|    CLERK|7788|05/23/2007|1100|null|    20|\n",
      "| 7934|MILLER|    CLERK|7782|01/23/2002|1300|null|    10|\n",
      "+-----+------+---------+----+----------+----+----+------+\n",
      "\n"
     ]
    }
   ],
   "source": [
    "df1.show()"
   ]
  },
  {
   "cell_type": "code",
   "execution_count": 17,
   "metadata": {},
   "outputs": [
    {
     "data": {
      "text/plain": [
       "'11/17/2001'"
      ]
     },
     "execution_count": 17,
     "metadata": {},
     "output_type": "execute_result"
    }
   ],
   "source": [
    "df1.head(5)[0]['hiredate']"
   ]
  },
  {
   "cell_type": "code",
   "execution_count": 18,
   "metadata": {},
   "outputs": [],
   "source": [
    "row0=(df1.head(2)[0])"
   ]
  },
  {
   "cell_type": "code",
   "execution_count": 19,
   "metadata": {},
   "outputs": [
    {
     "data": {
      "text/plain": [
       "pyspark.sql.types.Row"
      ]
     },
     "execution_count": 19,
     "metadata": {},
     "output_type": "execute_result"
    }
   ],
   "source": [
    "type(row0)"
   ]
  },
  {
   "cell_type": "code",
   "execution_count": 20,
   "metadata": {},
   "outputs": [
    {
     "data": {
      "text/plain": [
       "{'empno': 7839,\n",
       " 'ename': 'KING',\n",
       " 'job': 'PRESIDENT',\n",
       " 'mgr': None,\n",
       " 'hiredate': '11/17/2001',\n",
       " 'sal': 5000,\n",
       " 'comm': None,\n",
       " 'deptno': 10}"
      ]
     },
     "execution_count": 20,
     "metadata": {},
     "output_type": "execute_result"
    }
   ],
   "source": [
    "row0.asDict()"
   ]
  },
  {
   "cell_type": "code",
   "execution_count": 21,
   "metadata": {},
   "outputs": [
    {
     "data": {
      "text/plain": [
       "{'empno': 7839,\n",
       " 'ename': 'KING',\n",
       " 'job': 'PRESIDENT',\n",
       " 'mgr': None,\n",
       " 'hiredate': '11/17/2001',\n",
       " 'sal': 5000,\n",
       " 'comm': None,\n",
       " 'deptno': 10}"
      ]
     },
     "execution_count": 21,
     "metadata": {},
     "output_type": "execute_result"
    }
   ],
   "source": [
    "dict1=df1.head(2)[0].asDict()\n",
    "dict1"
   ]
  },
  {
   "cell_type": "markdown",
   "metadata": {},
   "source": [
    "## Column Objects"
   ]
  },
  {
   "cell_type": "code",
   "execution_count": 22,
   "metadata": {},
   "outputs": [
    {
     "data": {
      "text/plain": [
       "Column<'hiredate'>"
      ]
     },
     "execution_count": 22,
     "metadata": {},
     "output_type": "execute_result"
    }
   ],
   "source": [
    "df1[\"hiredate\"]"
   ]
  },
  {
   "cell_type": "code",
   "execution_count": 23,
   "metadata": {},
   "outputs": [
    {
     "data": {
      "text/plain": [
       "pyspark.sql.column.Column"
      ]
     },
     "execution_count": 23,
     "metadata": {},
     "output_type": "execute_result"
    }
   ],
   "source": [
    "type(df1[\"hiredate\"])"
   ]
  },
  {
   "cell_type": "code",
   "execution_count": 24,
   "metadata": {},
   "outputs": [
    {
     "data": {
      "text/plain": [
       "DataFrame[hiredate: string]"
      ]
     },
     "execution_count": 24,
     "metadata": {},
     "output_type": "execute_result"
    }
   ],
   "source": [
    "df1.select(\"hiredate\")"
   ]
  },
  {
   "cell_type": "code",
   "execution_count": 25,
   "metadata": {},
   "outputs": [
    {
     "data": {
      "text/plain": [
       "DataFrame[sal: int]"
      ]
     },
     "execution_count": 25,
     "metadata": {},
     "output_type": "execute_result"
    }
   ],
   "source": [
    "df1.select(\"sal\")"
   ]
  },
  {
   "cell_type": "code",
   "execution_count": 26,
   "metadata": {},
   "outputs": [
    {
     "data": {
      "text/plain": [
       "pyspark.sql.dataframe.DataFrame"
      ]
     },
     "execution_count": 26,
     "metadata": {},
     "output_type": "execute_result"
    }
   ],
   "source": [
    "type(df1.select(\"hiredate\"))"
   ]
  },
  {
   "cell_type": "code",
   "execution_count": 27,
   "metadata": {},
   "outputs": [
    {
     "name": "stdout",
     "output_type": "stream",
     "text": [
      "+----------+\n",
      "|  hiredate|\n",
      "+----------+\n",
      "|11/17/2001|\n",
      "|05/01/2001|\n",
      "|06/09/2001|\n",
      "|04/02/2001|\n",
      "|09/28/2001|\n",
      "|02/20/2001|\n",
      "|09/08/2001|\n",
      "|12/03/2001|\n",
      "|02/22/2001|\n",
      "|02/03/2001|\n",
      "|12/17/2000|\n",
      "|04/19/2007|\n",
      "|05/23/2007|\n",
      "|01/23/2002|\n",
      "+----------+\n",
      "\n"
     ]
    }
   ],
   "source": [
    "df1.select(\"hiredate\").show()"
   ]
  },
  {
   "cell_type": "markdown",
   "metadata": {},
   "source": [
    "# Creating new columns"
   ]
  },
  {
   "cell_type": "code",
   "execution_count": 28,
   "metadata": {},
   "outputs": [
    {
     "name": "stdout",
     "output_type": "stream",
     "text": [
      "+-----+-----+---------+----+----------+----+----+------+---------+\n",
      "|empno|ename|      job| mgr|  hiredate| sal|comm|deptno|Annualsal|\n",
      "+-----+-----+---------+----+----------+----+----+------+---------+\n",
      "| 7839| KING|PRESIDENT|null|11/17/2001|5000|null|    10|    60000|\n",
      "| 7698|BLAKE|  MANAGER|7839|05/01/2001|2850|null|    30|    34200|\n",
      "+-----+-----+---------+----+----------+----+----+------+---------+\n",
      "only showing top 2 rows\n",
      "\n"
     ]
    }
   ],
   "source": [
    "from pyspark.sql.functions import *\n",
    "# Lit() is required while we are creating columns with exact values.\n",
    "df1 = df1.withColumn('Annualsal', df1.sal*12)\n",
    "df1.show(2)"
   ]
  },
  {
   "cell_type": "code",
   "execution_count": 29,
   "metadata": {},
   "outputs": [
    {
     "name": "stdout",
     "output_type": "stream",
     "text": [
      "+-----+-----+---------+----+----------+----+----+------+---------+----------+\n",
      "|empno|ename|      job| mgr|  hiredate| sal|comm|deptno|Annualsal|  newDtCol|\n",
      "+-----+-----+---------+----+----------+----+----+------+---------+----------+\n",
      "| 7839| KING|PRESIDENT|null|11/17/2001|5000|null|    10|    60000|11/17/2001|\n",
      "| 7698|BLAKE|  MANAGER|7839|05/01/2001|2850|null|    30|    34200|05/01/2001|\n",
      "+-----+-----+---------+----+----------+----+----+------+---------+----------+\n",
      "only showing top 2 rows\n",
      "\n"
     ]
    }
   ],
   "source": [
    "# Adding a new column with a simple copy\n",
    "df1.withColumn('newDtCol',df1['hiredate']).show(2)"
   ]
  },
  {
   "cell_type": "code",
   "execution_count": 30,
   "metadata": {},
   "outputs": [
    {
     "name": "stdout",
     "output_type": "stream",
     "text": [
      "+-----+------+---------+----+----------+----+----+------+---------+\n",
      "|empno| ename|      job| mgr|  hiredate| sal|comm|deptno|Annualsal|\n",
      "+-----+------+---------+----+----------+----+----+------+---------+\n",
      "| 7839|  KING|PRESIDENT|null|11/17/2001|5000|null|    10|    60000|\n",
      "| 7698| BLAKE|  MANAGER|7839|05/01/2001|2850|null|    30|    34200|\n",
      "| 7782| CLARK|  MANAGER|7839|06/09/2001|2450|null|    10|    29400|\n",
      "| 7566| JONES|  MANAGER|7839|04/02/2001|2975|null|    20|    35700|\n",
      "| 7654|MARTIN| SALESMAN|7698|09/28/2001|1250|1400|    30|    15000|\n",
      "| 7499| ALLEN| SALESMAN|7698|02/20/2001|1600| 300|    30|    19200|\n",
      "| 7844|TURNER| SALESMAN|7698|09/08/2001|1500|   0|    30|    18000|\n",
      "| 7900| JAMES|    CLERK|7698|12/03/2001| 950|null|    30|    11400|\n",
      "| 7521|  WARD| SALESMAN|7698|02/22/2001|1250| 500|    30|    15000|\n",
      "| 7902|  FORD|  ANALYST|7566|02/03/2001|3000|null|    20|    36000|\n",
      "| 7369| SMITH|    CLERK|7902|12/17/2000| 800|null|    20|     9600|\n",
      "| 7788| SCOTT|  ANALYST|7566|04/19/2007|3000|null|    20|    36000|\n",
      "| 7876| ADAMS|    CLERK|7788|05/23/2007|1100|null|    20|    13200|\n",
      "| 7934|MILLER|    CLERK|7782|01/23/2002|1300|null|    10|    15600|\n",
      "+-----+------+---------+----+----------+----+----+------+---------+\n",
      "\n"
     ]
    }
   ],
   "source": [
    "df1.show()"
   ]
  },
  {
   "cell_type": "markdown",
   "metadata": {},
   "source": [
    "## Column Rename"
   ]
  },
  {
   "cell_type": "code",
   "execution_count": 31,
   "metadata": {},
   "outputs": [
    {
     "name": "stdout",
     "output_type": "stream",
     "text": [
      "+-----+-----+---------+----+----------+------+----+------+---------+\n",
      "|empno|ename|      job| mgr|  hiredate|salary|comm|deptno|Annualsal|\n",
      "+-----+-----+---------+----+----------+------+----+------+---------+\n",
      "| 7839| KING|PRESIDENT|null|11/17/2001|  5000|null|    10|    60000|\n",
      "| 7698|BLAKE|  MANAGER|7839|05/01/2001|  2850|null|    30|    34200|\n",
      "+-----+-----+---------+----+----------+------+----+------+---------+\n",
      "only showing top 2 rows\n",
      "\n"
     ]
    }
   ],
   "source": [
    "df1.withColumnRenamed('sal','salary').show(2)"
   ]
  },
  {
   "cell_type": "markdown",
   "metadata": {},
   "source": [
    "# Drop Column"
   ]
  },
  {
   "cell_type": "code",
   "execution_count": 32,
   "metadata": {},
   "outputs": [
    {
     "name": "stdout",
     "output_type": "stream",
     "text": [
      "+-----+------+---------+----+----------+----+----+------+\n",
      "|empno| ename|      job| mgr|  hiredate| sal|comm|deptno|\n",
      "+-----+------+---------+----+----------+----+----+------+\n",
      "| 7839|  KING|PRESIDENT|null|11/17/2001|5000|null|    10|\n",
      "| 7698| BLAKE|  MANAGER|7839|05/01/2001|2850|null|    30|\n",
      "| 7782| CLARK|  MANAGER|7839|06/09/2001|2450|null|    10|\n",
      "| 7566| JONES|  MANAGER|7839|04/02/2001|2975|null|    20|\n",
      "| 7654|MARTIN| SALESMAN|7698|09/28/2001|1250|1400|    30|\n",
      "+-----+------+---------+----+----------+----+----+------+\n",
      "only showing top 5 rows\n",
      "\n"
     ]
    }
   ],
   "source": [
    "df02 = df1.drop(df1.Annualsal)\n",
    "df02.show(5)"
   ]
  },
  {
   "cell_type": "markdown",
   "metadata": {},
   "source": [
    "## More complicated operations to create new columns"
   ]
  },
  {
   "cell_type": "markdown",
   "metadata": {},
   "source": [
    "# change datatype"
   ]
  },
  {
   "cell_type": "code",
   "execution_count": 33,
   "metadata": {},
   "outputs": [
    {
     "name": "stdout",
     "output_type": "stream",
     "text": [
      "+----------+------+\n",
      "|  hiredate|   sal|\n",
      "+----------+------+\n",
      "|11/17/2001|5000.0|\n",
      "|05/01/2001|2850.0|\n",
      "+----------+------+\n",
      "only showing top 2 rows\n",
      "\n"
     ]
    }
   ],
   "source": [
    "from pyspark.sql.functions import *\n",
    "df2 = df1.select(col(\"hiredate\"),col(\"sal\").cast(\"double\"))  # df1.hiredate, df1.sal.cast(\"double\")\n",
    "df2.show(2)"
   ]
  },
  {
   "cell_type": "markdown",
   "metadata": {},
   "source": [
    "# Define Data Schema"
   ]
  },
  {
   "cell_type": "code",
   "execution_count": 34,
   "metadata": {},
   "outputs": [],
   "source": [
    "from pyspark.sql.types import StructField, IntegerType, DoubleType, StringType, StructType, DateType"
   ]
  },
  {
   "cell_type": "code",
   "execution_count": 35,
   "metadata": {},
   "outputs": [],
   "source": [
    "dataSchema = [StructField('empno',IntegerType(),True),\n",
    "                StructField('ename',StringType(),True),\n",
    "               StructField('job',StringType(),True),\n",
    "              StructField('sal',DoubleType(),True)\n",
    "             ]"
   ]
  },
  {
   "cell_type": "code",
   "execution_count": 36,
   "metadata": {},
   "outputs": [],
   "source": [
    "finalStruc = StructType(fields=dataSchema)"
   ]
  },
  {
   "cell_type": "code",
   "execution_count": 37,
   "metadata": {},
   "outputs": [
    {
     "name": "stdout",
     "output_type": "stream",
     "text": [
      "+-----+------+---------+------+\n",
      "|empno| ename|      job|   sal|\n",
      "+-----+------+---------+------+\n",
      "| 7839|  KING|PRESIDENT|5000.0|\n",
      "| 7698| BLAKE|  MANAGER|2850.0|\n",
      "| 7782| CLARK|  MANAGER|2450.0|\n",
      "| 7566| JONES|  MANAGER|2975.0|\n",
      "| 7654|MARTIN| SALESMAN|1250.0|\n",
      "| 7499| ALLEN| SALESMAN|1600.0|\n",
      "| 7844|TURNER| SALESMAN|1500.0|\n",
      "| 7900| JAMES|    CLERK| 950.0|\n",
      "| 7521|  WARD| SALESMAN|1250.0|\n",
      "| 7902|  FORD|  ANALYST|3000.0|\n",
      "| 7369| SMITH|    CLERK| 800.0|\n",
      "| 7788| SCOTT|  ANALYST|3000.0|\n",
      "| 7876| ADAMS|    CLERK|1100.0|\n",
      "| 7934|MILLER|    CLERK|1300.0|\n",
      "+-----+------+---------+------+\n",
      "\n"
     ]
    }
   ],
   "source": [
    "df3 = spark.read.json('D://DataSets//emp.json', schema=finalStruc)\n",
    "df3.show()"
   ]
  },
  {
   "cell_type": "markdown",
   "metadata": {},
   "source": [
    "# Change Column Type\n",
    "Availabel types include\n",
    "\n",
    "BinaryType\n",
    "BooleanType\n",
    "ByteType\n",
    "DoubleType\n",
    "DateType\n",
    "FloatType\n",
    "IntegerType\n",
    "etc."
   ]
  },
  {
   "cell_type": "code",
   "execution_count": 38,
   "metadata": {},
   "outputs": [
    {
     "data": {
      "text/plain": [
       "DataFrame[sal: double]"
      ]
     },
     "execution_count": 38,
     "metadata": {},
     "output_type": "execute_result"
    }
   ],
   "source": [
    "df3.select(\"sal\")"
   ]
  },
  {
   "cell_type": "code",
   "execution_count": 39,
   "metadata": {},
   "outputs": [],
   "source": [
    "# .withColumn return a DataFrame by adding column(s) or replacing the existing column(s) that has the same name.\n",
    "df4 = df3.withColumn(\"sal\", df3[\"sal\"].cast(DoubleType())).withColumn(\"ename\", df3[\"ename\"].cast(StringType()))\n",
    "# alternatively other columns datatype can also be changed"
   ]
  },
  {
   "cell_type": "code",
   "execution_count": 40,
   "metadata": {},
   "outputs": [
    {
     "data": {
      "text/plain": [
       "DataFrame[sal: double]"
      ]
     },
     "execution_count": 40,
     "metadata": {},
     "output_type": "execute_result"
    }
   ],
   "source": [
    "df4.select(\"sal\")"
   ]
  },
  {
   "cell_type": "code",
   "execution_count": 41,
   "metadata": {},
   "outputs": [
    {
     "data": {
      "text/plain": [
       "DataFrame[ename: string]"
      ]
     },
     "execution_count": 41,
     "metadata": {},
     "output_type": "execute_result"
    }
   ],
   "source": [
    "df4.select(\"ename\")"
   ]
  },
  {
   "cell_type": "code",
   "execution_count": 42,
   "metadata": {},
   "outputs": [
    {
     "name": "stdout",
     "output_type": "stream",
     "text": [
      "+-----+------+---------+------+\n",
      "|empno| ename|      job|   sal|\n",
      "+-----+------+---------+------+\n",
      "| 7839|  KING|PRESIDENT|5000.0|\n",
      "| 7698| BLAKE|  MANAGER|2850.0|\n",
      "| 7782| CLARK|  MANAGER|2450.0|\n",
      "| 7566| JONES|  MANAGER|2975.0|\n",
      "| 7654|MARTIN| SALESMAN|1250.0|\n",
      "| 7499| ALLEN| SALESMAN|1600.0|\n",
      "| 7844|TURNER| SALESMAN|1500.0|\n",
      "| 7900| JAMES|    CLERK| 950.0|\n",
      "| 7521|  WARD| SALESMAN|1250.0|\n",
      "| 7902|  FORD|  ANALYST|3000.0|\n",
      "| 7369| SMITH|    CLERK| 800.0|\n",
      "| 7788| SCOTT|  ANALYST|3000.0|\n",
      "| 7876| ADAMS|    CLERK|1100.0|\n",
      "| 7934|MILLER|    CLERK|1300.0|\n",
      "+-----+------+---------+------+\n",
      "\n"
     ]
    }
   ],
   "source": [
    "df4.show()"
   ]
  },
  {
   "cell_type": "markdown",
   "metadata": {},
   "source": [
    "# Joining Data Frames\n",
    "'inner', 'outer', 'full', 'fullouter', 'full_outer',\n",
    "'leftouter', 'left', 'left_outer', 'rightouter', 'right', 'right_outer',\n",
    "'leftsemi', 'left_semi', 'leftanti', 'left_anti', 'cross'"
   ]
  },
  {
   "cell_type": "code",
   "execution_count": 43,
   "metadata": {},
   "outputs": [],
   "source": [
    "dept = spark.read.csv('D://DataSets//dept.csv',inferSchema=True,header=True)"
   ]
  },
  {
   "cell_type": "code",
   "execution_count": 44,
   "metadata": {},
   "outputs": [],
   "source": [
    "emp = spark.read.csv('D://DataSets//emp.csv',inferSchema=True,header=True)"
   ]
  },
  {
   "cell_type": "code",
   "execution_count": 45,
   "metadata": {},
   "outputs": [
    {
     "name": "stdout",
     "output_type": "stream",
     "text": [
      "+------+----------+--------+-----+------+---------+----+----------+----+----+------+\n",
      "|deptno|     dname|     loc|empno| ename|      job| mgr|  hiredate| sal|comm|deptno|\n",
      "+------+----------+--------+-----+------+---------+----+----------+----+----+------+\n",
      "|    10|ACCOUNTING|NEW YORK| 7934|MILLER|    CLERK|7782|01/23/2002|1300|null|    10|\n",
      "|    10|ACCOUNTING|NEW YORK| 7782| CLARK|  MANAGER|7839|06/09/2001|2450|null|    10|\n",
      "|    10|ACCOUNTING|NEW YORK| 7839|  KING|PRESIDENT|null|11/17/2001|5000|null|    10|\n",
      "|    20|  RESEARCH|  DALLAS| 7876| ADAMS|    CLERK|7788|05/23/2007|1100|null|    20|\n",
      "|    20|  RESEARCH|  DALLAS| 7788| SCOTT|  ANALYST|7566|04/19/2007|3000|null|    20|\n",
      "|    20|  RESEARCH|  DALLAS| 7369| SMITH|    CLERK|7902|12/17/2000| 800|null|    20|\n",
      "|    20|  RESEARCH|  DALLAS| 7902|  FORD|  ANALYST|7566|02/03/2001|3000|null|    20|\n",
      "|    20|  RESEARCH|  DALLAS| 7566| JONES|  MANAGER|7839|04/02/2001|2975|null|    20|\n",
      "|    30|     SALES| CHICAGO| 7521|  WARD| SALESMAN|7698|02/22/2001|1250| 500|    30|\n",
      "|    30|     SALES| CHICAGO| 7900| JAMES|    CLERK|7698|12/03/2001| 950|null|    30|\n",
      "|    30|     SALES| CHICAGO| 7844|TURNER| SALESMAN|7698|09/08/2001|1500|   0|    30|\n",
      "|    30|     SALES| CHICAGO| 7499| ALLEN| SALESMAN|7698|02/20/2001|1600| 300|    30|\n",
      "|    30|     SALES| CHICAGO| 7654|MARTIN| SALESMAN|7698|09/28/2001|1250|1400|    30|\n",
      "|    30|     SALES| CHICAGO| 7698| BLAKE|  MANAGER|7839|05/01/2001|2850|null|    30|\n",
      "|    40|OPERATIONS|  BOSTON| null|  null|     null|null|      null|null|null|  null|\n",
      "+------+----------+--------+-----+------+---------+----+----------+----+----+------+\n",
      "\n"
     ]
    }
   ],
   "source": [
    "res04=dept.join(emp,dept.deptno==emp.deptno,'left')\n",
    "res04.show()"
   ]
  },
  {
   "cell_type": "code",
   "execution_count": 46,
   "metadata": {},
   "outputs": [
    {
     "name": "stdout",
     "output_type": "stream",
     "text": [
      "+-----+------+---------+----+----------+----+----+------+------+----------+--------+\n",
      "|empno| ename|      job| mgr|  hiredate| sal|comm|deptno|deptno|     dname|     loc|\n",
      "+-----+------+---------+----+----------+----+----+------+------+----------+--------+\n",
      "| 7839|  KING|PRESIDENT|null|11/17/2001|5000|null|    10|    10|ACCOUNTING|NEW YORK|\n",
      "| 7839|  KING|PRESIDENT|null|11/17/2001|5000|null|    10|    20|  RESEARCH|  DALLAS|\n",
      "| 7839|  KING|PRESIDENT|null|11/17/2001|5000|null|    10|    30|     SALES| CHICAGO|\n",
      "| 7839|  KING|PRESIDENT|null|11/17/2001|5000|null|    10|    40|OPERATIONS|  BOSTON|\n",
      "| 7698| BLAKE|  MANAGER|7839|05/01/2001|2850|null|    30|    10|ACCOUNTING|NEW YORK|\n",
      "| 7698| BLAKE|  MANAGER|7839|05/01/2001|2850|null|    30|    20|  RESEARCH|  DALLAS|\n",
      "| 7698| BLAKE|  MANAGER|7839|05/01/2001|2850|null|    30|    30|     SALES| CHICAGO|\n",
      "| 7698| BLAKE|  MANAGER|7839|05/01/2001|2850|null|    30|    40|OPERATIONS|  BOSTON|\n",
      "| 7782| CLARK|  MANAGER|7839|06/09/2001|2450|null|    10|    10|ACCOUNTING|NEW YORK|\n",
      "| 7782| CLARK|  MANAGER|7839|06/09/2001|2450|null|    10|    20|  RESEARCH|  DALLAS|\n",
      "| 7782| CLARK|  MANAGER|7839|06/09/2001|2450|null|    10|    30|     SALES| CHICAGO|\n",
      "| 7782| CLARK|  MANAGER|7839|06/09/2001|2450|null|    10|    40|OPERATIONS|  BOSTON|\n",
      "| 7566| JONES|  MANAGER|7839|04/02/2001|2975|null|    20|    10|ACCOUNTING|NEW YORK|\n",
      "| 7566| JONES|  MANAGER|7839|04/02/2001|2975|null|    20|    20|  RESEARCH|  DALLAS|\n",
      "| 7566| JONES|  MANAGER|7839|04/02/2001|2975|null|    20|    30|     SALES| CHICAGO|\n",
      "| 7566| JONES|  MANAGER|7839|04/02/2001|2975|null|    20|    40|OPERATIONS|  BOSTON|\n",
      "| 7654|MARTIN| SALESMAN|7698|09/28/2001|1250|1400|    30|    10|ACCOUNTING|NEW YORK|\n",
      "| 7654|MARTIN| SALESMAN|7698|09/28/2001|1250|1400|    30|    20|  RESEARCH|  DALLAS|\n",
      "| 7654|MARTIN| SALESMAN|7698|09/28/2001|1250|1400|    30|    30|     SALES| CHICAGO|\n",
      "| 7654|MARTIN| SALESMAN|7698|09/28/2001|1250|1400|    30|    40|OPERATIONS|  BOSTON|\n",
      "+-----+------+---------+----+----------+----+----+------+------+----------+--------+\n",
      "only showing top 20 rows\n",
      "\n"
     ]
    }
   ],
   "source": [
    "res04=emp.crossJoin(dept)\n",
    "res04.show()"
   ]
  },
  {
   "cell_type": "code",
   "execution_count": 47,
   "metadata": {},
   "outputs": [
    {
     "name": "stdout",
     "output_type": "stream",
     "text": [
      "+-----+------+---------+----+----------+----+----+------+------+----------+--------+\n",
      "|empno| ename|      job| mgr|  hiredate| sal|comm|deptno|deptno|     dname|     loc|\n",
      "+-----+------+---------+----+----------+----+----+------+------+----------+--------+\n",
      "| 7934|MILLER|    CLERK|7782|01/23/2002|1300|null|    10|    10|ACCOUNTING|NEW YORK|\n",
      "| 7782| CLARK|  MANAGER|7839|06/09/2001|2450|null|    10|    10|ACCOUNTING|NEW YORK|\n",
      "| 7839|  KING|PRESIDENT|null|11/17/2001|5000|null|    10|    10|ACCOUNTING|NEW YORK|\n",
      "| 7876| ADAMS|    CLERK|7788|05/23/2007|1100|null|    20|    20|  RESEARCH|  DALLAS|\n",
      "| 7788| SCOTT|  ANALYST|7566|04/19/2007|3000|null|    20|    20|  RESEARCH|  DALLAS|\n",
      "| 7369| SMITH|    CLERK|7902|12/17/2000| 800|null|    20|    20|  RESEARCH|  DALLAS|\n",
      "| 7902|  FORD|  ANALYST|7566|02/03/2001|3000|null|    20|    20|  RESEARCH|  DALLAS|\n",
      "| 7566| JONES|  MANAGER|7839|04/02/2001|2975|null|    20|    20|  RESEARCH|  DALLAS|\n",
      "| 7521|  WARD| SALESMAN|7698|02/22/2001|1250| 500|    30|    30|     SALES| CHICAGO|\n",
      "| 7900| JAMES|    CLERK|7698|12/03/2001| 950|null|    30|    30|     SALES| CHICAGO|\n",
      "| 7844|TURNER| SALESMAN|7698|09/08/2001|1500|   0|    30|    30|     SALES| CHICAGO|\n",
      "| 7499| ALLEN| SALESMAN|7698|02/20/2001|1600| 300|    30|    30|     SALES| CHICAGO|\n",
      "| 7654|MARTIN| SALESMAN|7698|09/28/2001|1250|1400|    30|    30|     SALES| CHICAGO|\n",
      "| 7698| BLAKE|  MANAGER|7839|05/01/2001|2850|null|    30|    30|     SALES| CHICAGO|\n",
      "| null|  null|     null|null|      null|null|null|  null|    40|OPERATIONS|  BOSTON|\n",
      "+-----+------+---------+----+----------+----+----+------+------+----------+--------+\n",
      "\n"
     ]
    }
   ],
   "source": [
    "#referering df02 will result in sowing its columns first\n",
    "res04=emp.join(dept,emp.deptno==dept.deptno,'right')\n",
    "res04.show()"
   ]
  },
  {
   "cell_type": "code",
   "execution_count": 48,
   "metadata": {},
   "outputs": [
    {
     "name": "stdout",
     "output_type": "stream",
     "text": [
      "+-----+------+---------+----+----------+----+----+------+------+----------+--------+\n",
      "|empno| ename|      job| mgr|  hiredate| sal|comm|deptno|deptno|     dname|     loc|\n",
      "+-----+------+---------+----+----------+----+----+------+------+----------+--------+\n",
      "| 7839|  KING|PRESIDENT|null|11/17/2001|5000|null|    10|    10|ACCOUNTING|NEW YORK|\n",
      "| 7698| BLAKE|  MANAGER|7839|05/01/2001|2850|null|    30|    30|     SALES| CHICAGO|\n",
      "| 7782| CLARK|  MANAGER|7839|06/09/2001|2450|null|    10|    10|ACCOUNTING|NEW YORK|\n",
      "| 7566| JONES|  MANAGER|7839|04/02/2001|2975|null|    20|    20|  RESEARCH|  DALLAS|\n",
      "| 7654|MARTIN| SALESMAN|7698|09/28/2001|1250|1400|    30|    30|     SALES| CHICAGO|\n",
      "| 7499| ALLEN| SALESMAN|7698|02/20/2001|1600| 300|    30|    30|     SALES| CHICAGO|\n",
      "| 7844|TURNER| SALESMAN|7698|09/08/2001|1500|   0|    30|    30|     SALES| CHICAGO|\n",
      "| 7900| JAMES|    CLERK|7698|12/03/2001| 950|null|    30|    30|     SALES| CHICAGO|\n",
      "| 7521|  WARD| SALESMAN|7698|02/22/2001|1250| 500|    30|    30|     SALES| CHICAGO|\n",
      "| 7902|  FORD|  ANALYST|7566|02/03/2001|3000|null|    20|    20|  RESEARCH|  DALLAS|\n",
      "| 7369| SMITH|    CLERK|7902|12/17/2000| 800|null|    20|    20|  RESEARCH|  DALLAS|\n",
      "| 7788| SCOTT|  ANALYST|7566|04/19/2007|3000|null|    20|    20|  RESEARCH|  DALLAS|\n",
      "| 7876| ADAMS|    CLERK|7788|05/23/2007|1100|null|    20|    20|  RESEARCH|  DALLAS|\n",
      "| 7934|MILLER|    CLERK|7782|01/23/2002|1300|null|    10|    10|ACCOUNTING|NEW YORK|\n",
      "+-----+------+---------+----+----------+----+----+------+------+----------+--------+\n",
      "\n"
     ]
    }
   ],
   "source": [
    "res04=emp.join(dept,emp.deptno==dept.deptno,'inner')\n",
    "res04.show()"
   ]
  },
  {
   "cell_type": "code",
   "execution_count": 49,
   "metadata": {},
   "outputs": [
    {
     "name": "stdout",
     "output_type": "stream",
     "text": [
      "+-----+------+---------+----+----------+----+----+------+------+----------+--------+\n",
      "|empno| ename|      job| mgr|  hiredate| sal|comm|deptno|deptno|     dname|     loc|\n",
      "+-----+------+---------+----+----------+----+----+------+------+----------+--------+\n",
      "| 7566| JONES|  MANAGER|7839|04/02/2001|2975|null|    20|    20|  RESEARCH|  DALLAS|\n",
      "| 7902|  FORD|  ANALYST|7566|02/03/2001|3000|null|    20|    20|  RESEARCH|  DALLAS|\n",
      "| 7369| SMITH|    CLERK|7902|12/17/2000| 800|null|    20|    20|  RESEARCH|  DALLAS|\n",
      "| 7788| SCOTT|  ANALYST|7566|04/19/2007|3000|null|    20|    20|  RESEARCH|  DALLAS|\n",
      "| 7876| ADAMS|    CLERK|7788|05/23/2007|1100|null|    20|    20|  RESEARCH|  DALLAS|\n",
      "| null|  null|     null|null|      null|null|null|  null|    40|OPERATIONS|  BOSTON|\n",
      "| 7839|  KING|PRESIDENT|null|11/17/2001|5000|null|    10|    10|ACCOUNTING|NEW YORK|\n",
      "| 7782| CLARK|  MANAGER|7839|06/09/2001|2450|null|    10|    10|ACCOUNTING|NEW YORK|\n",
      "| 7934|MILLER|    CLERK|7782|01/23/2002|1300|null|    10|    10|ACCOUNTING|NEW YORK|\n",
      "| 7698| BLAKE|  MANAGER|7839|05/01/2001|2850|null|    30|    30|     SALES| CHICAGO|\n",
      "| 7654|MARTIN| SALESMAN|7698|09/28/2001|1250|1400|    30|    30|     SALES| CHICAGO|\n",
      "| 7499| ALLEN| SALESMAN|7698|02/20/2001|1600| 300|    30|    30|     SALES| CHICAGO|\n",
      "| 7844|TURNER| SALESMAN|7698|09/08/2001|1500|   0|    30|    30|     SALES| CHICAGO|\n",
      "| 7900| JAMES|    CLERK|7698|12/03/2001| 950|null|    30|    30|     SALES| CHICAGO|\n",
      "| 7521|  WARD| SALESMAN|7698|02/22/2001|1250| 500|    30|    30|     SALES| CHICAGO|\n",
      "+-----+------+---------+----+----------+----+----+------+------+----------+--------+\n",
      "\n"
     ]
    }
   ],
   "source": [
    "res04=emp.join(dept,emp.deptno==dept.deptno,'outer')\n",
    "res04.show()"
   ]
  },
  {
   "cell_type": "code",
   "execution_count": 50,
   "metadata": {},
   "outputs": [
    {
     "name": "stdout",
     "output_type": "stream",
     "text": [
      "+-----+------+---------+----+----------+----+----+------+------+----------+--------+\n",
      "|empno| ename|      job| mgr|  hiredate| sal|comm|deptno|deptno|     dname|     loc|\n",
      "+-----+------+---------+----+----------+----+----+------+------+----------+--------+\n",
      "| 7566| JONES|  MANAGER|7839|04/02/2001|2975|null|    20|    20|  RESEARCH|  DALLAS|\n",
      "| 7902|  FORD|  ANALYST|7566|02/03/2001|3000|null|    20|    20|  RESEARCH|  DALLAS|\n",
      "| 7369| SMITH|    CLERK|7902|12/17/2000| 800|null|    20|    20|  RESEARCH|  DALLAS|\n",
      "| 7788| SCOTT|  ANALYST|7566|04/19/2007|3000|null|    20|    20|  RESEARCH|  DALLAS|\n",
      "| 7876| ADAMS|    CLERK|7788|05/23/2007|1100|null|    20|    20|  RESEARCH|  DALLAS|\n",
      "| null|  null|     null|null|      null|null|null|  null|    40|OPERATIONS|  BOSTON|\n",
      "| 7839|  KING|PRESIDENT|null|11/17/2001|5000|null|    10|    10|ACCOUNTING|NEW YORK|\n",
      "| 7782| CLARK|  MANAGER|7839|06/09/2001|2450|null|    10|    10|ACCOUNTING|NEW YORK|\n",
      "| 7934|MILLER|    CLERK|7782|01/23/2002|1300|null|    10|    10|ACCOUNTING|NEW YORK|\n",
      "| 7698| BLAKE|  MANAGER|7839|05/01/2001|2850|null|    30|    30|     SALES| CHICAGO|\n",
      "| 7654|MARTIN| SALESMAN|7698|09/28/2001|1250|1400|    30|    30|     SALES| CHICAGO|\n",
      "| 7499| ALLEN| SALESMAN|7698|02/20/2001|1600| 300|    30|    30|     SALES| CHICAGO|\n",
      "| 7844|TURNER| SALESMAN|7698|09/08/2001|1500|   0|    30|    30|     SALES| CHICAGO|\n",
      "| 7900| JAMES|    CLERK|7698|12/03/2001| 950|null|    30|    30|     SALES| CHICAGO|\n",
      "| 7521|  WARD| SALESMAN|7698|02/22/2001|1250| 500|    30|    30|     SALES| CHICAGO|\n",
      "+-----+------+---------+----+----------+----+----+------+------+----------+--------+\n",
      "\n"
     ]
    }
   ],
   "source": [
    "res04=emp.join(dept,emp.deptno==dept.deptno,'full')\n",
    "res04.show()"
   ]
  },
  {
   "cell_type": "code",
   "execution_count": 51,
   "metadata": {},
   "outputs": [
    {
     "name": "stdout",
     "output_type": "stream",
     "text": [
      "+-----+------+---------+----+----------+----+----+------+------+----------+--------+\n",
      "|empno| ename|      job| mgr|  hiredate| sal|comm|deptno|deptno|     dname|     loc|\n",
      "+-----+------+---------+----+----------+----+----+------+------+----------+--------+\n",
      "| 7934|MILLER|    CLERK|7782|01/23/2002|1300|null|    10|    10|ACCOUNTING|NEW YORK|\n",
      "| 7782| CLARK|  MANAGER|7839|06/09/2001|2450|null|    10|    10|ACCOUNTING|NEW YORK|\n",
      "| 7839|  KING|PRESIDENT|null|11/17/2001|5000|null|    10|    10|ACCOUNTING|NEW YORK|\n",
      "| 7876| ADAMS|    CLERK|7788|05/23/2007|1100|null|    20|    20|  RESEARCH|  DALLAS|\n",
      "| 7788| SCOTT|  ANALYST|7566|04/19/2007|3000|null|    20|    20|  RESEARCH|  DALLAS|\n",
      "| 7369| SMITH|    CLERK|7902|12/17/2000| 800|null|    20|    20|  RESEARCH|  DALLAS|\n",
      "| 7902|  FORD|  ANALYST|7566|02/03/2001|3000|null|    20|    20|  RESEARCH|  DALLAS|\n",
      "| 7566| JONES|  MANAGER|7839|04/02/2001|2975|null|    20|    20|  RESEARCH|  DALLAS|\n",
      "| 7521|  WARD| SALESMAN|7698|02/22/2001|1250| 500|    30|    30|     SALES| CHICAGO|\n",
      "| 7900| JAMES|    CLERK|7698|12/03/2001| 950|null|    30|    30|     SALES| CHICAGO|\n",
      "| 7844|TURNER| SALESMAN|7698|09/08/2001|1500|   0|    30|    30|     SALES| CHICAGO|\n",
      "| 7499| ALLEN| SALESMAN|7698|02/20/2001|1600| 300|    30|    30|     SALES| CHICAGO|\n",
      "| 7654|MARTIN| SALESMAN|7698|09/28/2001|1250|1400|    30|    30|     SALES| CHICAGO|\n",
      "| 7698| BLAKE|  MANAGER|7839|05/01/2001|2850|null|    30|    30|     SALES| CHICAGO|\n",
      "| null|  null|     null|null|      null|null|null|  null|    40|OPERATIONS|  BOSTON|\n",
      "+-----+------+---------+----+----------+----+----+------+------+----------+--------+\n",
      "\n"
     ]
    }
   ],
   "source": [
    "#referering df02 will result in sowing its columns first\n",
    "res04=emp.join(dept,emp.deptno==dept.deptno,'right')\n",
    "res04.show()"
   ]
  },
  {
   "cell_type": "code",
   "execution_count": 52,
   "metadata": {},
   "outputs": [
    {
     "name": "stdout",
     "output_type": "stream",
     "text": [
      "+-----+-----+---+---+--------+---+----+------+\n",
      "|empno|ename|job|mgr|hiredate|sal|comm|deptno|\n",
      "+-----+-----+---+---+--------+---+----+------+\n",
      "+-----+-----+---+---+--------+---+----+------+\n",
      "\n"
     ]
    }
   ],
   "source": [
    "res04=emp.join(dept,emp.deptno==dept.deptno,'left_anti')\n",
    "res04.show()"
   ]
  },
  {
   "cell_type": "code",
   "execution_count": 53,
   "metadata": {},
   "outputs": [
    {
     "name": "stdout",
     "output_type": "stream",
     "text": [
      "+-----+------+---------+----+----------+----+----+------+\n",
      "|empno| ename|      job| mgr|  hiredate| sal|comm|deptno|\n",
      "+-----+------+---------+----+----------+----+----+------+\n",
      "| 7839|  KING|PRESIDENT|null|11/17/2001|5000|null|    10|\n",
      "| 7698| BLAKE|  MANAGER|7839|05/01/2001|2850|null|    30|\n",
      "| 7782| CLARK|  MANAGER|7839|06/09/2001|2450|null|    10|\n",
      "| 7566| JONES|  MANAGER|7839|04/02/2001|2975|null|    20|\n",
      "| 7654|MARTIN| SALESMAN|7698|09/28/2001|1250|1400|    30|\n",
      "| 7499| ALLEN| SALESMAN|7698|02/20/2001|1600| 300|    30|\n",
      "| 7844|TURNER| SALESMAN|7698|09/08/2001|1500|   0|    30|\n",
      "| 7900| JAMES|    CLERK|7698|12/03/2001| 950|null|    30|\n",
      "| 7521|  WARD| SALESMAN|7698|02/22/2001|1250| 500|    30|\n",
      "| 7902|  FORD|  ANALYST|7566|02/03/2001|3000|null|    20|\n",
      "| 7369| SMITH|    CLERK|7902|12/17/2000| 800|null|    20|\n",
      "| 7788| SCOTT|  ANALYST|7566|04/19/2007|3000|null|    20|\n",
      "| 7876| ADAMS|    CLERK|7788|05/23/2007|1100|null|    20|\n",
      "| 7934|MILLER|    CLERK|7782|01/23/2002|1300|null|    10|\n",
      "+-----+------+---------+----+----------+----+----+------+\n",
      "\n"
     ]
    }
   ],
   "source": [
    "res04=emp.join(dept,emp.deptno==dept.deptno,'left_semi')\n",
    "res04.show()"
   ]
  },
  {
   "cell_type": "code",
   "execution_count": 54,
   "metadata": {},
   "outputs": [
    {
     "name": "stdout",
     "output_type": "stream",
     "text": [
      "+-----+------+---------+----+----------+----+----+------+------+----------+--------+\n",
      "|empno| ename|      job| mgr|  hiredate| sal|comm|deptno|deptno|     dname|     loc|\n",
      "+-----+------+---------+----+----------+----+----+------+------+----------+--------+\n",
      "| 7934|MILLER|    CLERK|7782|01/23/2002|1300|null|    10|    10|ACCOUNTING|NEW YORK|\n",
      "| 7782| CLARK|  MANAGER|7839|06/09/2001|2450|null|    10|    10|ACCOUNTING|NEW YORK|\n",
      "| 7839|  KING|PRESIDENT|null|11/17/2001|5000|null|    10|    10|ACCOUNTING|NEW YORK|\n",
      "| 7876| ADAMS|    CLERK|7788|05/23/2007|1100|null|    20|    20|  RESEARCH|  DALLAS|\n",
      "| 7788| SCOTT|  ANALYST|7566|04/19/2007|3000|null|    20|    20|  RESEARCH|  DALLAS|\n",
      "| 7369| SMITH|    CLERK|7902|12/17/2000| 800|null|    20|    20|  RESEARCH|  DALLAS|\n",
      "| 7902|  FORD|  ANALYST|7566|02/03/2001|3000|null|    20|    20|  RESEARCH|  DALLAS|\n",
      "| 7566| JONES|  MANAGER|7839|04/02/2001|2975|null|    20|    20|  RESEARCH|  DALLAS|\n",
      "| 7521|  WARD| SALESMAN|7698|02/22/2001|1250| 500|    30|    30|     SALES| CHICAGO|\n",
      "| 7900| JAMES|    CLERK|7698|12/03/2001| 950|null|    30|    30|     SALES| CHICAGO|\n",
      "| 7844|TURNER| SALESMAN|7698|09/08/2001|1500|   0|    30|    30|     SALES| CHICAGO|\n",
      "| 7499| ALLEN| SALESMAN|7698|02/20/2001|1600| 300|    30|    30|     SALES| CHICAGO|\n",
      "| 7654|MARTIN| SALESMAN|7698|09/28/2001|1250|1400|    30|    30|     SALES| CHICAGO|\n",
      "| 7698| BLAKE|  MANAGER|7839|05/01/2001|2850|null|    30|    30|     SALES| CHICAGO|\n",
      "| null|  null|     null|null|      null|null|null|  null|    40|OPERATIONS|  BOSTON|\n",
      "+-----+------+---------+----+----------+----+----+------+------+----------+--------+\n",
      "\n"
     ]
    }
   ],
   "source": [
    "res04=emp.join(dept,emp.deptno==dept.deptno,'rightouter')\n",
    "res04.show()"
   ]
  },
  {
   "cell_type": "markdown",
   "metadata": {},
   "source": [
    "# SET operations on DF"
   ]
  },
  {
   "cell_type": "code",
   "execution_count": 55,
   "metadata": {},
   "outputs": [
    {
     "name": "stdout",
     "output_type": "stream",
     "text": [
      "+---------+\n",
      "|      job|\n",
      "+---------+\n",
      "|    CLERK|\n",
      "|  MANAGER|\n",
      "|PRESIDENT|\n",
      "+---------+\n",
      "\n"
     ]
    }
   ],
   "source": [
    "df03=emp.filter(\"deptno==10\").select(['job']).distinct() # SELECT DISTINCT job FROM emp WHERE deptno=10\n",
    "df03.show()"
   ]
  },
  {
   "cell_type": "code",
   "execution_count": 56,
   "metadata": {},
   "outputs": [
    {
     "name": "stdout",
     "output_type": "stream",
     "text": [
      "+-------+\n",
      "|    job|\n",
      "+-------+\n",
      "|ANALYST|\n",
      "|  CLERK|\n",
      "|MANAGER|\n",
      "+-------+\n",
      "\n"
     ]
    }
   ],
   "source": [
    "df04=emp.filter(\"deptno==20\").select(['job']).distinct()\n",
    "df04.show()"
   ]
  },
  {
   "cell_type": "code",
   "execution_count": 57,
   "metadata": {},
   "outputs": [
    {
     "name": "stdout",
     "output_type": "stream",
     "text": [
      "+---------+\n",
      "|      job|\n",
      "+---------+\n",
      "|    CLERK|\n",
      "|  MANAGER|\n",
      "|PRESIDENT|\n",
      "|  ANALYST|\n",
      "|    CLERK|\n",
      "|  MANAGER|\n",
      "+---------+\n",
      "\n"
     ]
    }
   ],
   "source": [
    "df03.unionAll(df04).show()"
   ]
  },
  {
   "cell_type": "code",
   "execution_count": 58,
   "metadata": {},
   "outputs": [
    {
     "name": "stdout",
     "output_type": "stream",
     "text": [
      "+---------+\n",
      "|      job|\n",
      "+---------+\n",
      "|    CLERK|\n",
      "|  MANAGER|\n",
      "|PRESIDENT|\n",
      "|  ANALYST|\n",
      "|    CLERK|\n",
      "|  MANAGER|\n",
      "+---------+\n",
      "\n"
     ]
    }
   ],
   "source": [
    "#union returns same as unionAll ie. duplicate records\n",
    "df03.union(df04).show()"
   ]
  },
  {
   "cell_type": "code",
   "execution_count": 59,
   "metadata": {},
   "outputs": [
    {
     "name": "stdout",
     "output_type": "stream",
     "text": [
      "+---------+\n",
      "|      job|\n",
      "+---------+\n",
      "|  ANALYST|\n",
      "|    CLERK|\n",
      "|  MANAGER|\n",
      "|PRESIDENT|\n",
      "+---------+\n",
      "\n"
     ]
    }
   ],
   "source": [
    "# to remove duplicationfrom union\n",
    "df03.union(df04).distinct().show()"
   ]
  },
  {
   "cell_type": "code",
   "execution_count": 60,
   "metadata": {},
   "outputs": [
    {
     "name": "stdout",
     "output_type": "stream",
     "text": [
      "+-------+\n",
      "|    job|\n",
      "+-------+\n",
      "|  CLERK|\n",
      "|MANAGER|\n",
      "+-------+\n",
      "\n"
     ]
    }
   ],
   "source": [
    "df03.intersect(df04).show()"
   ]
  },
  {
   "cell_type": "code",
   "execution_count": 61,
   "metadata": {},
   "outputs": [
    {
     "name": "stdout",
     "output_type": "stream",
     "text": [
      "+---------+\n",
      "|      job|\n",
      "+---------+\n",
      "|PRESIDENT|\n",
      "+---------+\n",
      "\n"
     ]
    }
   ],
   "source": [
    "df03.subtract(df04).show()"
   ]
  },
  {
   "cell_type": "code",
   "execution_count": 62,
   "metadata": {},
   "outputs": [
    {
     "name": "stdout",
     "output_type": "stream",
     "text": [
      "+-------+\n",
      "|    job|\n",
      "+-------+\n",
      "|ANALYST|\n",
      "+-------+\n",
      "\n"
     ]
    }
   ],
   "source": [
    "df04.subtract(df03).show()"
   ]
  },
  {
   "cell_type": "code",
   "execution_count": 67,
   "metadata": {},
   "outputs": [],
   "source": [
    "spark.stop()"
   ]
  }
 ],
 "metadata": {
  "kernelspec": {
   "display_name": "Python 3",
   "language": "python",
   "name": "python3"
  },
  "language_info": {
   "codemirror_mode": {
    "name": "ipython",
    "version": 3
   },
   "file_extension": ".py",
   "mimetype": "text/x-python",
   "name": "python",
   "nbconvert_exporter": "python",
   "pygments_lexer": "ipython3",
   "version": "3.8.5"
  }
 },
 "nbformat": 4,
 "nbformat_minor": 4
}
