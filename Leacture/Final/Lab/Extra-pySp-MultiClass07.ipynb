{
 "cells": [
  {
   "cell_type": "markdown",
   "metadata": {},
   "source": [
    "### Confusion Matrix for Multi-Class Classification"
   ]
  },
  {
   "cell_type": "code",
   "execution_count": 1,
   "metadata": {},
   "outputs": [],
   "source": [
    "from pyspark.sql import SparkSession"
   ]
  },
  {
   "cell_type": "code",
   "execution_count": 2,
   "metadata": {},
   "outputs": [],
   "source": [
    "spark = SparkSession.builder.appName('ml-cls').getOrCreate()"
   ]
  },
  {
   "cell_type": "code",
   "execution_count": 3,
   "metadata": {},
   "outputs": [
    {
     "name": "stdout",
     "output_type": "stream",
     "text": [
      "root\n",
      " |-- sepalLength: double (nullable = true)\n",
      " |-- sepalWidth: double (nullable = true)\n",
      " |-- petalLength: double (nullable = true)\n",
      " |-- petalWidth: double (nullable = true)\n",
      " |-- variety: string (nullable = true)\n",
      "\n"
     ]
    }
   ],
   "source": [
    "df = spark.read.csv('D://DataSets//iris.csv', header = True, inferSchema = True)\n",
    "df.printSchema()"
   ]
  },
  {
   "cell_type": "code",
   "execution_count": 28,
   "metadata": {},
   "outputs": [
    {
     "name": "stdout",
     "output_type": "stream",
     "text": [
      "(150, 5)\n"
     ]
    }
   ],
   "source": [
    "print((df.count(), len(df.columns)))"
   ]
  },
  {
   "cell_type": "code",
   "execution_count": 49,
   "metadata": {},
   "outputs": [
    {
     "data": {
      "text/plain": [
       "['Setosa', 'Versicolor', 'Virginica']"
      ]
     },
     "execution_count": 49,
     "metadata": {},
     "output_type": "execute_result"
    }
   ],
   "source": [
    "lbls = [data[0] for data in df.select('variety').distinct().collect()]\n",
    "lbls.sort()\n",
    "lbls"
   ]
  },
  {
   "cell_type": "code",
   "execution_count": 13,
   "metadata": {},
   "outputs": [],
   "source": [
    "import pyspark.sql.functions as F "
   ]
  },
  {
   "cell_type": "code",
   "execution_count": 15,
   "metadata": {},
   "outputs": [
    {
     "name": "stdout",
     "output_type": "stream",
     "text": [
      "+----------+--------------+\n",
      "|   variety|count(variety)|\n",
      "+----------+--------------+\n",
      "| Virginica|            50|\n",
      "|    Setosa|            50|\n",
      "|Versicolor|            50|\n",
      "+----------+--------------+\n",
      "\n"
     ]
    }
   ],
   "source": [
    "# to know the count of each class\n",
    "df.groupby(df.variety).agg(F.count('variety')).show()"
   ]
  },
  {
   "cell_type": "code",
   "execution_count": 29,
   "metadata": {},
   "outputs": [],
   "source": [
    "#Separating independant variable and dependent variable(\"Species\")\n",
    "X = df.drop('variety')\n",
    "y = df['variety']"
   ]
  },
  {
   "cell_type": "code",
   "execution_count": 36,
   "metadata": {},
   "outputs": [
    {
     "name": "stdout",
     "output_type": "stream",
     "text": [
      "+-----------+----------+-----------+----------+\n",
      "|sepalLength|sepalWidth|petalLength|petalWidth|\n",
      "+-----------+----------+-----------+----------+\n",
      "|        5.1|       3.5|        1.4|       0.2|\n",
      "|        4.9|       3.0|        1.4|       0.2|\n",
      "|        4.7|       3.2|        1.3|       0.2|\n",
      "|        4.6|       3.1|        1.5|       0.2|\n",
      "|        5.0|       3.6|        1.4|       0.2|\n",
      "|        5.4|       3.9|        1.7|       0.4|\n",
      "|        4.6|       3.4|        1.4|       0.3|\n",
      "|        5.0|       3.4|        1.5|       0.2|\n",
      "|        4.4|       2.9|        1.4|       0.2|\n",
      "|        4.9|       3.1|        1.5|       0.1|\n",
      "|        5.4|       3.7|        1.5|       0.2|\n",
      "|        4.8|       3.4|        1.6|       0.2|\n",
      "|        4.8|       3.0|        1.4|       0.1|\n",
      "|        4.3|       3.0|        1.1|       0.1|\n",
      "|        5.8|       4.0|        1.2|       0.2|\n",
      "|        5.7|       4.4|        1.5|       0.4|\n",
      "|        5.4|       3.9|        1.3|       0.4|\n",
      "|        5.1|       3.5|        1.4|       0.3|\n",
      "|        5.7|       3.8|        1.7|       0.3|\n",
      "|        5.1|       3.8|        1.5|       0.3|\n",
      "+-----------+----------+-----------+----------+\n",
      "only showing top 20 rows\n",
      "\n"
     ]
    }
   ],
   "source": [
    "X.show()"
   ]
  },
  {
   "cell_type": "code",
   "execution_count": 37,
   "metadata": {},
   "outputs": [],
   "source": [
    "from pyspark.ml.feature import StringIndexer\n",
    "df1 = StringIndexer(inputCol=\"variety\", outputCol=\"variety_n\").fit(df)"
   ]
  },
  {
   "cell_type": "code",
   "execution_count": 41,
   "metadata": {},
   "outputs": [
    {
     "data": {
      "text/plain": [
       "DataFrame[sepalLength: double, sepalWidth: double, petalLength: double, petalWidth: double, variety: string, variety_n: double]"
      ]
     },
     "execution_count": 41,
     "metadata": {},
     "output_type": "execute_result"
    }
   ],
   "source": [
    "indexer = StringIndexer(inputCol='variety', outputCol='variety_n').fit(df)\n",
    "df1 = indexer.transform(df)\n",
    "df1.show(5)"
   ]
  },
  {
   "cell_type": "code",
   "execution_count": 30,
   "metadata": {},
   "outputs": [],
   "source": [
    "from pyspark.ml.feature import VectorAssembler"
   ]
  },
  {
   "cell_type": "code",
   "execution_count": 42,
   "metadata": {},
   "outputs": [
    {
     "name": "stdout",
     "output_type": "stream",
     "text": [
      "+-----------+----------+-----------+----------+-------+---------+-----------------+\n",
      "|sepalLength|sepalWidth|petalLength|petalWidth|variety|variety_n|features         |\n",
      "+-----------+----------+-----------+----------+-------+---------+-----------------+\n",
      "|5.1        |3.5       |1.4        |0.2       |Setosa |0.0      |[5.1,3.5,1.4,0.2]|\n",
      "|4.9        |3.0       |1.4        |0.2       |Setosa |0.0      |[4.9,3.0,1.4,0.2]|\n",
      "|4.7        |3.2       |1.3        |0.2       |Setosa |0.0      |[4.7,3.2,1.3,0.2]|\n",
      "|4.6        |3.1       |1.5        |0.2       |Setosa |0.0      |[4.6,3.1,1.5,0.2]|\n",
      "|5.0        |3.6       |1.4        |0.2       |Setosa |0.0      |[5.0,3.6,1.4,0.2]|\n",
      "+-----------+----------+-----------+----------+-------+---------+-----------------+\n",
      "only showing top 5 rows\n",
      "\n"
     ]
    }
   ],
   "source": [
    "assembler = VectorAssembler(inputCols=X.columns, outputCol='features')\n",
    "transformed_data = assembler.transform(df1)\n",
    "transformed_data.show(5, truncate=False)"
   ]
  },
  {
   "cell_type": "code",
   "execution_count": 50,
   "metadata": {},
   "outputs": [],
   "source": [
    "# Split the data\n",
    "(X_train, X_test) = transformed_data.randomSplit([0.8,0.2])"
   ]
  },
  {
   "cell_type": "code",
   "execution_count": 53,
   "metadata": {},
   "outputs": [],
   "source": [
    "from pyspark.ml.classification import DecisionTreeClassifier\n",
    "clf = DecisionTreeClassifier(featuresCol = 'features', labelCol = 'variety_n', maxDepth = 3)"
   ]
  },
  {
   "cell_type": "code",
   "execution_count": 54,
   "metadata": {},
   "outputs": [],
   "source": [
    "model = clf.fit(X_train)"
   ]
  },
  {
   "cell_type": "code",
   "execution_count": 56,
   "metadata": {},
   "outputs": [
    {
     "name": "stdout",
     "output_type": "stream",
     "text": [
      "+-----------+----------+-----------+----------+-------+---------+-----------------+--------------+-------------+----------+\n",
      "|sepalLength|sepalWidth|petalLength|petalWidth|variety|variety_n|         features| rawPrediction|  probability|prediction|\n",
      "+-----------+----------+-----------+----------+-------+---------+-----------------+--------------+-------------+----------+\n",
      "|        4.4|       3.2|        1.3|       0.2| Setosa|      0.0|[4.4,3.2,1.3,0.2]|[39.0,0.0,0.0]|[1.0,0.0,0.0]|       0.0|\n",
      "|        4.6|       3.1|        1.5|       0.2| Setosa|      0.0|[4.6,3.1,1.5,0.2]|[39.0,0.0,0.0]|[1.0,0.0,0.0]|       0.0|\n",
      "|        4.7|       3.2|        1.6|       0.2| Setosa|      0.0|[4.7,3.2,1.6,0.2]|[39.0,0.0,0.0]|[1.0,0.0,0.0]|       0.0|\n",
      "|        4.8|       3.0|        1.4|       0.1| Setosa|      0.0|[4.8,3.0,1.4,0.1]|[39.0,0.0,0.0]|[1.0,0.0,0.0]|       0.0|\n",
      "|        4.8|       3.1|        1.6|       0.2| Setosa|      0.0|[4.8,3.1,1.6,0.2]|[39.0,0.0,0.0]|[1.0,0.0,0.0]|       0.0|\n",
      "+-----------+----------+-----------+----------+-------+---------+-----------------+--------------+-------------+----------+\n",
      "only showing top 5 rows\n",
      "\n"
     ]
    }
   ],
   "source": [
    "#Testing the model using X_test and storing the output in y_pred\n",
    "predictions = model.transform(X_test)\n",
    "predictions.select(predictions.columns).show(5)"
   ]
  },
  {
   "cell_type": "code",
   "execution_count": 57,
   "metadata": {},
   "outputs": [
    {
     "name": "stdout",
     "output_type": "stream",
     "text": [
      "+---------+----------+-----+\n",
      "|variety_n|prediction|count|\n",
      "+---------+----------+-----+\n",
      "|      1.0|       1.0|    7|\n",
      "|      2.0|       2.0|   13|\n",
      "|      2.0|       1.0|    1|\n",
      "|      1.0|       2.0|    1|\n",
      "|      0.0|       0.0|   11|\n",
      "+---------+----------+-----+\n",
      "\n"
     ]
    }
   ],
   "source": [
    "predictions.groupBy('variety_n', 'prediction').count().show()"
   ]
  },
  {
   "cell_type": "code",
   "execution_count": 59,
   "metadata": {},
   "outputs": [],
   "source": [
    "y_test = predictions.select('variety_n').rdd.flatMap(list).collect()\n",
    "y_pred = predictions.select('prediction').rdd.flatMap(list).collect()"
   ]
  },
  {
   "cell_type": "code",
   "execution_count": 60,
   "metadata": {},
   "outputs": [
    {
     "data": {
      "text/plain": [
       "array([[11,  0,  0],\n",
       "       [ 0,  7,  1],\n",
       "       [ 0,  1, 13]], dtype=int64)"
      ]
     },
     "execution_count": 60,
     "metadata": {},
     "output_type": "execute_result"
    }
   ],
   "source": [
    "from sklearn.metrics import confusion_matrix\n",
    "# Creating  a confusion matrix,which compares the y_test and y_pred\n",
    "cm = confusion_matrix(y_test, y_pred)\n",
    "cm"
   ]
  },
  {
   "cell_type": "code",
   "execution_count": 62,
   "metadata": {},
   "outputs": [],
   "source": [
    "import seaborn as sns\n",
    "import matplotlib.pyplot as plt"
   ]
  },
  {
   "cell_type": "code",
   "execution_count": 64,
   "metadata": {},
   "outputs": [
    {
     "data": {
      "image/png": "[encoded data removed]",
      "text/plain": [
       "<Figure size 360x288 with 2 Axes>"
      ]
     },
     "metadata": {
      "needs_background": "light"
     },
     "output_type": "display_data"
    }
   ],
   "source": [
    "#Plotting the confusion matrix\n",
    "plt.figure(figsize=(5,4))\n",
    "sns.heatmap(cm, annot=True)\n",
    "plt.title('Confusion Matrix')\n",
    "plt.ylabel('Actal Values')\n",
    "plt.xlabel('Predicted Values')\n",
    "plt.show()"
   ]
  },
  {
   "cell_type": "code",
   "execution_count": 65,
   "metadata": {},
   "outputs": [],
   "source": [
    "#importing accuracy_score, precision_score, recall_score, f1_score\n",
    "from sklearn.metrics import accuracy_score, precision_score, recall_score, f1_score"
   ]
  },
  {
   "attachments": {
    "image-2.png": {
     "image/png": "[encoded data removed]"
    },
    "image.png": {
     "image/png": "[encoded data removed]"
    }
   },
   "cell_type": "markdown",
   "metadata": {},
   "source": [
    "## F1-score:\n",
    "\n",
    "It combines precision and recall into a single measure. Mathematically it’s the harmonic mean of precision and recall. It can be calculated as follows:\n",
    "![image.png](attachment:image.png)\n",
    "Now, in a perfect world, we’d want a model that has a precision of 1 and a recall of 1. \n",
    "\n",
    "That means a F1-score of 1, i.e. a 100% accuracy which is often not the case for a machine learning model. \n",
    "\n",
    "So what we should try, is to get a higher precision with a higher recall value. \n",
    "\n",
    "Okay, now that we know about the performance measures for confusion matrix, Let’s see how we can use that in a multi-class machine learning model.\n",
    "\n",
    "### Micro F1\n",
    "This is called micro-averaged F1-score. It is calculated by considering the total TP, total FP and total FN of the model. It does not consider each class individually, It calculates the metrics globally. So for our example,\n",
    "![image-2.png](attachment:image-2.png)\n",
    "\n",
    "Total TP = (7+2+1) = 10\n",
    "\n",
    "Total FP = (8+9)+(1+3)+(3+2) = 26\n",
    "\n",
    "Total FN = (1+3)+(8+2)+(9+3) = 26\n",
    "\n",
    "Hence,\n",
    "\n",
    "Precision = 10/(10+26) = 0.28\n",
    "\n",
    "Recall = 10/(10+26) = 0.28\n",
    "\n",
    "### Macro F1\n",
    "This is macro-averaged F1-score. It calculates metrics for each class individually and then takes unweighted mean of the measures. \n",
    "\n",
    "So for our example,\n",
    "\n",
    "Class Apple F1-score = 0.40\n",
    "\n",
    "Class Orange F1-score = 0.22\n",
    "\n",
    "Class Mango F1-score = 0.11\n",
    "\n",
    "Hence,\n",
    "\n",
    "Macro F1 = (0.40+0.22+0.11)/3 = 0.24\n",
    "\n",
    "### Weighted F1\n",
    "The last one is weighted-averaged F1-score. Unlike Macro F1, it takes a weighted mean of the measures. \n",
    "\n",
    "The weights for each class are the total number of samples of that class. \n",
    "\n",
    "Since we had 11 Apples, 12 Oranges and 13 Mangoes,\n",
    "\n",
    "Weighted F1 = ((0.40*11)+(0.22*12)+(0.11*13))/(11+12+13) = 0.24\n",
    "\n"
   ]
  },
  {
   "cell_type": "code",
   "execution_count": 66,
   "metadata": {},
   "outputs": [
    {
     "name": "stdout",
     "output_type": "stream",
     "text": [
      "\n",
      "Accuracy: 0.94\n",
      "\n",
      "Micro Precision: 0.94\n",
      "Micro Recall: 0.94\n",
      "Micro F1-score: 0.94\n",
      "\n",
      "Macro Precision: 0.93\n",
      "Macro Recall: 0.93\n",
      "Macro F1-score: 0.93\n",
      "\n",
      "Weighted Precision: 0.94\n",
      "Weighted Recall: 0.94\n",
      "Weighted F1-score: 0.94\n",
      "\n",
      "Classification Report\n",
      "\n",
      "              precision    recall  f1-score   support\n",
      "\n",
      "      Setosa       1.00      1.00      1.00        11\n",
      "  Versicolor       0.88      0.88      0.88         8\n",
      "   Virginica       0.93      0.93      0.93        14\n",
      "\n",
      "    accuracy                           0.94        33\n",
      "   macro avg       0.93      0.93      0.93        33\n",
      "weighted avg       0.94      0.94      0.94        33\n",
      "\n"
     ]
    }
   ],
   "source": [
    "print('\\nAccuracy: {:.2f}\\n'.format(accuracy_score(y_test, y_pred)))\n",
    "\n",
    "print('Micro Precision: {:.2f}'.format(precision_score(y_test, y_pred, average='micro')))\n",
    "print('Micro Recall: {:.2f}'.format(recall_score(y_test, y_pred, average='micro')))\n",
    "print('Micro F1-score: {:.2f}\\n'.format(f1_score(y_test, y_pred, average='micro')))\n",
    "\n",
    "print('Macro Precision: {:.2f}'.format(precision_score(y_test, y_pred, average='macro')))\n",
    "print('Macro Recall: {:.2f}'.format(recall_score(y_test, y_pred, average='macro')))\n",
    "print('Macro F1-score: {:.2f}\\n'.format(f1_score(y_test, y_pred, average='macro')))\n",
    "\n",
    "print('Weighted Precision: {:.2f}'.format(precision_score(y_test, y_pred, average='weighted')))\n",
    "print('Weighted Recall: {:.2f}'.format(recall_score(y_test, y_pred, average='weighted')))\n",
    "print('Weighted F1-score: {:.2f}'.format(f1_score(y_test, y_pred, average='weighted')))\n",
    "\n",
    "from sklearn.metrics import classification_report\n",
    "print('\\nClassification Report\\n')\n",
    "print(classification_report(y_test, y_pred, target_names=lbls))"
   ]
  },
  {
   "cell_type": "code",
   "execution_count": null,
   "metadata": {},
   "outputs": [],
   "source": []
  }
 ],
 "metadata": {
  "kernelspec": {
   "display_name": "Python 3",
   "language": "python",
   "name": "python3"
  },
  "language_info": {
   "codemirror_mode": {
    "name": "ipython",
    "version": 3
   },
   "file_extension": ".py",
   "mimetype": "text/x-python",
   "name": "python",
   "nbconvert_exporter": "python",
   "pygments_lexer": "ipython3",
   "version": "3.8.5"
  }
 },
 "nbformat": 4,
 "nbformat_minor": 4
}
