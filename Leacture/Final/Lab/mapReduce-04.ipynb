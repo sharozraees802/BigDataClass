{
 "cells": [
  {
   "cell_type": "code",
   "execution_count": 1,
   "metadata": {},
   "outputs": [],
   "source": [
    "from pyspark.sql import SparkSession"
   ]
  },
  {
   "cell_type": "code",
   "execution_count": 2,
   "metadata": {},
   "outputs": [],
   "source": [
    "spark = SparkSession.builder.appName(\"pySpWordCountCSV\").getOrCreate()"
   ]
  },
  {
   "cell_type": "code",
   "execution_count": 3,
   "metadata": {},
   "outputs": [],
   "source": [
    "spark.conf.set(\"spark.sql.legacy.timeParserPolicy\",\"LEGACY\")"
   ]
  },
  {
   "cell_type": "code",
   "execution_count": 4,
   "metadata": {},
   "outputs": [],
   "source": [
    "df = spark.read.csv('D:/DataSets/emp.csv', header = True)"
   ]
  },
  {
   "cell_type": "code",
   "execution_count": 5,
   "metadata": {},
   "outputs": [
    {
     "data": {
      "text/plain": [
       "['empno', 'ename', 'job', 'mgr', 'hiredate', 'sal', 'comm', 'deptno']"
      ]
     },
     "execution_count": 5,
     "metadata": {},
     "output_type": "execute_result"
    }
   ],
   "source": [
    "df.columns"
   ]
  },
  {
   "cell_type": "code",
   "execution_count": 6,
   "metadata": {},
   "outputs": [
    {
     "name": "stdout",
     "output_type": "stream",
     "text": [
      "+-----+------+---------+----+----------+----+----+------+\n",
      "|empno| ename|      job| mgr|  hiredate| sal|comm|deptno|\n",
      "+-----+------+---------+----+----------+----+----+------+\n",
      "| 7839|  KING|PRESIDENT|null|11/17/2001|5000|null|    10|\n",
      "| 7698| BLAKE|  MANAGER|7839|05/01/2001|2850|null|    30|\n",
      "| 7782| CLARK|  MANAGER|7839|06/09/2001|2450|null|    10|\n",
      "| 7566| JONES|  MANAGER|7839|04/02/2001|2975|null|    20|\n",
      "| 7654|MARTIN| SALESMAN|7698|09/28/2001|1250|1400|    30|\n",
      "| 7499| ALLEN| SALESMAN|7698|02/20/2001|1600| 300|    30|\n",
      "| 7844|TURNER| SALESMAN|7698|09/08/2001|1500|   0|    30|\n",
      "| 7900| JAMES|    CLERK|7698|12/03/2001| 950|null|    30|\n",
      "| 7521|  WARD| SALESMAN|7698|02/22/2001|1250| 500|    30|\n",
      "| 7902|  FORD|  ANALYST|7566|02/03/2001|3000|null|    20|\n",
      "| 7369| SMITH|    CLERK|7902|12/17/2000| 800|null|    20|\n",
      "| 7788| SCOTT|  ANALYST|7566|04/19/2007|3000|null|    20|\n",
      "| 7876| ADAMS|    CLERK|7788|05/23/2007|1100|null|    20|\n",
      "| 7934|MILLER|    CLERK|7782|01/23/2002|1300|null|    10|\n",
      "+-----+------+---------+----+----------+----+----+------+\n",
      "\n"
     ]
    }
   ],
   "source": [
    "df.show()"
   ]
  },
  {
   "cell_type": "code",
   "execution_count": 7,
   "metadata": {},
   "outputs": [],
   "source": [
    "dfrdd = df.rdd"
   ]
  },
  {
   "cell_type": "code",
   "execution_count": 8,
   "metadata": {},
   "outputs": [],
   "source": [
    "#Apply map() transformation\n",
    "jobMap=dfrdd.map(lambda x: [x[2], int(x[5])])"
   ]
  },
  {
   "cell_type": "code",
   "execution_count": 9,
   "metadata": {},
   "outputs": [
    {
     "data": {
      "text/plain": [
       "[['PRESIDENT', 5000],\n",
       " ['MANAGER', 2850],\n",
       " ['MANAGER', 2450],\n",
       " ['MANAGER', 2975],\n",
       " ['SALESMAN', 1250],\n",
       " ['SALESMAN', 1600],\n",
       " ['SALESMAN', 1500],\n",
       " ['CLERK', 950],\n",
       " ['SALESMAN', 1250],\n",
       " ['ANALYST', 3000],\n",
       " ['CLERK', 800],\n",
       " ['ANALYST', 3000],\n",
       " ['CLERK', 1100],\n",
       " ['CLERK', 1300]]"
      ]
     },
     "execution_count": 9,
     "metadata": {},
     "output_type": "execute_result"
    }
   ],
   "source": [
    "jbMp = jobMap.collect()\n",
    "jbMp"
   ]
  },
  {
   "cell_type": "code",
   "execution_count": 10,
   "metadata": {},
   "outputs": [],
   "source": [
    "smSal = jobMap.reduceByKey(lambda a,b : a+b)"
   ]
  },
  {
   "cell_type": "code",
   "execution_count": 11,
   "metadata": {},
   "outputs": [
    {
     "data": {
      "text/plain": [
       "[('PRESIDENT', 5000),\n",
       " ('MANAGER', 8275),\n",
       " ('SALESMAN', 5600),\n",
       " ('CLERK', 4150),\n",
       " ('ANALYST', 6000)]"
      ]
     },
     "execution_count": 11,
     "metadata": {},
     "output_type": "execute_result"
    }
   ],
   "source": [
    "smSl = smSal.collect()\n",
    "smSl"
   ]
  },
  {
   "cell_type": "code",
   "execution_count": 12,
   "metadata": {},
   "outputs": [],
   "source": [
    "dfSmSal = spark.createDataFrame(smSl,[\"Job\",\"smSal\"])"
   ]
  },
  {
   "cell_type": "code",
   "execution_count": 13,
   "metadata": {},
   "outputs": [
    {
     "name": "stdout",
     "output_type": "stream",
     "text": [
      "+---------+-----+\n",
      "|      Job|smSal|\n",
      "+---------+-----+\n",
      "|PRESIDENT| 5000|\n",
      "|  MANAGER| 8275|\n",
      "| SALESMAN| 5600|\n",
      "|    CLERK| 4150|\n",
      "|  ANALYST| 6000|\n",
      "+---------+-----+\n",
      "\n"
     ]
    }
   ],
   "source": [
    "dfSmSal.show()"
   ]
  },
  {
   "cell_type": "code",
   "execution_count": 15,
   "metadata": {},
   "outputs": [],
   "source": [
    "spark.stop()"
   ]
  },
  {
   "cell_type": "code",
   "execution_count": null,
   "metadata": {},
   "outputs": [],
   "source": []
  }
 ],
 "metadata": {
  "kernelspec": {
   "display_name": "Python 3",
   "language": "python",
   "name": "python3"
  },
  "language_info": {
   "codemirror_mode": {
    "name": "ipython",
    "version": 3
   },
   "file_extension": ".py",
   "mimetype": "text/x-python",
   "name": "python",
   "nbconvert_exporter": "python",
   "pygments_lexer": "ipython3",
   "version": "3.8.5"
  }
 },
 "nbformat": 4,
 "nbformat_minor": 4
}
